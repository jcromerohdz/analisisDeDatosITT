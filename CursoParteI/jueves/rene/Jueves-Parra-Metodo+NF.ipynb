{
 "cells": [
  {
   "cell_type": "markdown",
   "metadata": {},
   "source": [
    "# _k-NN VECINO CERCANO MODELO  (cada vez mas cercano)_\n",
    "\n",
    "## Determinar casos de clases donde k -- puede ser 0,x,x,0 en la literatura el ¨k¨ recomiendo ser numero-non como el ¨3¨o el ¨1¨, no se recomienda el numero par porque se trabaja mucho\n",
    "\n",
    "# r=sqr(xi-ji) para los vectores\n",
    "\n",
    "# De todos los datos por lo regular son 50% datos para entrenar y otros para probar, hay otros 70% a 30%\n",
    "\n",
    "# Set de entrenamiento (grafica de x y o en ejes simples)\n",
    "# v=[0.5,0.3,0.4,0.5] ---> y la clase da un total de 5 valores, Claro de la misma medida los datasets.\n",
    "\n"
   ]
  },
  {
   "cell_type": "markdown",
   "metadata": {},
   "source": [
    "----\n",
    "# Descargar IRIS DATASET CSV !! de Google\n",
    "https://en.wikipedia.org/wiki/Iris_flower_data_set\n",
    "\n",
    "\n",
    "# UCI Learning Machine muy famosa pagina de datos.\n",
    "http://archive.ics.uci.edu/ml/index.php\n",
    "----"
   ]
  },
  {
   "cell_type": "markdown",
   "metadata": {},
   "source": [
    "----\n",
    "## IRIS DATASET. https://archive.ics.uci.edu/ml/machine-learning-databases/iris/iris.data\n",
    "\n",
    "## https://pandas.pydata.org/pandas-docs/stable/groupby.html\n",
    "----"
   ]
  },
  {
   "cell_type": "code",
   "execution_count": 7,
   "metadata": {
    "collapsed": false
   },
   "outputs": [
    {
     "data": {
      "text/html": [
       "<img src=\"https://i.ytimg.com/vi/v6278Cjf_qA/hqdefault.jpg\"/>"
      ],
      "text/plain": [
       "<IPython.core.display.Image object>"
      ]
     },
     "execution_count": 7,
     "metadata": {},
     "output_type": "execute_result"
    }
   ],
   "source": [
    "from IPython.display import Image\n",
    "from IPython.core.display import HTML \n",
    "Image(url= \"https://i.ytimg.com/vi/v6278Cjf_qA/hqdefault.jpg\")\n"
   ]
  },
  {
   "cell_type": "code",
   "execution_count": 6,
   "metadata": {
    "collapsed": false
   },
   "outputs": [
    {
     "data": {
      "text/html": [
       "<img src=\"https://qph.ec.quoracdn.net/main-qimg-f632e3643514abd7abb51f074bd6ecb1-c\"/>"
      ],
      "text/plain": [
       "<IPython.core.display.Image object>"
      ]
     },
     "execution_count": 6,
     "metadata": {},
     "output_type": "execute_result"
    }
   ],
   "source": [
    "Image(url= \"https://qph.ec.quoracdn.net/main-qimg-f632e3643514abd7abb51f074bd6ecb1-c\")"
   ]
  },
  {
   "cell_type": "code",
   "execution_count": 76,
   "metadata": {
    "collapsed": false
   },
   "outputs": [
    {
     "data": {
      "text/html": [
       "<img src=\"https://image.slidesharecdn.com/accap7nb-110428075620-phpapp01/95/lesson-71-naive-bayes-classifier-17-638.jpg?cb=1404992657\"/>"
      ],
      "text/plain": [
       "<IPython.core.display.Image object>"
      ]
     },
     "execution_count": 76,
     "metadata": {},
     "output_type": "execute_result"
    }
   ],
   "source": [
    "import pandas as pd\n",
    "df = pd.read_csv('iris.csv') # Se editaron sl,sw,pl,pw,clase\n",
    "Image(url= \"https://image.slidesharecdn.com/accap7nb-110428075620-phpapp01/95/lesson-71-naive-bayes-classifier-17-638.jpg?cb=1404992657\" )"
   ]
  },
  {
   "cell_type": "code",
   "execution_count": 33,
   "metadata": {
    "collapsed": false
   },
   "outputs": [
    {
     "data": {
      "text/plain": [
       "150"
      ]
     },
     "execution_count": 33,
     "metadata": {},
     "output_type": "execute_result"
    }
   ],
   "source": [
    "len(df) # 149 rows x 5 columnas, son 3 clases \"setosa\",etc.. requere 50 datos "
   ]
  },
  {
   "cell_type": "code",
   "execution_count": 34,
   "metadata": {
    "collapsed": true
   },
   "outputs": [],
   "source": [
    "# SEPARACION DE DATOS y modificar el archivo(sl,sw,pl,pw,clase)"
   ]
  },
  {
   "cell_type": "code",
   "execution_count": 36,
   "metadata": {
    "collapsed": false
   },
   "outputs": [
    {
     "data": {
      "text/plain": [
       "0      5.1\n",
       "1      4.9\n",
       "2      4.7\n",
       "3      4.6\n",
       "4      5.0\n",
       "5      5.4\n",
       "6      4.6\n",
       "7      5.0\n",
       "8      4.4\n",
       "9      4.9\n",
       "10     5.4\n",
       "11     4.8\n",
       "12     4.8\n",
       "13     4.3\n",
       "14     5.8\n",
       "15     5.7\n",
       "16     5.4\n",
       "17     5.1\n",
       "18     5.7\n",
       "19     5.1\n",
       "20     5.4\n",
       "21     5.1\n",
       "22     4.6\n",
       "23     5.1\n",
       "24     4.8\n",
       "25     5.0\n",
       "26     5.0\n",
       "27     5.2\n",
       "28     5.2\n",
       "29     4.7\n",
       "      ... \n",
       "120    6.9\n",
       "121    5.6\n",
       "122    7.7\n",
       "123    6.3\n",
       "124    6.7\n",
       "125    7.2\n",
       "126    6.2\n",
       "127    6.1\n",
       "128    6.4\n",
       "129    7.2\n",
       "130    7.4\n",
       "131    7.9\n",
       "132    6.4\n",
       "133    6.3\n",
       "134    6.1\n",
       "135    7.7\n",
       "136    6.3\n",
       "137    6.4\n",
       "138    6.0\n",
       "139    6.9\n",
       "140    6.7\n",
       "141    6.9\n",
       "142    5.8\n",
       "143    6.8\n",
       "144    6.7\n",
       "145    6.7\n",
       "146    6.3\n",
       "147    6.5\n",
       "148    6.2\n",
       "149    5.9\n",
       "Name: sl, dtype: float64"
      ]
     },
     "execution_count": 36,
     "metadata": {},
     "output_type": "execute_result"
    }
   ],
   "source": [
    "df.sl # Otra forma de acceder a las columnas"
   ]
  },
  {
   "cell_type": "code",
   "execution_count": 39,
   "metadata": {
    "collapsed": false
   },
   "outputs": [
    {
     "data": {
      "text/html": [
       "<div>\n",
       "<table border=\"1\" class=\"dataframe\">\n",
       "  <thead>\n",
       "    <tr style=\"text-align: right;\">\n",
       "      <th></th>\n",
       "      <th>sl</th>\n",
       "      <th>sw</th>\n",
       "    </tr>\n",
       "  </thead>\n",
       "  <tbody>\n",
       "    <tr>\n",
       "      <th>0</th>\n",
       "      <td>5.1</td>\n",
       "      <td>3.5</td>\n",
       "    </tr>\n",
       "    <tr>\n",
       "      <th>1</th>\n",
       "      <td>4.9</td>\n",
       "      <td>3.0</td>\n",
       "    </tr>\n",
       "    <tr>\n",
       "      <th>2</th>\n",
       "      <td>4.7</td>\n",
       "      <td>3.2</td>\n",
       "    </tr>\n",
       "    <tr>\n",
       "      <th>3</th>\n",
       "      <td>4.6</td>\n",
       "      <td>3.1</td>\n",
       "    </tr>\n",
       "    <tr>\n",
       "      <th>4</th>\n",
       "      <td>5.0</td>\n",
       "      <td>3.6</td>\n",
       "    </tr>\n",
       "    <tr>\n",
       "      <th>5</th>\n",
       "      <td>5.4</td>\n",
       "      <td>3.9</td>\n",
       "    </tr>\n",
       "    <tr>\n",
       "      <th>6</th>\n",
       "      <td>4.6</td>\n",
       "      <td>3.4</td>\n",
       "    </tr>\n",
       "    <tr>\n",
       "      <th>7</th>\n",
       "      <td>5.0</td>\n",
       "      <td>3.4</td>\n",
       "    </tr>\n",
       "    <tr>\n",
       "      <th>8</th>\n",
       "      <td>4.4</td>\n",
       "      <td>2.9</td>\n",
       "    </tr>\n",
       "    <tr>\n",
       "      <th>9</th>\n",
       "      <td>4.9</td>\n",
       "      <td>3.1</td>\n",
       "    </tr>\n",
       "    <tr>\n",
       "      <th>10</th>\n",
       "      <td>5.4</td>\n",
       "      <td>3.7</td>\n",
       "    </tr>\n",
       "    <tr>\n",
       "      <th>11</th>\n",
       "      <td>4.8</td>\n",
       "      <td>3.4</td>\n",
       "    </tr>\n",
       "    <tr>\n",
       "      <th>12</th>\n",
       "      <td>4.8</td>\n",
       "      <td>3.0</td>\n",
       "    </tr>\n",
       "    <tr>\n",
       "      <th>13</th>\n",
       "      <td>4.3</td>\n",
       "      <td>3.0</td>\n",
       "    </tr>\n",
       "    <tr>\n",
       "      <th>14</th>\n",
       "      <td>5.8</td>\n",
       "      <td>4.0</td>\n",
       "    </tr>\n",
       "    <tr>\n",
       "      <th>15</th>\n",
       "      <td>5.7</td>\n",
       "      <td>4.4</td>\n",
       "    </tr>\n",
       "    <tr>\n",
       "      <th>16</th>\n",
       "      <td>5.4</td>\n",
       "      <td>3.9</td>\n",
       "    </tr>\n",
       "    <tr>\n",
       "      <th>17</th>\n",
       "      <td>5.1</td>\n",
       "      <td>3.5</td>\n",
       "    </tr>\n",
       "    <tr>\n",
       "      <th>18</th>\n",
       "      <td>5.7</td>\n",
       "      <td>3.8</td>\n",
       "    </tr>\n",
       "    <tr>\n",
       "      <th>19</th>\n",
       "      <td>5.1</td>\n",
       "      <td>3.8</td>\n",
       "    </tr>\n",
       "    <tr>\n",
       "      <th>20</th>\n",
       "      <td>5.4</td>\n",
       "      <td>3.4</td>\n",
       "    </tr>\n",
       "    <tr>\n",
       "      <th>21</th>\n",
       "      <td>5.1</td>\n",
       "      <td>3.7</td>\n",
       "    </tr>\n",
       "    <tr>\n",
       "      <th>22</th>\n",
       "      <td>4.6</td>\n",
       "      <td>3.6</td>\n",
       "    </tr>\n",
       "    <tr>\n",
       "      <th>23</th>\n",
       "      <td>5.1</td>\n",
       "      <td>3.3</td>\n",
       "    </tr>\n",
       "    <tr>\n",
       "      <th>24</th>\n",
       "      <td>4.8</td>\n",
       "      <td>3.4</td>\n",
       "    </tr>\n",
       "    <tr>\n",
       "      <th>25</th>\n",
       "      <td>5.0</td>\n",
       "      <td>3.0</td>\n",
       "    </tr>\n",
       "    <tr>\n",
       "      <th>26</th>\n",
       "      <td>5.0</td>\n",
       "      <td>3.4</td>\n",
       "    </tr>\n",
       "    <tr>\n",
       "      <th>27</th>\n",
       "      <td>5.2</td>\n",
       "      <td>3.5</td>\n",
       "    </tr>\n",
       "    <tr>\n",
       "      <th>28</th>\n",
       "      <td>5.2</td>\n",
       "      <td>3.4</td>\n",
       "    </tr>\n",
       "    <tr>\n",
       "      <th>29</th>\n",
       "      <td>4.7</td>\n",
       "      <td>3.2</td>\n",
       "    </tr>\n",
       "    <tr>\n",
       "      <th>...</th>\n",
       "      <td>...</td>\n",
       "      <td>...</td>\n",
       "    </tr>\n",
       "    <tr>\n",
       "      <th>120</th>\n",
       "      <td>6.9</td>\n",
       "      <td>3.2</td>\n",
       "    </tr>\n",
       "    <tr>\n",
       "      <th>121</th>\n",
       "      <td>5.6</td>\n",
       "      <td>2.8</td>\n",
       "    </tr>\n",
       "    <tr>\n",
       "      <th>122</th>\n",
       "      <td>7.7</td>\n",
       "      <td>2.8</td>\n",
       "    </tr>\n",
       "    <tr>\n",
       "      <th>123</th>\n",
       "      <td>6.3</td>\n",
       "      <td>2.7</td>\n",
       "    </tr>\n",
       "    <tr>\n",
       "      <th>124</th>\n",
       "      <td>6.7</td>\n",
       "      <td>3.3</td>\n",
       "    </tr>\n",
       "    <tr>\n",
       "      <th>125</th>\n",
       "      <td>7.2</td>\n",
       "      <td>3.2</td>\n",
       "    </tr>\n",
       "    <tr>\n",
       "      <th>126</th>\n",
       "      <td>6.2</td>\n",
       "      <td>2.8</td>\n",
       "    </tr>\n",
       "    <tr>\n",
       "      <th>127</th>\n",
       "      <td>6.1</td>\n",
       "      <td>3.0</td>\n",
       "    </tr>\n",
       "    <tr>\n",
       "      <th>128</th>\n",
       "      <td>6.4</td>\n",
       "      <td>2.8</td>\n",
       "    </tr>\n",
       "    <tr>\n",
       "      <th>129</th>\n",
       "      <td>7.2</td>\n",
       "      <td>3.0</td>\n",
       "    </tr>\n",
       "    <tr>\n",
       "      <th>130</th>\n",
       "      <td>7.4</td>\n",
       "      <td>2.8</td>\n",
       "    </tr>\n",
       "    <tr>\n",
       "      <th>131</th>\n",
       "      <td>7.9</td>\n",
       "      <td>3.8</td>\n",
       "    </tr>\n",
       "    <tr>\n",
       "      <th>132</th>\n",
       "      <td>6.4</td>\n",
       "      <td>2.8</td>\n",
       "    </tr>\n",
       "    <tr>\n",
       "      <th>133</th>\n",
       "      <td>6.3</td>\n",
       "      <td>2.8</td>\n",
       "    </tr>\n",
       "    <tr>\n",
       "      <th>134</th>\n",
       "      <td>6.1</td>\n",
       "      <td>2.6</td>\n",
       "    </tr>\n",
       "    <tr>\n",
       "      <th>135</th>\n",
       "      <td>7.7</td>\n",
       "      <td>3.0</td>\n",
       "    </tr>\n",
       "    <tr>\n",
       "      <th>136</th>\n",
       "      <td>6.3</td>\n",
       "      <td>3.4</td>\n",
       "    </tr>\n",
       "    <tr>\n",
       "      <th>137</th>\n",
       "      <td>6.4</td>\n",
       "      <td>3.1</td>\n",
       "    </tr>\n",
       "    <tr>\n",
       "      <th>138</th>\n",
       "      <td>6.0</td>\n",
       "      <td>3.0</td>\n",
       "    </tr>\n",
       "    <tr>\n",
       "      <th>139</th>\n",
       "      <td>6.9</td>\n",
       "      <td>3.1</td>\n",
       "    </tr>\n",
       "    <tr>\n",
       "      <th>140</th>\n",
       "      <td>6.7</td>\n",
       "      <td>3.1</td>\n",
       "    </tr>\n",
       "    <tr>\n",
       "      <th>141</th>\n",
       "      <td>6.9</td>\n",
       "      <td>3.1</td>\n",
       "    </tr>\n",
       "    <tr>\n",
       "      <th>142</th>\n",
       "      <td>5.8</td>\n",
       "      <td>2.7</td>\n",
       "    </tr>\n",
       "    <tr>\n",
       "      <th>143</th>\n",
       "      <td>6.8</td>\n",
       "      <td>3.2</td>\n",
       "    </tr>\n",
       "    <tr>\n",
       "      <th>144</th>\n",
       "      <td>6.7</td>\n",
       "      <td>3.3</td>\n",
       "    </tr>\n",
       "    <tr>\n",
       "      <th>145</th>\n",
       "      <td>6.7</td>\n",
       "      <td>3.0</td>\n",
       "    </tr>\n",
       "    <tr>\n",
       "      <th>146</th>\n",
       "      <td>6.3</td>\n",
       "      <td>2.5</td>\n",
       "    </tr>\n",
       "    <tr>\n",
       "      <th>147</th>\n",
       "      <td>6.5</td>\n",
       "      <td>3.0</td>\n",
       "    </tr>\n",
       "    <tr>\n",
       "      <th>148</th>\n",
       "      <td>6.2</td>\n",
       "      <td>3.4</td>\n",
       "    </tr>\n",
       "    <tr>\n",
       "      <th>149</th>\n",
       "      <td>5.9</td>\n",
       "      <td>3.0</td>\n",
       "    </tr>\n",
       "  </tbody>\n",
       "</table>\n",
       "<p>150 rows × 2 columns</p>\n",
       "</div>"
      ],
      "text/plain": [
       "      sl   sw\n",
       "0    5.1  3.5\n",
       "1    4.9  3.0\n",
       "2    4.7  3.2\n",
       "3    4.6  3.1\n",
       "4    5.0  3.6\n",
       "5    5.4  3.9\n",
       "6    4.6  3.4\n",
       "7    5.0  3.4\n",
       "8    4.4  2.9\n",
       "9    4.9  3.1\n",
       "10   5.4  3.7\n",
       "11   4.8  3.4\n",
       "12   4.8  3.0\n",
       "13   4.3  3.0\n",
       "14   5.8  4.0\n",
       "15   5.7  4.4\n",
       "16   5.4  3.9\n",
       "17   5.1  3.5\n",
       "18   5.7  3.8\n",
       "19   5.1  3.8\n",
       "20   5.4  3.4\n",
       "21   5.1  3.7\n",
       "22   4.6  3.6\n",
       "23   5.1  3.3\n",
       "24   4.8  3.4\n",
       "25   5.0  3.0\n",
       "26   5.0  3.4\n",
       "27   5.2  3.5\n",
       "28   5.2  3.4\n",
       "29   4.7  3.2\n",
       "..   ...  ...\n",
       "120  6.9  3.2\n",
       "121  5.6  2.8\n",
       "122  7.7  2.8\n",
       "123  6.3  2.7\n",
       "124  6.7  3.3\n",
       "125  7.2  3.2\n",
       "126  6.2  2.8\n",
       "127  6.1  3.0\n",
       "128  6.4  2.8\n",
       "129  7.2  3.0\n",
       "130  7.4  2.8\n",
       "131  7.9  3.8\n",
       "132  6.4  2.8\n",
       "133  6.3  2.8\n",
       "134  6.1  2.6\n",
       "135  7.7  3.0\n",
       "136  6.3  3.4\n",
       "137  6.4  3.1\n",
       "138  6.0  3.0\n",
       "139  6.9  3.1\n",
       "140  6.7  3.1\n",
       "141  6.9  3.1\n",
       "142  5.8  2.7\n",
       "143  6.8  3.2\n",
       "144  6.7  3.3\n",
       "145  6.7  3.0\n",
       "146  6.3  2.5\n",
       "147  6.5  3.0\n",
       "148  6.2  3.4\n",
       "149  5.9  3.0\n",
       "\n",
       "[150 rows x 2 columns]"
      ]
     },
     "execution_count": 39,
     "metadata": {},
     "output_type": "execute_result"
    }
   ],
   "source": [
    "# otra forma de accear\n",
    "df[['sl','sw']]"
   ]
  },
  {
   "cell_type": "markdown",
   "metadata": {},
   "source": [
    "# AGRUPACIONES Y TOMAS DE MUESTRAS DE LAS 3 CLASES\n"
   ]
  },
  {
   "cell_type": "code",
   "execution_count": 70,
   "metadata": {
    "collapsed": false
   },
   "outputs": [],
   "source": [
    "# Por agrupación generar otro dataframe SETOSA\n",
    "df_setosa = df[df['clase'] == 'Iris-setosa']\n",
    "# Como partir datos\n",
    "df_setosa[:25] # apartir de : tomas todos los que restan y debemos guardarlo\n",
    "df_setosa_train = df_setosa[:25] # datos para entrenar\n",
    "df_setosa_test = df_setosa[-25:] # para previos\n",
    "#"
   ]
  },
  {
   "cell_type": "code",
   "execution_count": 71,
   "metadata": {
    "collapsed": false
   },
   "outputs": [],
   "source": [
    "# Por agrupación generar otro dataframe VERSICOLOR\n",
    "df_versicolor = df[df['clase'] == 'Iris-versicolor']\n",
    "# Como partir datos versicolor\n",
    "df_versicolor[:25] # apartir de : tomas todos los que restan y debemos guardarlo\n",
    "df_versicolor_train = df_versicolor[:25] # datos para entrenar\n",
    "df_versicolor_test = df_versicolor[-25:] # para previos\n",
    "#"
   ]
  },
  {
   "cell_type": "code",
   "execution_count": 72,
   "metadata": {
    "collapsed": true
   },
   "outputs": [],
   "source": [
    "# Por agrupación generar otro dataframe VIRGINICA, TIENE 40+ casos\n",
    "df_virginica = df[df['clase'] == 'Iris-virginica']\n",
    "# Como partir datos virginica\n",
    "df_virginica[:25] # apartir de : tomas todos los que restan y debemos guardarlo\n",
    "df_virginica_train = df_virginica[:25] # datos para entrenar\n",
    "df_virginica_test = df_virginica[-25:] # para previos\n",
    "#"
   ]
  },
  {
   "cell_type": "code",
   "execution_count": 74,
   "metadata": {
    "collapsed": false
   },
   "outputs": [
    {
     "data": {
      "text/html": [
       "<img src=\"https://sebastianraschka.com/images/blog/2015/principal_component_analysis_files/iris.png\"/>"
      ],
      "text/plain": [
       "<IPython.core.display.Image object>"
      ]
     },
     "execution_count": 74,
     "metadata": {},
     "output_type": "execute_result"
    }
   ],
   "source": [
    "Image(url= \"https://sebastianraschka.com/images/blog/2015/principal_component_analysis_files/iris.png\")"
   ]
  },
  {
   "cell_type": "code",
   "execution_count": 77,
   "metadata": {
    "collapsed": true
   },
   "outputs": [],
   "source": [
    "# los datasets esta diseñados, pero hay 2 casos que son muy similares,\n",
    "# tomar un vector de los sets de entrenamiento, no podemos hacer una resta entre numeros y caracteres\n",
    "# \"datos categoricos de analisis, transformar el vector de clase darle un numero 1,2,3...\"\n",
    "# "
   ]
  },
  {
   "cell_type": "code",
   "execution_count": 79,
   "metadata": {
    "collapsed": false
   },
   "outputs": [],
   "source": [
    "# todas las columnas menos la clase \"columna\"\n",
    "setosa = df_setosa_test[['sl','sw','pl','pw']] #"
   ]
  },
  {
   "cell_type": "code",
   "execution_count": 80,
   "metadata": {
    "collapsed": false
   },
   "outputs": [
    {
     "data": {
      "text/plain": [
       "Int64Index([25, 26, 27, 28, 29, 30, 31, 32, 33, 34, 35, 36, 37, 38, 39, 40, 41,\n",
       "            42, 43, 44, 45, 46, 47, 48, 49],\n",
       "           dtype='int64')"
      ]
     },
     "execution_count": 80,
     "metadata": {},
     "output_type": "execute_result"
    }
   ],
   "source": [
    "# indice CERO, porque la Cetosa inicia en el 25.\n",
    "setosa.index"
   ]
  },
  {
   "cell_type": "code",
   "execution_count": 81,
   "metadata": {
    "collapsed": false
   },
   "outputs": [
    {
     "data": {
      "text/plain": [
       "sl    5.0\n",
       "sw    3.0\n",
       "pl    1.6\n",
       "pw    0.2\n",
       "Name: 25, dtype: float64"
      ]
     },
     "execution_count": 81,
     "metadata": {},
     "output_type": "execute_result"
    }
   ],
   "source": [
    "setosa.xs(25) # no puede ser CERO porque inica arriba"
   ]
  },
  {
   "cell_type": "code",
   "execution_count": 93,
   "metadata": {
    "collapsed": false
   },
   "outputs": [
    {
     "data": {
      "text/plain": [
       "9.7999999999999989"
      ]
     },
     "execution_count": 93,
     "metadata": {},
     "output_type": "execute_result"
    }
   ],
   "source": [
    "vectori=setosa.xs(25) #vector 'i' simplemente\n",
    "sum(vectori) # ya podemos hacer nuestra formula\n"
   ]
  },
  {
   "cell_type": "code",
   "execution_count": 83,
   "metadata": {
    "collapsed": true
   },
   "outputs": [],
   "source": [
    "# Apicar al resto de las clases\n",
    "versicolor = df_versicolor_test[['sl','sw','pl','pw']]"
   ]
  },
  {
   "cell_type": "code",
   "execution_count": 84,
   "metadata": {
    "collapsed": false
   },
   "outputs": [
    {
     "data": {
      "text/plain": [
       "Int64Index([75, 76, 77, 78, 79, 80, 81, 82, 83, 84, 85, 86, 87, 88, 89, 90, 91,\n",
       "            92, 93, 94, 95, 96, 97, 98, 99],\n",
       "           dtype='int64')"
      ]
     },
     "execution_count": 84,
     "metadata": {},
     "output_type": "execute_result"
    }
   ],
   "source": [
    "versicolor.index\n"
   ]
  },
  {
   "cell_type": "code",
   "execution_count": 85,
   "metadata": {
    "collapsed": false
   },
   "outputs": [
    {
     "data": {
      "text/plain": [
       "sl    6.6\n",
       "sw    3.0\n",
       "pl    4.4\n",
       "pw    1.4\n",
       "Name: 75, dtype: float64"
      ]
     },
     "execution_count": 85,
     "metadata": {},
     "output_type": "execute_result"
    }
   ],
   "source": [
    "versicolor.xs(75) # granulo mas bajo que es el vector"
   ]
  },
  {
   "cell_type": "code",
   "execution_count": 87,
   "metadata": {
    "collapsed": false
   },
   "outputs": [],
   "source": [
    "vectorj=versicolor.xs(75)"
   ]
  },
  {
   "cell_type": "code",
   "execution_count": 88,
   "metadata": {
    "collapsed": true
   },
   "outputs": [],
   "source": [
    "#\n",
    "virginica = df_virginica_test[['sl','sw','pl','pw']]\n"
   ]
  },
  {
   "cell_type": "code",
   "execution_count": 89,
   "metadata": {
    "collapsed": false
   },
   "outputs": [
    {
     "data": {
      "text/plain": [
       "Int64Index([125, 126, 127, 128, 129, 130, 131, 132, 133, 134, 135, 136, 137,\n",
       "            138, 139, 140, 141, 142, 143, 144, 145, 146, 147, 148, 149],\n",
       "           dtype='int64')"
      ]
     },
     "execution_count": 89,
     "metadata": {},
     "output_type": "execute_result"
    }
   ],
   "source": [
    "virginica.index"
   ]
  },
  {
   "cell_type": "code",
   "execution_count": 90,
   "metadata": {
    "collapsed": false
   },
   "outputs": [
    {
     "data": {
      "text/plain": [
       "sl    7.2\n",
       "sw    3.2\n",
       "pl    6.0\n",
       "pw    1.8\n",
       "Name: 125, dtype: float64"
      ]
     },
     "execution_count": 90,
     "metadata": {},
     "output_type": "execute_result"
    }
   ],
   "source": [
    "virginica.xs(125)  # se realizará el método en directo, es solo ejercicio."
   ]
  },
  {
   "cell_type": "code",
   "execution_count": 91,
   "metadata": {
    "collapsed": true
   },
   "outputs": [],
   "source": [
    "# caso del vector \n"
   ]
  },
  {
   "cell_type": "code",
   "execution_count": 97,
   "metadata": {
    "collapsed": false
   },
   "outputs": [
    {
     "data": {
      "text/plain": [
       "-0.59999999999999987"
      ]
     },
     "execution_count": 97,
     "metadata": {},
     "output_type": "execute_result"
    }
   ],
   "source": [
    "# Entonces debemos hacer el barrido.\n",
    "sum(setosa.xs(25)-setosa.xs(26)) # este numero podemos meterlo a una lista y lo podemos rankear, decidiendo ...\n",
    "# todavia no se entra al modelo, es repaso de operaciones"
   ]
  },
  {
   "cell_type": "code",
   "execution_count": 98,
   "metadata": {
    "collapsed": true
   },
   "outputs": [],
   "source": [
    "# Hay una libreria SKLEARN\n",
    "# Se elaboraran 3 restas a los vectores\n",
    "# Falta capturar los indices"
   ]
  },
  {
   "cell_type": "code",
   "execution_count": 119,
   "metadata": {
    "collapsed": false
   },
   "outputs": [],
   "source": [
    "df\n",
    "\n"
   ]
  },
  {
   "cell_type": "code",
   "execution_count": 120,
   "metadata": {
    "collapsed": true
   },
   "outputs": [],
   "source": [
    "lista_distancia.sort()"
   ]
  },
  {
   "cell_type": "code",
   "execution_count": 130,
   "metadata": {
    "collapsed": false
   },
   "outputs": [
    {
     "name": "stdout",
     "output_type": "stream",
     "text": [
      "[0.0, 0.0099999999999999291, 0.0099999999999999291, 0.010000000000000018, 0.039999999999999862, 0.039999999999999862, 0.03999999999999998, 0.089999999999999955, 0.090000000000000233, 0.15999999999999959, 0.15999999999999992, 0.16000000000000028, 0.35999999999999982, 0.3600000000000001, 0.48999999999999932, 0.48999999999999994, 0.80999999999999905, 0.80999999999999939, 0.80999999999999983, 0.80999999999999983, 0.81000000000000028, 1.2099999999999993, 1.959999999999998, 1.9600000000000011, 2.25]\n"
     ]
    }
   ],
   "source": [
    "# TESTEO\n",
    "# Los ceros los vamos a descartar, déspues de este.\n",
    "result =[]\n",
    "for i in setosa.values:\n",
    "    result.append(pow(sum(setosa.xs(25) - i),2)) # el modelo debe meterlo cada uno\n",
    "\n",
    "result.sort() #pop para sacarlo\n",
    "print(result) # para cada dataframe ocupa un CICLO-FOR()\n",
    "# Jorge nos dice que por concatenación es una opción.."
   ]
  },
  {
   "cell_type": "code",
   "execution_count": null,
   "metadata": {
    "collapsed": false
   },
   "outputs": [],
   "source": [
    "# TESTEO\n",
    "# Los ceros los vamos a descartar, déspues de este.\n",
    "result =[]\n",
    "for i in versicolor.values:\n",
    "    result.append(pow(sum(versicolor.xs(75) - i),2)) # el modelo debe meterlo cada uno\n",
    "\n",
    "result.sort() #pop para sacarlo\n",
    "print(result) # para cada dataframe ocupa un CICLO-FOR()"
   ]
  },
  {
   "cell_type": "code",
   "execution_count": null,
   "metadata": {
    "collapsed": false
   },
   "outputs": [],
   "source": [
    "# TESTEO\n",
    "# Los ceros los vamos a descartar, déspues de este.\n",
    "result =[]\n",
    "for i in virginica.values:\n",
    "    result.append(pow(sum(virginica.xs(125) - i),2)) # el modelo debe meterlo cada uno\n",
    "\n",
    "result.sort() #pop para sacarlo\n",
    "print(result) # para cada dataframe ocupa un CICLO-FOR()"
   ]
  },
  {
   "cell_type": "markdown",
   "metadata": {},
   "source": [
    "\n",
    "\n",
    "\n",
    "# TESTEO FINAL\n"
   ]
  },
  {
   "cell_type": "code",
   "execution_count": null,
   "metadata": {
    "collapsed": false
   },
   "outputs": [],
   "source": [
    "# todas las columnas menos la clase \"columna\"\n",
    "setosa_test = df_setosa_test[['sl','sw','pl','pw']]\n",
    "\n",
    "\n",
    "# otra vez con concatenacion junto con Jorge\n",
    "df_full = pd.concat([df_setosa_train, df_versicolor_train, df_virginica_train])\n",
    "df_full_numeric = df_full[['sl','sw','pl','pw']]  # ir tomando cada uno de los testeos, y restarselo a cada uno. Se supone que testeo se prueba uno a uno.\n",
    "\n",
    "indices = df_full_numeric.index\n",
    "result = []\n",
    "\n",
    "# Como juntar el resultado del indice numerico con todas las distancias.\n",
    "for j, i in enumerate(df_full_numeric.values): # nos dara todo los indices cada vez que la llamemos\n",
    "    d = pow(sum(setosa_test.xs(25) - i), 2)\n",
    "    result.append((d,indices[j])) #valor cero\n",
    "    \n",
    "result.sort() # Jorge no le sorteo como deberia\n",
    "print(result)\n",
    "    \n",
    "\n",
    "    "
   ]
  },
  {
   "cell_type": "code",
   "execution_count": null,
   "metadata": {
    "collapsed": false
   },
   "outputs": [],
   "source": [
    "result[0] # el k1, ..."
   ]
  },
  {
   "cell_type": "code",
   "execution_count": 159,
   "metadata": {
    "collapsed": false
   },
   "outputs": [
    {
     "data": {
      "text/plain": [
       "sl               4.8\n",
       "sw               3.4\n",
       "pl               1.6\n",
       "pw               0.2\n",
       "clase    Iris-setosa\n",
       "Name: 11, dtype: object"
      ]
     },
     "execution_count": 159,
     "metadata": {},
     "output_type": "execute_result"
    }
   ],
   "source": [
    "df_full.xs(result[0][1]) # primer elemento del df de testeo de la setosa (ya lo sabiamos), el agoritmo no lo sabia. Esto es con K1\n"
   ]
  },
  {
   "cell_type": "code",
   "execution_count": 160,
   "metadata": {
    "collapsed": false
   },
   "outputs": [
    {
     "data": {
      "text/plain": [
       "sl               4.8\n",
       "sw               3.4\n",
       "pl               1.6\n",
       "pw               0.2\n",
       "clase    Iris-setosa\n",
       "Name: 11, dtype: object"
      ]
     },
     "execution_count": 160,
     "metadata": {},
     "output_type": "execute_result"
    }
   ],
   "source": [
    "df_full.xs(result[2][1]) "
   ]
  },
  {
   "cell_type": "code",
   "execution_count": 161,
   "metadata": {
    "collapsed": false
   },
   "outputs": [
    {
     "data": {
      "text/plain": [
       "sl                  7.7\n",
       "sw                  2.8\n",
       "pl                  6.7\n",
       "pw                    2\n",
       "clase    Iris-virginica\n",
       "Name: 122, dtype: object"
      ]
     },
     "execution_count": 161,
     "metadata": {},
     "output_type": "execute_result"
    }
   ],
   "source": [
    "df_full.xs(result[70][1])  # mas alejado, "
   ]
  },
  {
   "cell_type": "code",
   "execution_count": 162,
   "metadata": {
    "collapsed": false
   },
   "outputs": [
    {
     "data": {
      "text/plain": [
       "sl                   5.7\n",
       "sw                   2.8\n",
       "pl                   4.5\n",
       "pw                   1.3\n",
       "clase    Iris-versicolor\n",
       "Name: 55, dtype: object"
      ]
     },
     "execution_count": 162,
     "metadata": {},
     "output_type": "execute_result"
    }
   ],
   "source": [
    "df_full.xs(result[35][1]) # elemento un 35 un versicolor"
   ]
  },
  {
   "cell_type": "code",
   "execution_count": 163,
   "metadata": {
    "collapsed": false
   },
   "outputs": [
    {
     "name": "stdout",
     "output_type": "stream",
     "text": [
      "[(0.0099999999999998406, 107), (0.0099999999999999742, 120), (0.010000000000000063, 102), (0.010000000000000151, 100), (0.16000000000000011, 124), (0.49000000000000055, 104), (0.64000000000000079, 112), (0.99999999999999956, 122), (1.0000000000000004, 115), (1.2099999999999977, 105), (1.4399999999999988, 109), (1.6900000000000002, 118), (1.9600000000000011, 108), (1.9600000000000011, 116), (1.9600000000000015, 110), (2.5600000000000032, 103), (3.2399999999999984, 52), (3.6100000000000003, 50), (3.6100000000000003, 111), (4.4100000000000064, 114), (4.8400000000000007, 117), (5.2900000000000036, 56), (6.25, 70), (6.25, 123), (6.759999999999998, 51), (6.759999999999998, 65), (7.2900000000000054, 101), (7.8400000000000043, 54), (7.8400000000000061, 58), (8.4100000000000019, 121), (9.0, 72), (9.0, 113), (9.610000000000003, 63), (10.890000000000002, 74), (11.560000000000006, 73), (12.25, 119), (12.959999999999997, 61), (12.960000000000004, 66), (14.44, 68), (15.210000000000003, 55), (16.000000000000007, 71), (21.159999999999997, 106), (21.160000000000004, 67), (23.040000000000006, 64), (25.0, 59), (25.0, 62), (26.010000000000005, 53), (26.010000000000005, 69), (38.439999999999991, 15), (43.560000000000009, 57), (44.890000000000001, 18), (44.890000000000001, 60), (46.240000000000009, 5), (49.0, 14), (51.840000000000018, 16), (54.760000000000005, 10), (56.25, 20), (56.25, 21), (56.250000000000014, 19), (57.760000000000005, 23), (62.410000000000004, 17), (62.410000000000004, 24), (64.0, 0), (64.0, 4), (65.609999999999999, 7), (67.240000000000023, 11), (72.25, 6), (73.959999999999994, 9), (75.689999999999984, 1), (77.440000000000012, 2), (77.440000000000012, 3), (77.440000000000012, 22), (79.210000000000008, 12), (86.489999999999981, 8), (94.089999999999989, 13)]\n"
     ]
    }
   ],
   "source": [
    "# otro set de testeo de virginica\n",
    "# todas las columnas menos la clase \"columna\"\n",
    "virginica_test = df_virginica_test[['sl','sw','pl','pw']]\n",
    "\n",
    "\n",
    "# otra vez con concatenacion junto con Jorge\n",
    "df_full = pd.concat([df_setosa_train, df_versicolor_train, df_virginica_train])\n",
    "df_full_numeric = df_full[['sl','sw','pl','pw']]  # ir tomando cada uno de los testeos, y restarselo a cada uno. Se supone que testeo se prueba uno a uno.\n",
    "\n",
    "indices = df_full_numeric.index\n",
    "result = []\n",
    "\n",
    "# Como juntar el resultado del indice numerico con todas las distancias.\n",
    "for j, i in enumerate(df_full_numeric.values): # nos dara todo los indices cada vez que la llamemos\n",
    "    d = pow(sum(virginica_test.xs(125) - i), 2) # la posicion\n",
    "    result.append((d,indices[j])) #valor cero\n",
    "    \n",
    "result.sort() # Jorge no le sorteo como deberia\n",
    "print(result) #indice mas cercado (0.0099999999999998406, 107), se supone que no sabemos que es virginica\n",
    "    "
   ]
  },
  {
   "cell_type": "code",
   "execution_count": 164,
   "metadata": {
    "collapsed": false
   },
   "outputs": [
    {
     "data": {
      "text/plain": [
       "sl                  7.3\n",
       "sw                  2.9\n",
       "pl                  6.3\n",
       "pw                  1.8\n",
       "clase    Iris-virginica\n",
       "Name: 107, dtype: object"
      ]
     },
     "execution_count": 164,
     "metadata": {},
     "output_type": "execute_result"
    }
   ],
   "source": [
    "df_full.xs(result[0][1]) #"
   ]
  },
  {
   "cell_type": "code",
   "execution_count": 166,
   "metadata": {
    "collapsed": false
   },
   "outputs": [
    {
     "data": {
      "text/plain": [
       "sl               4.6\n",
       "sw               3.1\n",
       "pl               1.5\n",
       "pw               0.2\n",
       "clase    Iris-setosa\n",
       "Name: 3, dtype: object"
      ]
     },
     "execution_count": 166,
     "metadata": {},
     "output_type": "execute_result"
    }
   ],
   "source": [
    "df_full.xs(result[70][1]) # tomamos uno de los vectores de cojunto de virginica, el resultado "
   ]
  },
  {
   "cell_type": "code",
   "execution_count": 196,
   "metadata": {
    "collapsed": false
   },
   "outputs": [],
   "source": [
    "import matplotlib.pyplot as plt\n",
    "\n",
    "\n",
    "\n"
   ]
  },
  {
   "cell_type": "code",
   "execution_count": 193,
   "metadata": {
    "collapsed": false
   },
   "outputs": [
    {
     "data": {
      "text/plain": [
       "<matplotlib.collections.PathCollection at 0x11da3e940>"
      ]
     },
     "execution_count": 193,
     "metadata": {},
     "output_type": "execute_result"
    }
   ],
   "source": [
    "plt.scatter(df_full_numeric['sl'], df_full_numeric['pl'] )"
   ]
  },
  {
   "cell_type": "code",
   "execution_count": 185,
   "metadata": {
    "collapsed": false
   },
   "outputs": [
    {
     "data": {
      "image/png": "[encoded data removed]",
      "text/plain": [
       "<matplotlib.figure.Figure at 0x11e01e780>"
      ]
     },
     "metadata": {},
     "output_type": "display_data"
    }
   ],
   "source": [
    "plt.show() # 5 y 6.5 cual es cual es lo importante de este algoritmo. Es el chiste porque por todo se puede separar, pero enel centro esta el detalle de la calasificacion,"
   ]
  },
  {
   "cell_type": "code",
   "execution_count": null,
   "metadata": {
    "collapsed": false
   },
   "outputs": [],
   "source": [
    "import plotly.plotly as py # $ pip install plotly\n",
    "# python -c \"import plotly; plotly.tools.set_credentials_file(username='rsolis', api_key='nKnFZrIJyU4------')\"\n",
    "\n",
    "#import plotly.plotly as py      # Every function in this module will communicate with an external plotly server\n",
    "py.plot({                      # use `py.iplot` inside the ipython notebook\n",
    "\"data\": [{\n",
    "    \"x\": df_full_numeric['sl'],\n",
    "    \"y\": df_full_numeric['pl']\n",
    "}],\n",
    "\"layout\": {\n",
    "    \"title\": \"k-NN IRIS (test)\"\n",
    "}\n",
    "}, filename='k-NN IRIS-test',      # name of the file as saved in your plotly account\n",
    "sharing='public')        \n",
    "\n",
    "\n"
   ]
  },
  {
   "cell_type": "code",
   "execution_count": null,
   "metadata": {
    "collapsed": true
   },
   "outputs": [],
   "source": []
  },
  {
   "cell_type": "code",
   "execution_count": null,
   "metadata": {
    "collapsed": true
   },
   "outputs": [],
   "source": []
  }
 ],
 "metadata": {
  "kernelspec": {
   "display_name": "Python 3",
   "language": "python",
   "name": "python3"
  },
  "language_info": {
   "codemirror_mode": {
    "name": "ipython",
    "version": 3
   },
   "file_extension": ".py",
   "mimetype": "text/x-python",
   "name": "python",
   "nbconvert_exporter": "python",
   "pygments_lexer": "ipython3",
   "version": "3.6.0"
  }
 },
 "nbformat": 4,
 "nbformat_minor": 2
}
