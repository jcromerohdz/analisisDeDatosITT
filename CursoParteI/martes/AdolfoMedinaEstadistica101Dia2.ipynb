{
 "cells": [
  {
   "cell_type": "markdown",
   "metadata": {},
   "source": [
    "media, mediana, moda\n",
    "import numpy as np"
   ]
  },
  {
   "cell_type": "raw",
   "metadata": {},
   "source": [
    " Crear datos de ingresos falsos centrados alrededor de 27000 con distribucion normal y una desviacion estandar de 15000 con 10000 punto. Despues calculamos la media que deberia se cercano a 27000\n"
   ]
  },
  {
   "cell_type": "code",
   "execution_count": 3,
   "metadata": {},
   "outputs": [
    {
     "data": {
      "text/plain": [
       "27446.384095062858"
      ]
     },
     "execution_count": 3,
     "metadata": {},
     "output_type": "execute_result"
    }
   ],
   "source": [
    "#Rango, desviacion estandar, punto\n",
    "\n",
    "import numpy as np\n",
    "ingresos = np.random.normal(27000,15000,1000)\n",
    "np.mean(ingresos)\n"
   ]
  },
  {
   "cell_type": "markdown",
   "metadata": {},
   "source": [
    "Agregamos un ingreso atipico(outlier), por ejemolo el ingreso de un presidente"
   ]
  },
  {
   "cell_type": "markdown",
   "metadata": {},
   "source": [
    "\n"
   ]
  },
  {
   "cell_type": "code",
   "execution_count": 4,
   "metadata": {},
   "outputs": [
    {
     "data": {
      "text/plain": [
       "numpy.ndarray"
      ]
     },
     "execution_count": 4,
     "metadata": {},
     "output_type": "execute_result"
    }
   ],
   "source": [
    "type(ingresos)\n"
   ]
  },
  {
   "cell_type": "code",
   "execution_count": 6,
   "metadata": {},
   "outputs": [
    {
     "data": {
      "text/plain": [
       "2023399.5849252122"
      ]
     },
     "execution_count": 6,
     "metadata": {},
     "output_type": "execute_result"
    }
   ],
   "source": [
    "ingresos = np.append(ingresos,[1000000000])\n",
    "# La media cambia mucho  ya que aumenta el ingreso por mucho. Pero  la mediana queda estable \n",
    "np.mean(ingresos)"
   ]
  },
  {
   "cell_type": "code",
   "execution_count": 7,
   "metadata": {},
   "outputs": [
    {
     "data": {
      "text/plain": [
       "27219.410215168911"
      ]
     },
     "execution_count": 7,
     "metadata": {},
     "output_type": "execute_result"
    }
   ],
   "source": [
    "np.median(ingresos)"
   ]
  },
  {
   "cell_type": "code",
   "execution_count": 10,
   "metadata": {},
   "outputs": [
    {
     "name": "stdout",
     "output_type": "stream",
     "text": [
      "[61 47 66 39 82 69 60 87 50 67 70 87 62 57 87 43 26 65 34 23 32 27 63 89 78\n",
      " 61 24 86 71 24 62 37 89 57 21 47 48 25 52 40 52 66 83 52 65 19 35 85 57 81\n",
      " 31 51 47 63 18 89 67 84 67 53 57 46 78 50 24 22 59 87 20 50 29 79 35 20 72\n",
      " 44 89 86 87 70 68 74 64 25 44 24 48 21 86 77 73 44 46 74 83 22 73 73 35 81\n",
      " 89 41 34 26 79 46 72 31 86 80 19 56 64 88 58 19 21 41 81 37 24 40 77 57 19\n",
      " 49 32 62 35 52 53 82 49 64 18 58 52 82 29 63 36 50 27 33 79 78 85 88 77 34\n",
      " 24 27 64 83 18 31 55 76 79 23 28 21 23 74 81 36 22 74 70 53 85 69 66 43 64\n",
      " 84 25 55 35 86 18 28 87 45 20 48 61 35 18 77 85 21 68 32 19 51 23 65 21 60\n",
      " 66 60 40 72 23 39 53 53 31 85 74 65 52 71 64 76 66 80 27 18 87 47 86 44 68\n",
      " 79 42 61 63 38 57 83 61 82 36 42 40 33 73 89 56 78 62 65 33 66 21 55 71 19\n",
      " 67 61 20 44 36 77 69 34 63 84 43 35 56 85 79 64 56 72 88 85 58 78 33 59 89\n",
      " 83 85 54 59 25 18 64 83 39 80 61 23 42 70 65 20 37 29 59 51 38 68 76 25 31\n",
      " 51 32 46 40 43 70 53 45 18 52 35 72 27 54 39 35 21 62 51 34 37 55 82 34 88\n",
      " 51 52 21 61 83 20 78 82 32 32 28 52 31 41 76 55 32 41 44 48 26 48 36 77 57\n",
      " 39 23 64 52 38 45 55 89 77 73 85 20 67 71 62 76 28 42 63 63 24 43 89 81 58\n",
      " 47 49 30 36 73 87 25 83 62 85 38 36 23 82 50 25 61 73 20 27 87 50 87 72 52\n",
      " 64 69 89 27 34 20 46 42 58 37 19 26 54 78 83 63 45 86 41 47 29 51 20 59 28\n",
      " 73 70 52 80 64 77 38 55 23 25 42 75 25 87 46 44 34 89 32 41 72 23 48 21 77\n",
      " 24 51 81 36 84 51 69 72 57 43 46 62 72 19 69 42 79 19 55 47 33 80 81 46 89\n",
      " 42 61 73 87 45 58 19 84 39 22 83 45 43 23 80 40 61 64 27 87 81 70 20 38 87]\n"
     ]
    }
   ],
   "source": [
    "edades = np.random.randint(18, high=90, size=500)\n",
    "print edades"
   ]
  },
  {
   "cell_type": "code",
   "execution_count": 11,
   "metadata": {
    "collapsed": true
   },
   "outputs": [],
   "source": [
    "\"Paquete estadisticas\n",
    "from scipy import stats"
   ]
  },
  {
   "cell_type": "code",
   "execution_count": 12,
   "metadata": {},
   "outputs": [
    {
     "data": {
      "text/plain": [
       "ModeResult(mode=array([87]), count=array([14]))"
      ]
     },
     "execution_count": 12,
     "metadata": {},
     "output_type": "execute_result"
    }
   ],
   "source": [
    "stats.mode(edades)\n",
    "#el 87 primer valor que aparece tantas vecesnp"
   ]
  },
  {
   "cell_type": "code",
   "execution_count": 13,
   "metadata": {},
   "outputs": [
    {
     "name": "stdout",
     "output_type": "stream",
     "text": [
      "53.0\n"
     ]
    }
   ],
   "source": [
    "print np.median(edades)"
   ]
  },
  {
   "cell_type": "code",
   "execution_count": 16,
   "metadata": {},
   "outputs": [
    {
     "data": {
      "image/png": "[encoded data removed]",
      "text/plain": [
       "<matplotlib.figure.Figure at 0x7f38e96c18d0>"
      ]
     },
     "metadata": {},
     "output_type": "display_data"
    }
   ],
   "source": [
    "#Se agregara codigo de comercio electronico aleatorio que representan la cantidad total de gastos por transaccion\n",
    "\n",
    "import numpy as np\n",
    "import matplotlib.pyplot as plt\n",
    "gastos = np.random.normal(100.0,20.0, 10000)\n",
    "plt.hist(gastos,50) #histograma de 50 barras\n",
    "plt.show()"
   ]
  },
  {
   "cell_type": "code",
   "execution_count": 17,
   "metadata": {},
   "outputs": [
    {
     "name": "stdout",
     "output_type": "stream",
     "text": [
      "78.26\n",
      "75.0\n"
     ]
    }
   ],
   "source": [
    "#Generar  dats aleatrorios, calcular la media, mediana agregar esos datos a un valor outlier (Atipico) y \n",
    "#re-caclular la media mediana \n",
    "pesos = np.random.randint(40, high=120, size=200)\n",
    "media = np.mean(pesos)\n",
    "mediana = np.median(pesos)\n",
    "print media\n",
    "print mediana"
   ]
  },
  {
   "cell_type": "code",
   "execution_count": 45,
   "metadata": {},
   "outputs": [
    {
     "name": "stdout",
     "output_type": "stream",
     "text": [
      "28.6101706046\n",
      "12.7961625497\n"
     ]
    },
    {
     "data": {
      "image/png": "[encoded data removed]",
      "text/plain": [
       "<matplotlib.figure.Figure at 0x7f38e685f5d0>"
      ]
     },
     "metadata": {},
     "output_type": "display_data"
    },
    {
     "name": "stdout",
     "output_type": "stream",
     "text": [
      "Peso atipico\n",
      "28.6101706046\n",
      "12.7961625497\n"
     ]
    }
   ],
   "source": [
    "#Generar  dats aleatrorios, calcular la media, mediana agregar esos datos a un valor outlier (Atipico) y \n",
    "#re-caclular la media mediana \n",
    "pesopersona = np.random.normal(40,110,20)\n",
    "media = np.mean(pesopersona)\n",
    "mediana = np.median(pesopersona)\n",
    "print media\n",
    "print mediana\n",
    "plt.hist(pesopersona,20) #histograma de 20 barras\n",
    "plt.show()\n",
    "print \"Peso atipico\"\n",
    "peso = np.append(pesopersona,[160])\n",
    "media = np.mean(pesopersona)\n",
    "mediana = np.median(pesopersona)\n",
    "print media\n",
    "print mediana\n"
   ]
  },
  {
   "cell_type": "code",
   "execution_count": 21,
   "metadata": {},
   "outputs": [
    {
     "name": "stdout",
     "output_type": "stream",
     "text": [
      "[        41         78        105         71         84         46\n",
      "         82         52         58         69         58         88\n",
      "         72         73        115         96         84        102\n",
      "         66         65         68         57         44         79\n",
      "         72         71         83        110         73         67\n",
      "         64         44        114        117        114        111\n",
      "        107         43         65         52         82         49\n",
      "         68         56         51         64         94        108\n",
      "        116        105         97        116        102         92\n",
      "         94        101         73         41        107        109\n",
      "         66         91         95         73         83        107\n",
      "        111         66         43        113         43         40\n",
      "        106         75         45         61         77         64\n",
      "         98         94         56        108        101         51\n",
      "         75        110         52        118         81         62\n",
      "         42         80         42         72         50         71\n",
      "         44         70         61         72        101         44\n",
      "        108         94         74         89        111         48\n",
      "         65         97        101         62         86         64\n",
      "         60         65        102        116         88         98\n",
      "         76        111         72         79        103         81\n",
      "         62         77         51        115         41         47\n",
      "         43        105         63         61        114         85\n",
      "        111         78         41        112         46         58\n",
      "         80         88         47         73         57        112\n",
      "        119         61         62        108         63         97\n",
      "         70         64        113         75         74         78\n",
      "         91        108        110         43         41        105\n",
      "         88         97        115         69        106         55\n",
      "         49        118         43        100         40        107\n",
      "        113         53         51         47         50        101\n",
      "         72         90        110         47         84         78\n",
      "         54         74         47         40        116         73\n",
      "         62        105 1000000000        200        200]\n"
     ]
    }
   ],
   "source": [
    "print pesos\n"
   ]
  },
  {
   "cell_type": "code",
   "execution_count": null,
   "metadata": {
    "collapsed": true
   },
   "outputs": [],
   "source": []
  }
 ],
 "metadata": {
  "kernelspec": {
   "display_name": "Python 2",
   "language": "python",
   "name": "python2"
  },
  "language_info": {
   "codemirror_mode": {
    "name": "ipython",
    "version": 2
   },
   "file_extension": ".py",
   "mimetype": "text/x-python",
   "name": "python",
   "nbconvert_exporter": "python",
   "pygments_lexer": "ipython2",
   "version": "2.7.13"
  }
 },
 "nbformat": 4,
 "nbformat_minor": 2
}
