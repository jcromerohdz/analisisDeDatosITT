{
 "cells": [
  {
   "cell_type": "markdown",
   "metadata": {},
   "source": [
    "# ESTADISTICA 101 - Martes"
   ]
  },
  {
   "cell_type": "markdown",
   "metadata": {},
   "source": [
    "## Media, mediana, moda"
   ]
  },
  {
   "cell_type": "markdown",
   "metadata": {},
   "source": [
    "_Vamos a crear datos de ingresos falsos, centrados al rededor de 27 mil con distribución normal y desviación estandard de 15 mil, con 10 mil puntos de datos. Después calculamos la media(promedio), deberá ser cercano a 27 mil._\n"
   ]
  },
  {
   "cell_type": "code",
   "execution_count": 1,
   "metadata": {
    "collapsed": true
   },
   "outputs": [],
   "source": [
    "# Libreria numpy\n",
    "import numpy as np\n"
   ]
  },
  {
   "cell_type": "code",
   "execution_count": 5,
   "metadata": {
    "collapsed": false
   },
   "outputs": [
    {
     "data": {
      "text/plain": [
       "26859.783812737078"
      ]
     },
     "execution_count": 5,
     "metadata": {},
     "output_type": "execute_result"
    }
   ],
   "source": [
    "ingresos = np.random.normal(27000,15000,10000)\n",
    "# Desviación estandard\n",
    "np.mean(ingresos)\n"
   ]
  },
  {
   "cell_type": "code",
   "execution_count": 6,
   "metadata": {
    "collapsed": false
   },
   "outputs": [
    {
     "data": {
      "text/plain": [
       "numpy.ndarray"
      ]
     },
     "execution_count": 6,
     "metadata": {},
     "output_type": "execute_result"
    }
   ],
   "source": [
    "#Ahora agrandamos un ingreso atípico(outlier).\n",
    "type(ingresos)"
   ]
  },
  {
   "cell_type": "code",
   "execution_count": 7,
   "metadata": {
    "collapsed": true
   },
   "outputs": [],
   "source": [
    "ingresos = np.append(ingresos,1000000000) # Un billon"
   ]
  },
  {
   "cell_type": "code",
   "execution_count": 8,
   "metadata": {
    "collapsed": true
   },
   "outputs": [],
   "source": [
    "# La media cambia mucho, pero la mediana si."
   ]
  },
  {
   "cell_type": "code",
   "execution_count": 9,
   "metadata": {
    "collapsed": false
   },
   "outputs": [
    {
     "data": {
      "text/plain": [
       "26780.272434565009"
      ]
     },
     "execution_count": 9,
     "metadata": {},
     "output_type": "execute_result"
    }
   ],
   "source": [
    "np.median(ingresos)"
   ]
  },
  {
   "cell_type": "code",
   "execution_count": 10,
   "metadata": {
    "collapsed": true
   },
   "outputs": [],
   "source": [
    "# Ahora generaremos edade falsas para 500 personas\n",
    "edades = np.random.randint(18, high=90, size=500)"
   ]
  },
  {
   "cell_type": "code",
   "execution_count": 11,
   "metadata": {
    "collapsed": false
   },
   "outputs": [
    {
     "data": {
      "text/plain": [
       "array([18, 31, 54, 77, 53, 45, 21, 29, 85, 29, 45, 61, 64, 61, 73, 44, 83,\n",
       "       77, 43, 88, 58, 37, 24, 47, 41, 28, 65, 52, 19, 37, 41, 72, 61, 57,\n",
       "       75, 52, 38, 39, 40, 80, 20, 80, 23, 47, 82, 83, 30, 80, 58, 62, 39,\n",
       "       74, 22, 41, 87, 63, 59, 83, 73, 38, 45, 24, 80, 36, 59, 18, 35, 49,\n",
       "       50, 22, 55, 70, 52, 76, 24, 70, 37, 78, 28, 46, 36, 66, 21, 24, 40,\n",
       "       25, 77, 88, 86, 48, 56, 68, 50, 23, 81, 67, 65, 51, 21, 53, 73, 18,\n",
       "       61, 25, 37, 36, 69, 27, 72, 55, 53, 52, 81, 36, 23, 18, 19, 76, 24,\n",
       "       21, 38, 89, 79, 31, 54, 53, 57, 55, 88, 80, 73, 69, 86, 68, 61, 70,\n",
       "       26, 71, 61, 41, 39, 82, 39, 29, 73, 66, 61, 46, 21, 47, 42, 71, 25,\n",
       "       31, 61, 74, 86, 27, 34, 23, 56, 48, 59, 38, 89, 19, 81, 84, 59, 65,\n",
       "       44, 55, 26, 52, 25, 89, 61, 88, 85, 60, 18, 80, 43, 65, 31, 71, 59,\n",
       "       27, 64, 44, 52, 67, 35, 25, 26, 41, 68, 47, 88, 83, 51, 47, 35, 87,\n",
       "       82, 19, 45, 25, 63, 80, 78, 45, 86, 60, 65, 33, 49, 81, 43, 75, 40,\n",
       "       88, 72, 88, 51, 25, 80, 74, 18, 77, 53, 25, 48, 43, 43, 45, 52, 65,\n",
       "       62, 64, 61, 80, 21, 49, 57, 73, 53, 72, 23, 49, 79, 73, 31, 48, 33,\n",
       "       76, 47, 47, 58, 18, 32, 49, 76, 79, 58, 59, 88, 30, 43, 70, 45, 30,\n",
       "       51, 60, 54, 44, 61, 43, 86, 65, 82, 20, 38, 53, 74, 29, 30, 60, 53,\n",
       "       55, 19, 48, 36, 67, 53, 27, 59, 27, 82, 66, 31, 68, 50, 63, 42, 55,\n",
       "       87, 53, 58, 19, 33, 31, 18, 88, 57, 78, 68, 58, 62, 41, 74, 27, 84,\n",
       "       79, 20, 54, 55, 45, 57, 67, 81, 62, 71, 26, 66, 26, 59, 49, 84, 19,\n",
       "       59, 72, 66, 82, 33, 18, 88, 81, 58, 87, 71, 31, 82, 79, 35, 59, 37,\n",
       "       89, 51, 35, 38, 45, 25, 71, 38, 88, 35, 21, 68, 64, 21, 69, 32, 28,\n",
       "       61, 58, 54, 47, 28, 19, 23, 58, 74, 35, 88, 46, 68, 44, 19, 50, 67,\n",
       "       82, 25, 18, 73, 63, 35, 57, 20, 59, 24, 34, 69, 46, 33, 30, 51, 24,\n",
       "       25, 88, 48, 75, 89, 63, 40, 86, 87, 22, 26, 54, 71, 38, 69, 21, 34,\n",
       "       70, 71, 68, 56, 65, 34, 76, 75, 57, 46, 81, 71, 44, 75, 76, 29, 35,\n",
       "       72, 36, 26, 67, 41, 79, 78, 42, 51, 60, 48, 18, 26, 23, 49, 79, 66,\n",
       "       35, 88, 50, 23, 82, 85, 51, 52, 44, 75, 32, 58, 61, 18, 58, 83, 40,\n",
       "       30, 18, 42, 29, 89, 86, 34, 30, 21, 65, 28, 18, 87, 55, 41, 87, 65,\n",
       "       26, 40, 34, 51, 41, 19, 89])"
      ]
     },
     "execution_count": 11,
     "metadata": {},
     "output_type": "execute_result"
    }
   ],
   "source": [
    "edades"
   ]
  },
  {
   "cell_type": "code",
   "execution_count": 13,
   "metadata": {
    "collapsed": true
   },
   "outputs": [],
   "source": [
    "# Estadisticas\n",
    "from scipy import stats"
   ]
  },
  {
   "cell_type": "code",
   "execution_count": 14,
   "metadata": {
    "collapsed": false
   },
   "outputs": [
    {
     "data": {
      "text/plain": [
       "ModeResult(mode=array([18]), count=array([14]))"
      ]
     },
     "execution_count": 14,
     "metadata": {},
     "output_type": "execute_result"
    }
   ],
   "source": [
    "stats.mode(edades)"
   ]
  },
  {
   "cell_type": "code",
   "execution_count": 20,
   "metadata": {
    "collapsed": false
   },
   "outputs": [],
   "source": [
    "# Ahora vamos agregar un código de datos de comercio electrónico aleatorios; \n",
    "# solo son datos que representan la cantidad de gastos por transacción"
   ]
  },
  {
   "cell_type": "code",
   "execution_count": 23,
   "metadata": {
    "collapsed": false
   },
   "outputs": [
    {
     "data": {
      "text/plain": [
       "(array([   2.,    2.,    1.,    4.,    8.,    4.,   11.,   19.,   29.,\n",
       "          49.,   63.,   80.,  109.,  149.,  204.,  246.,  276.,  367.,\n",
       "         390.,  446.,  548.,  508.,  577.,  586.,  606.,  582.,  588.,\n",
       "         563.,  528.,  455.,  410.,  329.,  276.,  239.,  198.,  143.,\n",
       "         134.,   82.,   59.,   46.,   24.,   18.,   19.,    9.,    7.,\n",
       "           3.,    1.,    2.,    0.,    1.]),\n",
       " array([  25.53890811,   28.57690322,   31.61489832,   34.65289343,\n",
       "          37.69088854,   40.72888364,   43.76687875,   46.80487386,\n",
       "          49.84286896,   52.88086407,   55.91885917,   58.95685428,\n",
       "          61.99484939,   65.03284449,   68.0708396 ,   71.10883471,\n",
       "          74.14682981,   77.18482492,   80.22282002,   83.26081513,\n",
       "          86.29881024,   89.33680534,   92.37480045,   95.41279556,\n",
       "          98.45079066,  101.48878577,  104.52678088,  107.56477598,\n",
       "         110.60277109,  113.64076619,  116.6787613 ,  119.71675641,\n",
       "         122.75475151,  125.79274662,  128.83074173,  131.86873683,\n",
       "         134.90673194,  137.94472704,  140.98272215,  144.02071726,\n",
       "         147.05871236,  150.09670747,  153.13470258,  156.17269768,\n",
       "         159.21069279,  162.2486879 ,  165.286683  ,  168.32467811,\n",
       "         171.36267321,  174.40066832,  177.43866343]),\n",
       " <a list of 50 Patch objects>)"
      ]
     },
     "execution_count": 23,
     "metadata": {},
     "output_type": "execute_result"
    }
   ],
   "source": [
    "import numpy as np\n",
    "import matplotlib.pyplot as plt # librerias requeridas\n",
    "\n",
    "# Juntos\n",
    "gastos = np.random.normal(100.0, 20.0, 10000)\n",
    "# para histograma\n",
    "plt.hist(gastos,50) # los 50 son las barras...\n",
    "\n"
   ]
  },
  {
   "cell_type": "code",
   "execution_count": 22,
   "metadata": {
    "collapsed": false
   },
   "outputs": [
    {
     "data": {
      "image/png": "[encoded data removed]",
      "text/plain": [
       "<matplotlib.figure.Figure at 0x10f23b048>"
      ]
     },
     "metadata": {},
     "output_type": "display_data"
    }
   ],
   "source": [
    "plt.show() # Muestra el histograma."
   ]
  },
  {
   "cell_type": "code",
   "execution_count": 56,
   "metadata": {
    "collapsed": false
   },
   "outputs": [
    {
     "data": {
      "text/html": [
       "<img src=\"http://www.robotshop.com/media/catalog/product/cache/1/image/900x900/9df78eab33525d08d6e5fb8d27136e95/d/f/dfrobot-dht11-temperature-and-humidity-sensor.jpg\" width=\"200\" height=\"200\"/>"
      ],
      "text/plain": [
       "<IPython.core.display.Image object>"
      ]
     },
     "execution_count": 56,
     "metadata": {},
     "output_type": "execute_result"
    }
   ],
   "source": [
    "# Ejercicio: Generar datos aleatorios de su gisto, posteriomente calcular la:\n",
    "# media, mediana, agregar a esos datos un valor outlien y re-calcular la media y mediana\n",
    "from IPython.display import Image\n",
    "from IPython.core.display import HTML \n",
    "Image(url= \"http://www.robotshop.com/media/catalog/product/cache/1/image/900x900/9df78eab33525d08d6e5fb8d27136e95/d/f/dfrobot-dht11-temperature-and-humidity-sensor.jpg\",width=200, height=200)\n"
   ]
  },
  {
   "cell_type": "code",
   "execution_count": 34,
   "metadata": {
    "collapsed": false
   },
   "outputs": [
    {
     "data": {
      "text/plain": [
       "(array([ 15.,  10.,  12.,   9.,  15.,   8.,   8.,  17.,   0.,  10.,  13.,\n",
       "         11.,  16.,   7.,  13.,   7.,   0.,  12.,  12.,   7.,  16.,  15.,\n",
       "         10.,  14.,   0.,  15.,  13.,   8.,  12.,   7.,   8.,   7.,  18.,\n",
       "          0.,   4.,   6.,   6.,  15.,  11.,   4.,  12.,   0.,  11.,  15.,\n",
       "         12.,   8.,  13.,  11.,  12.,  15.]),\n",
       " array([ 15.  ,  15.88,  16.76,  17.64,  18.52,  19.4 ,  20.28,  21.16,\n",
       "         22.04,  22.92,  23.8 ,  24.68,  25.56,  26.44,  27.32,  28.2 ,\n",
       "         29.08,  29.96,  30.84,  31.72,  32.6 ,  33.48,  34.36,  35.24,\n",
       "         36.12,  37.  ,  37.88,  38.76,  39.64,  40.52,  41.4 ,  42.28,\n",
       "         43.16,  44.04,  44.92,  45.8 ,  46.68,  47.56,  48.44,  49.32,\n",
       "         50.2 ,  51.08,  51.96,  52.84,  53.72,  54.6 ,  55.48,  56.36,\n",
       "         57.24,  58.12,  59.  ]),\n",
       " <a list of 50 Patch objects>)"
      ]
     },
     "execution_count": 34,
     "metadata": {},
     "output_type": "execute_result"
    }
   ],
   "source": [
    "# Sea un Arduino con sensor de humedad\n",
    "# Ahora generaremos edade falsas para 500 entradas sensor humedad\n",
    "\n",
    "RH = np.random.randint(15, high=60, size=500)\n",
    "\n",
    "plt.hist(RH,50) # los 50 son las barras...\n",
    "\n"
   ]
  },
  {
   "cell_type": "code",
   "execution_count": 26,
   "metadata": {
    "collapsed": false
   },
   "outputs": [
    {
     "data": {
      "text/plain": [
       "ModeResult(mode=array([18]), count=array([21]))"
      ]
     },
     "execution_count": 26,
     "metadata": {},
     "output_type": "execute_result"
    }
   ],
   "source": [
    "stats.mode(RH)"
   ]
  },
  {
   "cell_type": "code",
   "execution_count": 37,
   "metadata": {
    "collapsed": false
   },
   "outputs": [
    {
     "data": {
      "image/png": "[encoded data removed]",
      "text/plain": [
       "<matplotlib.figure.Figure at 0x1137306a0>"
      ]
     },
     "metadata": {},
     "output_type": "display_data"
    },
    {
     "ename": "ValueError",
     "evalue": "The truth value of an array with more than one element is ambiguous. Use a.any() or a.all()",
     "output_type": "error",
     "traceback": [
      "\u001b[0;31m---------------------------------------------------------------------------\u001b[0m",
      "\u001b[0;31mValueError\u001b[0m                                Traceback (most recent call last)",
      "\u001b[0;32m<ipython-input-37-1a0392c95f91>\u001b[0m in \u001b[0;36m<module>\u001b[0;34m()\u001b[0m\n\u001b[0;32m----> 1\u001b[0;31m \u001b[0mplt\u001b[0m\u001b[0;34m.\u001b[0m\u001b[0mshow\u001b[0m\u001b[0;34m(\u001b[0m\u001b[0mRH\u001b[0m\u001b[0;34m)\u001b[0m \u001b[0;31m# traigo error porque para estos datos es no se aplica esta grafica.\u001b[0m\u001b[0;34m\u001b[0m\u001b[0m\n\u001b[0m",
      "\u001b[0;32m/Users/rene/anaconda/lib/python3.6/site-packages/matplotlib/pyplot.py\u001b[0m in \u001b[0;36mshow\u001b[0;34m(*args, **kw)\u001b[0m\n\u001b[1;32m    251\u001b[0m     \"\"\"\n\u001b[1;32m    252\u001b[0m     \u001b[0;32mglobal\u001b[0m \u001b[0m_show\u001b[0m\u001b[0;34m\u001b[0m\u001b[0m\n\u001b[0;32m--> 253\u001b[0;31m     \u001b[0;32mreturn\u001b[0m \u001b[0m_show\u001b[0m\u001b[0;34m(\u001b[0m\u001b[0;34m*\u001b[0m\u001b[0margs\u001b[0m\u001b[0;34m,\u001b[0m \u001b[0;34m**\u001b[0m\u001b[0mkw\u001b[0m\u001b[0;34m)\u001b[0m\u001b[0;34m\u001b[0m\u001b[0m\n\u001b[0m\u001b[1;32m    254\u001b[0m \u001b[0;34m\u001b[0m\u001b[0m\n\u001b[1;32m    255\u001b[0m \u001b[0;34m\u001b[0m\u001b[0m\n",
      "\u001b[0;32m/Users/rene/anaconda/lib/python3.6/site-packages/ipykernel/pylab/backend_inline.py\u001b[0m in \u001b[0;36mshow\u001b[0;34m(close, block)\u001b[0m\n\u001b[1;32m     39\u001b[0m         \u001b[0;31m# only call close('all') if any to close\u001b[0m\u001b[0;34m\u001b[0m\u001b[0;34m\u001b[0m\u001b[0m\n\u001b[1;32m     40\u001b[0m         \u001b[0;31m# close triggers gc.collect, which can be slow\u001b[0m\u001b[0;34m\u001b[0m\u001b[0;34m\u001b[0m\u001b[0m\n\u001b[0;32m---> 41\u001b[0;31m         \u001b[0;32mif\u001b[0m \u001b[0mclose\u001b[0m \u001b[0;32mand\u001b[0m \u001b[0mGcf\u001b[0m\u001b[0;34m.\u001b[0m\u001b[0mget_all_fig_managers\u001b[0m\u001b[0;34m(\u001b[0m\u001b[0;34m)\u001b[0m\u001b[0;34m:\u001b[0m\u001b[0;34m\u001b[0m\u001b[0m\n\u001b[0m\u001b[1;32m     42\u001b[0m             \u001b[0mmatplotlib\u001b[0m\u001b[0;34m.\u001b[0m\u001b[0mpyplot\u001b[0m\u001b[0;34m.\u001b[0m\u001b[0mclose\u001b[0m\u001b[0;34m(\u001b[0m\u001b[0;34m'all'\u001b[0m\u001b[0;34m)\u001b[0m\u001b[0;34m\u001b[0m\u001b[0m\n\u001b[1;32m     43\u001b[0m \u001b[0;34m\u001b[0m\u001b[0m\n",
      "\u001b[0;31mValueError\u001b[0m: The truth value of an array with more than one element is ambiguous. Use a.any() or a.all()"
     ]
    }
   ],
   "source": [
    "plt.show(RH) # traigo error porque para estos datos es no se aplica esta grafica."
   ]
  },
  {
   "cell_type": "markdown",
   "metadata": {
    "collapsed": false
   },
   "source": [
    "# DISTRIBUCION UNIFORME\n"
   ]
  },
  {
   "cell_type": "code",
   "execution_count": 44,
   "metadata": {
    "collapsed": false
   },
   "outputs": [],
   "source": [
    "import numpy as np \n",
    "import matplotlib.pyplot as pl ## RECORDAR \"pl\" se puede intercalar y la gráfica sale diferente.\n",
    "valores = np.random.uniform(-10.0,10.0,100000)"
   ]
  },
  {
   "cell_type": "code",
   "execution_count": 45,
   "metadata": {
    "collapsed": false
   },
   "outputs": [
    {
     "data": {
      "text/plain": [
       "(array([ 1960.,  2032.,  2013.,  1969.,  2031.,  1966.,  1993.,  1987.,\n",
       "         1995.,  2007.,  1951.,  2026.,  1990.,  1964.,  1960.,  1955.,\n",
       "         1967.,  1883.,  1939.,  2035.,  2056.,  1994.,  1988.,  1984.,\n",
       "         1932.,  2027.,  2040.,  2020.,  2057.,  2119.,  1994.,  2045.,\n",
       "         1967.,  2040.,  1937.,  1928.,  2017.,  2008.,  2023.,  2003.,\n",
       "         2013.,  2022.,  2061.,  2019.,  2084.,  2009.,  1990.,  2022.,\n",
       "         1979.,  1999.]),\n",
       " array([ -9.99996326e+00,  -9.59996443e+00,  -9.19996560e+00,\n",
       "         -8.79996677e+00,  -8.39996795e+00,  -7.99996912e+00,\n",
       "         -7.59997029e+00,  -7.19997146e+00,  -6.79997263e+00,\n",
       "         -6.39997380e+00,  -5.99997497e+00,  -5.59997615e+00,\n",
       "         -5.19997732e+00,  -4.79997849e+00,  -4.39997966e+00,\n",
       "         -3.99998083e+00,  -3.59998200e+00,  -3.19998318e+00,\n",
       "         -2.79998435e+00,  -2.39998552e+00,  -1.99998669e+00,\n",
       "         -1.59998786e+00,  -1.19998903e+00,  -7.99990206e-01,\n",
       "         -3.99991378e-01,   7.45039815e-06,   4.00006279e-01,\n",
       "          8.00005107e-01,   1.20000394e+00,   1.60000276e+00,\n",
       "          2.00000159e+00,   2.40000042e+00,   2.79999925e+00,\n",
       "          3.19999808e+00,   3.59999691e+00,   3.99999573e+00,\n",
       "          4.39999456e+00,   4.79999339e+00,   5.19999222e+00,\n",
       "          5.59999105e+00,   5.99998988e+00,   6.39998870e+00,\n",
       "          6.79998753e+00,   7.19998636e+00,   7.59998519e+00,\n",
       "          7.99998402e+00,   8.39998285e+00,   8.79998167e+00,\n",
       "          9.19998050e+00,   9.59997933e+00,   9.99997816e+00]),\n",
       " <a list of 50 Patch objects>)"
      ]
     },
     "execution_count": 45,
     "metadata": {},
     "output_type": "execute_result"
    }
   ],
   "source": [
    "pl.hist(valores, 50)"
   ]
  },
  {
   "cell_type": "code",
   "execution_count": 46,
   "metadata": {
    "collapsed": false
   },
   "outputs": [
    {
     "data": {
      "image/png": "[encoded data removed]",
      "text/plain": [
       "<matplotlib.figure.Figure at 0x113c87208>"
      ]
     },
     "metadata": {},
     "output_type": "display_data"
    }
   ],
   "source": [
    "pl.show()"
   ]
  },
  {
   "cell_type": "code",
   "execution_count": 57,
   "metadata": {
    "collapsed": false
   },
   "outputs": [],
   "source": [
    "# Distribucion exponencial\n",
    "from scipy.stats import expon\n",
    "import matplotlib.pyplot as plt\n",
    "x = np.arange(0,10,0.001)"
   ]
  },
  {
   "cell_type": "code",
   "execution_count": 58,
   "metadata": {
    "collapsed": false
   },
   "outputs": [
    {
     "data": {
      "text/plain": [
       "[<matplotlib.lines.Line2D at 0x1143c8160>]"
      ]
     },
     "execution_count": 58,
     "metadata": {},
     "output_type": "execute_result"
    }
   ],
   "source": [
    "plt.plot(x, expon.pdf(x))"
   ]
  },
  {
   "cell_type": "code",
   "execution_count": 59,
   "metadata": {
    "collapsed": false
   },
   "outputs": [
    {
     "data": {
      "image/png": "[encoded data removed]",
      "text/plain": [
       "<matplotlib.figure.Figure at 0x1142f2e80>"
      ]
     },
     "metadata": {},
     "output_type": "display_data"
    }
   ],
   "source": [
    "plt.show()"
   ]
  },
  {
   "cell_type": "markdown",
   "metadata": {},
   "source": [
    "# Función masa probabilidad binomial"
   ]
  },
  {
   "cell_type": "code",
   "execution_count": 71,
   "metadata": {
    "collapsed": false
   },
   "outputs": [
    {
     "data": {
      "text/plain": [
       "[<matplotlib.lines.Line2D at 0x11483cba8>]"
      ]
     },
     "execution_count": 71,
     "metadata": {},
     "output_type": "execute_result"
    }
   ],
   "source": [
    "from scipy.stats import binom\n",
    "import matplotlib.pyplot as plt\n",
    "n,p = 10, 0.5 # rango de la binomial\n",
    "plt.plot(x, binom.pmf(x,n,p))  #funcion de masa (acumulada), # PMF- probability mass funtion"
   ]
  },
  {
   "cell_type": "code",
   "execution_count": 63,
   "metadata": {
    "collapsed": false
   },
   "outputs": [
    {
     "data": {
      "image/png": "[encoded data removed]",
      "text/plain": [
       "<matplotlib.figure.Figure at 0x1143c8c88>"
      ]
     },
     "metadata": {},
     "output_type": "display_data"
    }
   ],
   "source": [
    "plt.show() # es discreta"
   ]
  },
  {
   "cell_type": "markdown",
   "metadata": {},
   "source": [
    "# Poisson funcion de masa"
   ]
  },
  {
   "cell_type": "code",
   "execution_count": 64,
   "metadata": {
    "collapsed": true
   },
   "outputs": [],
   "source": [
    "from scipy.stats import poisson\n",
    "import matplotlib.pyplot as plt\n",
    "mu = 500 # parametros\n",
    "x = np.arange(100,600,0.5)"
   ]
  },
  {
   "cell_type": "code",
   "execution_count": 65,
   "metadata": {
    "collapsed": false
   },
   "outputs": [
    {
     "data": {
      "text/plain": [
       "[<matplotlib.lines.Line2D at 0x1144ee198>]"
      ]
     },
     "execution_count": 65,
     "metadata": {},
     "output_type": "execute_result"
    }
   ],
   "source": [
    "plt.plot(x,poisson.pmf(x, mu))"
   ]
  },
  {
   "cell_type": "code",
   "execution_count": 66,
   "metadata": {
    "collapsed": false
   },
   "outputs": [
    {
     "data": {
      "image/png": "[encoded data removed]",
      "text/plain": [
       "<matplotlib.figure.Figure at 0x1143d3198>"
      ]
     },
     "metadata": {},
     "output_type": "display_data"
    }
   ],
   "source": [
    "plt.show() # Recorre todos los datos"
   ]
  },
  {
   "cell_type": "markdown",
   "metadata": {},
   "source": [
    "# Visualización de datos\n",
    "\n",
    "## con matplot basico"
   ]
  },
  {
   "cell_type": "code",
   "execution_count": 97,
   "metadata": {
    "collapsed": true
   },
   "outputs": [],
   "source": [
    "from scipy.stats import norm\n",
    "import matplotlib.pyplot as plt\n",
    "x = np.arange(-3,3,0.001)"
   ]
  },
  {
   "cell_type": "code",
   "execution_count": 98,
   "metadata": {
    "collapsed": false
   },
   "outputs": [
    {
     "data": {
      "text/plain": [
       "[<matplotlib.lines.Line2D at 0x114b7c780>]"
      ]
     },
     "execution_count": 98,
     "metadata": {},
     "output_type": "execute_result"
    }
   ],
   "source": [
    "plt.plot(x, norm.pdf(x)) # PDF- probability density funtion"
   ]
  },
  {
   "cell_type": "code",
   "execution_count": 101,
   "metadata": {
    "collapsed": false
   },
   "outputs": [],
   "source": [
    "#plt.show()\n",
    "# Salvar las gráficas\n",
    "plt.savefig('grafica2-ReneSolis.png') # Guardará la figura en HDD\n"
   ]
  },
  {
   "cell_type": "code",
   "execution_count": 77,
   "metadata": {
    "collapsed": true
   },
   "outputs": [],
   "source": []
  },
  {
   "cell_type": "code",
   "execution_count": null,
   "metadata": {
    "collapsed": true
   },
   "outputs": [],
   "source": []
  }
 ],
 "metadata": {
  "kernelspec": {
   "display_name": "Python 3",
   "language": "python",
   "name": "python3"
  },
  "language_info": {
   "codemirror_mode": {
    "name": "ipython",
    "version": 3
   },
   "file_extension": ".py",
   "mimetype": "text/x-python",
   "name": "python",
   "nbconvert_exporter": "python",
   "pygments_lexer": "ipython3",
   "version": "3.6.0"
  }
 },
 "nbformat": 4,
 "nbformat_minor": 2
}
