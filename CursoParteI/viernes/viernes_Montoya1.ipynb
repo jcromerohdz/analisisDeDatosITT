{
 "cells": [
  {
   "cell_type": "markdown",
   "metadata": {},
   "source": [
    "El teorema de Bayes\n",
    "P(A|B) = P(A) P(A|B) / P(B)\n",
    "\n",
    "* ¿Como usarlo con machine learning para construir un clasificador?\n",
    "Ejemplo. Expresar la probabilidad de que un email sea spam si contiene \n",
    "la palabra \"Free\".\n",
    "\n",
    "* P(SPAM|Free) = P(SPAM) P(Free|SPAM) / P(Free)\n",
    "\n",
    "* Donde el numerador represente la probabilidad de que el mensaje sea SPAM\n",
    "   contenga la palabra \"Free\".\n",
    "\n",
    "* Y el denominador es la probabilidad de que el mensaje contenga la palabra \"Free\"\n",
    " \n",
    "* El modelo nos dara un conjunto en % de emails que contengan la palabra \"Free\" \n",
    "  que son SPAM\n",
    "  \n",
    " Suena complicado y mucho trabajo pero\n",
    " \n",
    " * Scikit-learn al rescate!!  \n",
    " \n",
    " * Esta biblioteca contiene un metodo llamado CountVectorizer que nos permite\n",
    "   trabajar con grandes cantidades de palabras, tambien contienen el metodo\n",
    "   MultinomialNB que el trtabajo pesado de Naive Bayes.\n",
    "   \n",
    " * Entrenaremos un conjunto donde se conoce que tienen Spam y \"HAM\" donde\n",
    "   \"HAM\" son los no SPAM, esto conoce como Aprendizaje Supervisado.\n",
    "   \n",
    "A codificar!!  "
   ]
  },
  {
   "cell_type": "code",
   "execution_count": 105,
   "metadata": {
    "collapsed": true
   },
   "outputs": [],
   "source": [
    "import  sklearn"
   ]
  },
  {
   "cell_type": "code",
   "execution_count": 106,
   "metadata": {
    "collapsed": true
   },
   "outputs": [],
   "source": [
    "import os\n",
    "import io\n",
    "import numpy\n",
    "from pandas import DataFrame\n",
    "from sklearn.feature_extraction.text import CountVectorizer\n",
    "from sklearn.naive_bayes import MultinomialNB"
   ]
  },
  {
   "cell_type": "code",
   "execution_count": 107,
   "metadata": {},
   "outputs": [],
   "source": [
    "def readFiles(path):\n",
    "    for root, dirnames, filenames in os.walk(path):\n",
    "        for filename in filenames:\n",
    "            path = os.path.join(root,filename)\n",
    "            \n",
    "            inBody = False\n",
    "            lines =[]\n",
    "            f = io.open(path,'r', encoding='latin1')\n",
    "            for line in f:\n",
    "              if inBody:\n",
    "                    lines.append(line)\n",
    "              elif line == '\\n' :\n",
    "                  inBody=True\n",
    "            f.close()\n",
    "            message = '\\n'.join(lines)\n",
    "            yield path, message\n",
    "                    \n",
    "        \n",
    "        "
   ]
  },
  {
   "cell_type": "code",
   "execution_count": 108,
   "metadata": {
    "collapsed": true
   },
   "outputs": [],
   "source": [
    "def dataFrameFromDirectory(path, classification):\n",
    "    rows =[]\n",
    "    index =[]\n",
    "    for filename, message in readFiles(path):\n",
    "        rows.append({'message': message,'class':classification})\n",
    "        index.append(filename)\n",
    "        \n",
    "    return DataFrame(rows, index=index)    \n"
   ]
  },
  {
   "cell_type": "code",
   "execution_count": 122,
   "metadata": {},
   "outputs": [],
   "source": [
    "data = DataFrame({'message':[],'class':[]})\n",
    "\n",
    "data = data.append(dataFrameFromDirectory('emails/spam','spam'))\n",
    "data = data.append(dataFrameFromDirectory('emails/ham','ham'))\n"
   ]
  },
  {
   "cell_type": "code",
   "execution_count": 110,
   "metadata": {},
   "outputs": [
    {
     "data": {
      "text/plain": [
       "<bound method DataFrame.head of                                                    class  \\\n",
       "emails/spam/00334.a1038f98abb76b403d068afb57bfb290  spam   \n",
       "emails/spam/00446.a54877313142d56c24d499d761c48fb1  spam   \n",
       "emails/spam/00419.141092086514a246ff2ff8d4bc523400  spam   \n",
       "emails/spam/00467.5b733c506b7165424a0d4a298e67970f  spam   \n",
       "emails/spam/00063.2334fb4e465fc61e8406c75918ff72ed  spam   \n",
       "emails/spam/00176.79f82496c612ea28f45f13ca5c47f8c2  spam   \n",
       "emails/spam/00250.32279787338af8a5de4cfbc0b837718e  spam   \n",
       "emails/spam/00298.90b548a0816ca0783f012bb9c69166cc  spam   \n",
       "emails/spam/00297.3350c2dbbb0272c27b2c7773d7012356  spam   \n",
       "emails/spam/00421.ca2fe949a956845a9ba81c649a7db6c0  spam   \n",
       "emails/spam/00112.be81f2f6f7940a9403c9809b4a9e243a  spam   \n",
       "emails/spam/00146.e9b64856c0cd982a64f47c9ab9084287  spam   \n",
       "emails/spam/00465.ca5d79d0e5dadee322c117789196ebb4  spam   \n",
       "emails/spam/00084.a9f5b3a9b7feb7070f25ae76320c8ec6  spam   \n",
       "emails/spam/00439.6f4246a5e3336b6ecb5624e209e0b59f  spam   \n",
       "emails/spam/00460.8996dc28ab56dd7b6f35b956deceaf22  spam   \n",
       "emails/spam/00181.a9ce64eb710cb3f00a7d7db7911291ab  spam   \n",
       "emails/spam/00128.721b6b20d5834d490662e2ae8c5c0684  spam   \n",
       "emails/spam/00398.1939605e3c713ff2ef852b1fbf10b0bb  spam   \n",
       "emails/spam/00328.73c1a9f83d3b1247522c26eb6d74c215  spam   \n",
       "emails/spam/00246.4dc5830a5a3e1fda805613b61822bac8  spam   \n",
       "emails/spam/00118.b31615605a37b4878bd1de4f829c89cb  spam   \n",
       "emails/spam/00185.8ca19012fa3f2a906f23c3b41f11ffed  spam   \n",
       "emails/spam/00227.1171cc6d8c586141b4110a2abdccba00  spam   \n",
       "emails/spam/00469.ee3b2f31459cc2ec43ae7cae00d40cf6  spam   \n",
       "emails/spam/00333.4bb36a535cb3d738f30f985f1e10a786  spam   \n",
       "emails/spam/00273.0c7d73771d79e84e2aab8c909c5bb210  spam   \n",
       "emails/spam/00051.fd20658f0e586d1f27f9396401f4981c  spam   \n",
       "emails/spam/00021.effe1449462a9d7ad7af0f1c94b1a237  spam   \n",
       "emails/spam/00129.1080cea3a532759b015dc071d033749d  spam   \n",
       "...                                                  ...   \n",
       "emails/ham/00590.3b596d6b2e6ad9b9f5cf3593a398260b    ham   \n",
       "emails/ham/01284.5134a1b148030ba27c152e387c3e8369    ham   \n",
       "emails/ham/01550.a036d340bdcf122c8eca891557d50b51    ham   \n",
       "emails/ham/01007.69e228a20df371852b13376f64d01002    ham   \n",
       "emails/ham/00873.9fa4518a4adfab3e6b194ee33a89b2e0    ham   \n",
       "emails/ham/00933.20b1ef5013048f152931fb6c4e92e9ce    ham   \n",
       "emails/ham/01289.1546c81997f7f3f154f6ef18d6e6bbf7    ham   \n",
       "emails/ham/01494.546fc9949239936419fc8decce22bd7e    ham   \n",
       "emails/ham/02499.b4af165650f138b10f9941f6cc5bce3c    ham   \n",
       "emails/ham/00062.009f5a1a8fa88f0b38299ad01562bb37    ham   \n",
       "emails/ham/02360.e0e26457785f0c6b622dd5b94996ced9    ham   \n",
       "emails/ham/01507.e06cf7fcfb3a512f43c827529c19a9e6    ham   \n",
       "emails/ham/00615.4762e05d7ff70fa43cccbad6745b34cb    ham   \n",
       "emails/ham/00918.4fb416f486e8b21ffe522b4074598b69    ham   \n",
       "emails/ham/02379.dc53ca4837452561724dbf9afd8a52b9    ham   \n",
       "emails/ham/01894.a6896770e24b5211fa506b0039343769    ham   \n",
       "emails/ham/01315.8e0a668ce9b6e62261baccba167f8a67    ham   \n",
       "emails/ham/01851.7d72251b2e0ef6c5092d34b393efac00    ham   \n",
       "emails/ham/00634.3215eb7dfc919ae5ca49520f9fcd43df    ham   \n",
       "emails/ham/02021.8cb448c156646bcd63bd5f4d801445fb    ham   \n",
       "emails/ham/02140.ccabcb71ece6c0835518e4c7900ef94b    ham   \n",
       "emails/ham/01772.e17237d8112c2741c1b8819ed4cff474    ham   \n",
       "emails/ham/02061.22bbc22474fdf08ca2fb5d8353675730    ham   \n",
       "emails/ham/01773.e0850dc6f3d7e902f61de852025ad50b    ham   \n",
       "emails/ham/00323.8f7195f98946c42be7c95881ad779fbe    ham   \n",
       "emails/ham/00637.0f0bbdfd5cab1e45883719f70f691862    ham   \n",
       "emails/ham/00693.6849440c3e1d1584a9f05b067d0062aa    ham   \n",
       "emails/ham/00737.fe2d8d182d9bc421411c9ca9012f3afc    ham   \n",
       "emails/ham/00340.91d8c92aa5eccc84c40364fc4fc1ed63    ham   \n",
       "emails/ham/00948.12717d1c7815c5e226f5b4324220dcd8    ham   \n",
       "\n",
       "                                                                                              message  \n",
       "emails/spam/00334.a1038f98abb76b403d068afb57bfb290  ------000000000000000000000\\n\\nContent-Type: t...  \n",
       "emails/spam/00446.a54877313142d56c24d499d761c48fb1  Tired of paying big bucks for satellite t.v.?\\...  \n",
       "emails/spam/00419.141092086514a246ff2ff8d4bc523400  Do You Want To Teach and Grow Rich?\\n\\n\\n\\n\\n\\...  \n",
       "emails/spam/00467.5b733c506b7165424a0d4a298e67970f  This is a multipart MIME message.\\n\\n\\n\\n--= M...  \n",
       "emails/spam/00063.2334fb4e465fc61e8406c75918ff72ed  IS YOUR BUSINESS MAKING MONEY!\\n\\nSet Up To Ac...  \n",
       "emails/spam/00176.79f82496c612ea28f45f13ca5c47f8c2  <html>\\n\\n<head>\\n\\n<title></title>\\n\\n</head>...  \n",
       "emails/spam/00250.32279787338af8a5de4cfbc0b837718e  It was the Spring of 1979.  \\n\\n\\n\\nI was just...  \n",
       "emails/spam/00298.90b548a0816ca0783f012bb9c69166cc  This is a multi-part message in MIME format.\\n...  \n",
       "emails/spam/00297.3350c2dbbb0272c27b2c7773d7012356  <!DOCTYPE HTML PUBLIC \"-//W3C//DTD HTML 3.2//E...  \n",
       "emails/spam/00421.ca2fe949a956845a9ba81c649a7db6c0  This is a multi-part message in MIME format.\\n...  \n",
       "emails/spam/00112.be81f2f6f7940a9403c9809b4a9e243a  INVESTMENT SCHOLARS CLUB- bringing you the lat...  \n",
       "emails/spam/00146.e9b64856c0cd982a64f47c9ab9084287  \\n\\n<!DOCTYPE HTML PUBLIC \"-//W3C//DTD HTML 4....  \n",
       "emails/spam/00465.ca5d79d0e5dadee322c117789196ebb4  Mr.Vincent Nnaji,\\n\\n Standard Trust Bank Ltd,...  \n",
       "emails/spam/00084.a9f5b3a9b7feb7070f25ae76320c8ec6  Dear Sir,\\n\\n\\n\\nI am Dr James Alabi, the chai...  \n",
       "emails/spam/00439.6f4246a5e3336b6ecb5624e209e0b59f  When America's top companies compete for your ...  \n",
       "emails/spam/00460.8996dc28ab56dd7b6f35b956deceaf22  Hi -\\n\\n\\n\\n( http://club.4tfox.com )\\n\\n\\n\\nY...  \n",
       "emails/spam/00181.a9ce64eb710cb3f00a7d7db7911291ab  <html>\\n\\n<body>\\n\\n<p>67% of women desire a &...  \n",
       "emails/spam/00128.721b6b20d5834d490662e2ae8c5c0684  ------=_NextPart_000_00A0_03E30A1A.B1804B54\\n\\...  \n",
       "emails/spam/00398.1939605e3c713ff2ef852b1fbf10b0bb  <!DOCTYPE HTML PUBLIC \"-//W3C//DTD HTML 4.0 Tr...  \n",
       "emails/spam/00328.73c1a9f83d3b1247522c26eb6d74c215  \\n\\n       Socijalisticka partija Srbije, pred...  \n",
       "emails/spam/00246.4dc5830a5a3e1fda805613b61822bac8  <html>\\n\\n<head>\\n\\n<meta http-equiv=3D\"Conten...  \n",
       "emails/spam/00118.b31615605a37b4878bd1de4f829c89cb  YOUR SEX DRIVE SHOULD NEVER BE SECOND ON THE L...  \n",
       "emails/spam/00185.8ca19012fa3f2a906f23c3b41f11ffed  Nationwide PC Repairs and Upgrades\\n\\n\\n\\n*No ...  \n",
       "emails/spam/00227.1171cc6d8c586141b4110a2abdccba00  Dear friend,\\n\\n\\n\\nI am Mrs. Sese-seko widow ...  \n",
       "emails/spam/00469.ee3b2f31459cc2ec43ae7cae00d40cf6  Lowest rates available for term life insurance...  \n",
       "emails/spam/00333.4bb36a535cb3d738f30f985f1e10a786  ------000000000000000000000\\n\\nContent-Type: t...  \n",
       "emails/spam/00273.0c7d73771d79e84e2aab8c909c5bb210  This is a multi-part message in MIME format.\\n...  \n",
       "emails/spam/00051.fd20658f0e586d1f27f9396401f4981c  Help wanted.  We are a 14 year old fortune 500...  \n",
       "emails/spam/00021.effe1449462a9d7ad7af0f1c94b1a237  CENTRAL BANK OF NIGERIA\\n\\nFOREIGN REMITTANCE ...  \n",
       "emails/spam/00129.1080cea3a532759b015dc071d033749d  Removal instructions below\\n\\n\\n\\n\\n\\nI saw yo...  \n",
       "...                                                                                               ...  \n",
       "emails/ham/00590.3b596d6b2e6ad9b9f5cf3593a398260b   John Hall wrote:\\n\\n\\n\\n>>From: Stephen D. Wil...  \n",
       "emails/ham/01284.5134a1b148030ba27c152e387c3e8369   Matthias Saou wrote:\\n\\n\\n\\n>Once upon a time,...  \n",
       "emails/ham/01550.a036d340bdcf122c8eca891557d50b51   Bonjour,\\n\\n\\n\\n Always for my script, if i ru...  \n",
       "emails/ham/01007.69e228a20df371852b13376f64d01002   exmh has a funky cut/paste model that is essen...  \n",
       "emails/ham/00873.9fa4518a4adfab3e6b194ee33a89b2e0   people with too much time on their hands..\\n\\n...  \n",
       "emails/ham/00933.20b1ef5013048f152931fb6c4e92e9ce   On 27 Aug 2002 at 15:00, Rohit Khare wrote:\\n\\...  \n",
       "emails/ham/01289.1546c81997f7f3f154f6ef18d6e6bbf7   On 14:22 29 Aug 2002, Matthias Saou <matthias@...  \n",
       "emails/ham/01494.546fc9949239936419fc8decce22bd7e   > > Would someone please enlighten me on depen...  \n",
       "emails/ham/02499.b4af165650f138b10f9941f6cc5bce3c   Neale Pickett <neale@woozle.org> writes:\\n\\n\\n...  \n",
       "emails/ham/00062.009f5a1a8fa88f0b38299ad01562bb37   (This list is sponsored by Ironclad Networks h...  \n",
       "emails/ham/02360.e0e26457785f0c6b622dd5b94996ced9   URL: http://www.newsisfree.com/click/-2,865570...  \n",
       "emails/ham/01507.e06cf7fcfb3a512f43c827529c19a9e6   Unable to find user: <matt_relay@sbcglobal.net...  \n",
       "emails/ham/00615.4762e05d7ff70fa43cccbad6745b34cb   \"Adam L. Beberg\" wrote:\\n\\n> So, who has done ...  \n",
       "emails/ham/00918.4fb416f486e8b21ffe522b4074598b69   On Fri, 23 Aug 2002, Robert Harley wrote:\\n\\n\\...  \n",
       "emails/ham/02379.dc53ca4837452561724dbf9afd8a52b9   URL: http://boingboing.net/#85541036\\n\\nDate: ...  \n",
       "emails/ham/01894.a6896770e24b5211fa506b0039343769   URL: http://boingboing.net/#85485824\\n\\nDate: ...  \n",
       "emails/ham/01315.8e0a668ce9b6e62261baccba167f8a67   Update of /cvsroot/spamassassin/spamassassin/m...  \n",
       "emails/ham/01851.7d72251b2e0ef6c5092d34b393efac00   URL: http://boingboing.net/#85482924\\n\\nDate: ...  \n",
       "emails/ham/00634.3215eb7dfc919ae5ca49520f9fcd43df   less obscure haiku \\n\\n\\n\\nbuy a puppy, ro!\\n\\...  \n",
       "emails/ham/02021.8cb448c156646bcd63bd5f4d801445fb   URL: http://www.askbjoernhansen.com/archives/2...  \n",
       "emails/ham/02140.ccabcb71ece6c0835518e4c7900ef94b   URL: http://www.newsisfree.com/click/-2,841883...  \n",
       "emails/ham/01772.e17237d8112c2741c1b8819ed4cff474   use Perl Daily Headline Mailer\\n\\n\\n\\nPerl Por...  \n",
       "emails/ham/02061.22bbc22474fdf08ca2fb5d8353675730   URL: http://boingboing.net/#85505975\\n\\nDate: ...  \n",
       "emails/ham/01773.e0850dc6f3d7e902f61de852025ad50b   use Perl Daily Newsletter\\n\\n\\n\\nIn this issue...  \n",
       "emails/ham/00323.8f7195f98946c42be7c95881ad779fbe   ----------------------------------------------...  \n",
       "emails/ham/00637.0f0bbdfd5cab1e45883719f70f691862   This sort of thing is, in my (limited?) experi...  \n",
       "emails/ham/00693.6849440c3e1d1584a9f05b067d0062aa   > As I've said before, American\\n\\n> Indian Re...  \n",
       "emails/ham/00737.fe2d8d182d9bc421411c9ca9012f3afc   > From: bitbitch@magnesium.net [mailto:bitbitc...  \n",
       "emails/ham/00340.91d8c92aa5eccc84c40364fc4fc1ed63   \\n\\nWhat are you trying to sell???? What is th...  \n",
       "emails/ham/00948.12717d1c7815c5e226f5b4324220dcd8   --==_Exmh_-1913987426P\\n\\nContent-Type: text/p...  \n",
       "\n",
       "[3000 rows x 2 columns]>"
      ]
     },
     "execution_count": 110,
     "metadata": {},
     "output_type": "execute_result"
    }
   ],
   "source": [
    "data.head"
   ]
  },
  {
   "cell_type": "code",
   "execution_count": 111,
   "metadata": {},
   "outputs": [
    {
     "data": {
      "text/plain": [
       "MultinomialNB(alpha=1.0, class_prior=None, fit_prior=True)"
      ]
     },
     "execution_count": 111,
     "metadata": {},
     "output_type": "execute_result"
    }
   ],
   "source": [
    "vectorizer=CountVectorizer()\n",
    "counts = vectorizer.fit_transform(data['message'].values)\n",
    "\n",
    "classifier = MultinomialNB()\n",
    "targets = data['class'].values\n",
    "\n",
    "classifier.fit(counts, targets)\n",
    "\n",
    "\n",
    "\n"
   ]
  },
  {
   "cell_type": "code",
   "execution_count": 112,
   "metadata": {},
   "outputs": [
    {
     "data": {
      "text/plain": [
       "array(['spam', 'ham'], \n",
       "      dtype='|S4')"
      ]
     },
     "execution_count": 112,
     "metadata": {},
     "output_type": "execute_result"
    }
   ],
   "source": [
    "examples = [' Viagra now  free !!!', 'Hi, Free  Free  free Bob, how about a game of golf tomorrow']\n",
    "example_counts = vectorizer.transform(examples)\n",
    "predictions = classifier.predict(example_counts)\n",
    "predictions"
   ]
  },
  {
   "cell_type": "code",
   "execution_count": 123,
   "metadata": {},
   "outputs": [],
   "source": [
    "\n",
    "\n",
    "\n",
    "\n",
    "\n",
    "\n",
    "# train = 2500\n",
    "# test = 500\n",
    "# Aplicar un slidezing\n",
    "import pandas as pd\n",
    "\n",
    "# Funcion de corte junto con entrenamientos\n",
    "def checarFun(train, test):\n",
    "    #\n",
    "    vectorizer = CountVectorizer()\n",
    "    counts = vectorizer.fit_transform(data['message'][:train].values) # partir a 2500\n",
    "    # training\n",
    "    classifier = MultinomialNB()\n",
    "    targets = data['class'][:train].values # esta bien a 2500\n",
    "    classifier.fit(counts, targets)\n",
    "    \n",
    "    # prediction\n",
    "    examples = data['message'][test:]\n",
    "    example_counts = vectorizer.transform(examples)\n",
    "    predictions = classifier.predict(example_counts)\n",
    "    #\n",
    "    return pd.Series(predictions).value_counts()\n",
    "\n",
    "#\n",
    "\n",
    "\n",
    "\n",
    "\n",
    "\n",
    "\n",
    "\n",
    "\n",
    "\n",
    "\n",
    "\n",
    "\n",
    "\n"
   ]
  },
  {
   "cell_type": "code",
   "execution_count": 124,
   "metadata": {},
   "outputs": [
    {
     "data": {
      "text/plain": [
       "ham     2494\n",
       "spam       6\n",
       "dtype: int64"
      ]
     },
     "execution_count": 124,
     "metadata": {},
     "output_type": "execute_result"
    }
   ],
   "source": [
    "checarFun(2500,500)"
   ]
  },
  {
   "cell_type": "code",
   "execution_count": 125,
   "metadata": {},
   "outputs": [
    {
     "data": {
      "text/plain": [
       "ham     1995\n",
       "spam       5\n",
       "dtype: int64"
      ]
     },
     "execution_count": 125,
     "metadata": {},
     "output_type": "execute_result"
    }
   ],
   "source": [
    "checarFun(2000,1000)\n"
   ]
  },
  {
   "cell_type": "code",
   "execution_count": null,
   "metadata": {
    "collapsed": true
   },
   "outputs": [],
   "source": []
  }
 ],
 "metadata": {
  "kernelspec": {
   "display_name": "Python 2",
   "language": "python",
   "name": "python2"
  },
  "language_info": {
   "codemirror_mode": {
    "name": "ipython",
    "version": 2
   },
   "file_extension": ".py",
   "mimetype": "text/x-python",
   "name": "python",
   "nbconvert_exporter": "python",
   "pygments_lexer": "ipython2",
   "version": "2.7.13"
  }
 },
 "nbformat": 4,
 "nbformat_minor": 2
}
