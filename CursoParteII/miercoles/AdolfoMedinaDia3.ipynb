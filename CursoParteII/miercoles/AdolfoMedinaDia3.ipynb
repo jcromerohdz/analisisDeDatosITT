{
 "cells": [
  {
   "cell_type": "code",
   "execution_count": 54,
   "metadata": {},
   "outputs": [],
   "source": [
    "users = {\"Angelica\":{\"Moderatto\":2.5, \"Caifanes\":2.0, \"Heroes del Silencio\":4.5,\"Soda Estereo\":5.0, \"Tierra Santa\":1.5, \"Rata Blanca\":2.5, \"Mago de Oz\":2.0},\n",
    "    \"Bill\":{\"Moderatto\":2.0, \"Tierra Santa\":3.5,\"mago de Oz\":3.0,\"Lisa Simpson\":4.0,\"Rata Blanca\":2},\n",
    "        \"Chan\":{\"Moderatto\":5.0, \"Caifanes\":1.0, \"La ley\":1.0, \"Heroes del silencio\":3.0,\"Soda Estereo\": 5.0,\"Tierra Santa\":1.0},\n",
    "            \"Dan\":{\"Moderatto\":3.0, \"Caifanes\":4.0, \"La Ley\": 4.5,\"Soda Estereo\":3.0, \"Tierra Santa\":4.5,\"Rata Blanca\":4.0,\"Mago de Oz\":2.0},\n",
    "                \"Hailey\":{\"Caifanes\":4.0,\"La Ley\":1.0,\"Heroes del Silencio\":4.0,\"Rata Blanca\":4.0, \"Mago de Oz\": 1.0},                    \n",
    "                        \"Jordyn\":{\"Caifanes\":4.5, \"La Ley\": 4.0, \"Heroes del Silencio\":5.0, \"Soda Estereo\":5.0,\"Tierra Santa\": 4.0, \"Rata Blanca\":5.0},\n",
    "                                \"Sam\":{\"Moderato\":5.0, \"Caifanes\":2.0, \"Heroes del Silencio\":5.0,\"Soda Estereo\":4.0, \"Tierra Santa\": 4.0},\n",
    "                                    \"Veronica\":{\"Moderatto\":3.0, \"Heroes del Silencio\":5.0,\"Soda Estereo\":4.0,\"Tierra Santa\":2.5, \"Rata Blanca\":3.0}\n",
    "                                        }"
   ]
  },
  {
   "cell_type": "code",
   "execution_count": 6,
   "metadata": {},
   "outputs": [
    {
     "data": {
      "text/plain": [
       "['Angelica', 'Veronica', 'Sam', 'Jordyn', 'Dan', 'Bill', 'Chan', 'Hailey']"
      ]
     },
     "execution_count": 6,
     "metadata": {},
     "output_type": "execute_result"
    }
   ],
   "source": [
    "users.keys()# quienes son los usuarios"
   ]
  },
  {
   "cell_type": "code",
   "execution_count": 7,
   "metadata": {},
   "outputs": [
    {
     "data": {
      "text/plain": [
       "8"
      ]
     },
     "execution_count": 7,
     "metadata": {},
     "output_type": "execute_result"
    }
   ],
   "source": [
    "len(users) #  Numero de usuarios"
   ]
  },
  {
   "cell_type": "code",
   "execution_count": 8,
   "metadata": {},
   "outputs": [
    {
     "data": {
      "text/plain": [
       "{'Moderatto': 2.0, 'Tierra Santa': 3.5, 'mago de Oz': 3.0}"
      ]
     },
     "execution_count": 8,
     "metadata": {},
     "output_type": "execute_result"
    }
   ],
   "source": [
    "users[\"Bill\"] # Muestra el diccionario de Bills"
   ]
  },
  {
   "cell_type": "code",
   "execution_count": 10,
   "metadata": {},
   "outputs": [
    {
     "data": {
      "text/plain": [
       "['Moderatto', 'mago de Oz', 'Tierra Santa']"
      ]
     },
     "execution_count": 10,
     "metadata": {},
     "output_type": "execute_result"
    }
   ],
   "source": [
    "users[\"Bill\"].keys() # Muestra el diccionario de Bills sin raiting"
   ]
  },
  {
   "cell_type": "code",
   "execution_count": 11,
   "metadata": {},
   "outputs": [
    {
     "data": {
      "text/plain": [
       "[2.0, 3.0, 3.5]"
      ]
     },
     "execution_count": 11,
     "metadata": {},
     "output_type": "execute_result"
    }
   ],
   "source": [
    "users[\"Bill\"].values() # Muestra el diccionario de Bills solo valores"
   ]
  },
  {
   "cell_type": "code",
   "execution_count": 14,
   "metadata": {},
   "outputs": [
    {
     "name": "stdout",
     "output_type": "stream",
     "text": [
      "Moderatto\n",
      "mago de Oz\n",
      "Tierra Santa\n"
     ]
    }
   ],
   "source": [
    "for i in users[\"Bill\"].keys(): #Muestra las bandas por una lista\n",
    "    print i\n",
    "# Conocer la banda con mas Raiting\n"
   ]
  },
  {
   "cell_type": "code",
   "execution_count": 33,
   "metadata": {},
   "outputs": [
    {
     "name": "stdout",
     "output_type": "stream",
     "text": [
      "3.5\n",
      "Tierra Santa\n"
     ]
    }
   ],
   "source": [
    "raiting=6.0 # Muestra el raiting mas alto\n",
    "maximo = 0.0\n",
    "for cancion in users[\"Bill\"].keys(): #Muestra las bandas por una lista\n",
    "    raiting = users[\"Bill\"][cancion]   \n",
    "    if maximo< raiting:\n",
    "        maximo=raiting\n",
    "        maximo=persona\n",
    "print raiting\n",
    "print cancion\n",
    "        \n",
    "    "
   ]
  },
  {
   "cell_type": "code",
   "execution_count": 28,
   "metadata": {},
   "outputs": [
    {
     "name": "stdout",
     "output_type": "stream",
     "text": [
      "Tierra Santa\n"
     ]
    }
   ],
   "source": [
    "# Muestra el raiting mas alto\n",
    "r = users[\"Bill\"].values()\n",
    "r.sort()\n",
    "r.reverse()\n",
    "for i in users[\"Bill\"].keys(): #Muestra las bandas por una lista\n",
    "    if users[\"Bill\"][i] == r[0]:\n",
    "        print i"
   ]
  },
  {
   "cell_type": "code",
   "execution_count": 56,
   "metadata": {},
   "outputs": [
    {
     "name": "stdout",
     "output_type": "stream",
     "text": [
      "[2.0, 5.0, 5.0, 4.0, 4.0]\n"
     ]
    }
   ],
   "source": [
    "\n",
    "\n",
    "#Saca los valores de raiting\n",
    "raiting= users[\"Sam\"].values()\n",
    "print raiting"
   ]
  },
  {
   "cell_type": "code",
   "execution_count": 58,
   "metadata": {},
   "outputs": [
    {
     "data": {
      "text/plain": [
       "array([ 0. ,  1. ,  2. ,  0.5,  2. ])"
      ]
     },
     "execution_count": 58,
     "metadata": {},
     "output_type": "execute_result"
    }
   ],
   "source": [
    "#Crea un vector restando dos vectores del mimso tamaño\n",
    "import numpy as np\n",
    "vector =np.array(users[\"Sam\"].values()) - np.array(users[\"Bill\"].values())\n",
    "vector"
   ]
  },
  {
   "cell_type": "code",
   "execution_count": 52,
   "metadata": {},
   "outputs": [
    {
     "data": {
      "text/plain": [
       "array([ 2.,  5.,  5.,  4.,  4.])"
      ]
     },
     "execution_count": 52,
     "metadata": {},
     "output_type": "execute_result"
    }
   ],
   "source": [
    "np.array(users[\"Sam\"].values())"
   ]
  },
  {
   "cell_type": "code",
   "execution_count": 53,
   "metadata": {},
   "outputs": [
    {
     "data": {
      "text/plain": [
       "array([ 2. ,  4. ,  3. ,  3.5])"
      ]
     },
     "execution_count": 53,
     "metadata": {},
     "output_type": "execute_result"
    }
   ],
   "source": [
    "np.array(users[\"Bill\"].values())"
   ]
  },
  {
   "cell_type": "code",
   "execution_count": 63,
   "metadata": {},
   "outputs": [
    {
     "data": {
      "text/plain": [
       "{'Tierra Santa'}"
      ]
     },
     "execution_count": 63,
     "metadata": {},
     "output_type": "execute_result"
    }
   ],
   "source": [
    "#Inteseccion de gustos similares de bill y sam\n",
    "conjuntoSam = set(users[\"Sam\"].keys())\n",
    "conjuntoBill = set(users[\"Bill\"].keys())\n",
    "interseccion =conjuntoSam & conjuntoBill\n",
    "interseccion\n",
    "    "
   ]
  },
  {
   "cell_type": "code",
   "execution_count": 71,
   "metadata": {},
   "outputs": [
    {
     "name": "stdout",
     "output_type": "stream",
     "text": [
      "{'Moderatto': 2.5, 'Soda Estereo': 5.0, 'Rata Blanca': 2.5, 'Tierra Santa': 1.5, 'Caifanes': 2.0, 'Heroes del Silencio': 4.5, 'Mago de Oz': 2.0}\n",
      "{'Moderatto': 3.0, 'Rata Blanca': 3.0, 'Heroes del Silencio': 5.0, 'Tierra Santa': 2.5, 'Soda Estereo': 4.0}\n",
      "{'Caifanes': 2.0, 'Moderato': 5.0, 'Heroes del Silencio': 5.0, 'Tierra Santa': 4.0, 'Soda Estereo': 4.0}\n",
      "{'Soda Estereo': 5.0, 'Rata Blanca': 5.0, 'Tierra Santa': 4.0, 'La Ley': 4.0, 'Caifanes': 4.5, 'Heroes del Silencio': 5.0}\n",
      "{'Moderatto': 3.0, 'Soda Estereo': 3.0, 'Rata Blanca': 4.0, 'Tierra Santa': 4.5, 'La Ley': 4.5, 'Caifanes': 4.0, 'Mago de Oz': 2.0}\n",
      "{'Moderatto': 2.0, 'Lisa Simpson': 4.0, 'mago de Oz': 3.0, 'Tierra Santa': 3.5, 'Rata Blanca': 2}\n",
      "{'Moderatto': 5.0, 'Soda Estereo': 5.0, 'Tierra Santa': 1.0, 'La ley': 1.0, 'Caifanes': 1.0, 'Heroes del silencio': 3.0}\n",
      "{'Caifanes': 4.0, 'Rata Blanca': 4.0, 'Heroes del Silencio': 4.0, 'La Ley': 1.0, 'Mago de Oz': 1.0}\n"
     ]
    }
   ],
   "source": [
    "for usuario in  users.values(): # Muestra Diccionarios\n",
    "    print usuario"
   ]
  },
  {
   "cell_type": "code",
   "execution_count": 75,
   "metadata": {},
   "outputs": [
    {
     "name": "stdout",
     "output_type": "stream",
     "text": [
      "Moderatto\n",
      "Soda Estereo\n",
      "Rata Blanca\n",
      "Tierra Santa\n",
      "Caifanes\n",
      "Heroes del Silencio\n",
      "Mago de Oz\n",
      "Moderatto\n",
      "Rata Blanca\n",
      "Heroes del Silencio\n",
      "Tierra Santa\n",
      "Soda Estereo\n",
      "Caifanes\n",
      "Moderato\n",
      "Heroes del Silencio\n",
      "Tierra Santa\n",
      "Soda Estereo\n",
      "Soda Estereo\n",
      "Rata Blanca\n",
      "Tierra Santa\n",
      "La Ley\n",
      "Caifanes\n",
      "Heroes del Silencio\n",
      "Moderatto\n",
      "Soda Estereo\n",
      "Rata Blanca\n",
      "Tierra Santa\n",
      "La Ley\n",
      "Caifanes\n",
      "Mago de Oz\n",
      "Moderatto\n",
      "Lisa Simpson\n",
      "mago de Oz\n",
      "Tierra Santa\n",
      "Rata Blanca\n",
      "Moderatto\n",
      "Soda Estereo\n",
      "Tierra Santa\n",
      "La ley\n",
      "Caifanes\n",
      "Heroes del silencio\n",
      "Caifanes\n",
      "Rata Blanca\n",
      "Heroes del Silencio\n",
      "La Ley\n",
      "Mago de Oz\n"
     ]
    }
   ],
   "source": [
    "for usuario in  users.values(): # Muestra Diccionarios\n",
    "    for bandas in usuario:\n",
    "        print bandas"
   ]
  },
  {
   "cell_type": "code",
   "execution_count": 80,
   "metadata": {},
   "outputs": [
    {
     "name": "stdout",
     "output_type": "stream",
     "text": [
      "La Ley\n",
      "La Ley\n",
      "La Ley\n"
     ]
    }
   ],
   "source": [
    "for usuario in  users.values(): # Muestra bandas\n",
    "    for bandas in usuario:\n",
    "        if bandas == \"La Ley\":\n",
    "            print bandas\n",
    "            \n",
    "        "
   ]
  },
  {
   "cell_type": "code",
   "execution_count": 85,
   "metadata": {
    "collapsed": true
   },
   "outputs": [],
   "source": [
    "for u in  users.values(): # Muestra Diccionarios\n",
    "    for i,v  in u.iteritems():\n",
    "        if i == \"la Ley\":\n",
    "            print v\n",
    "            "
   ]
  },
  {
   "cell_type": "code",
   "execution_count": 98,
   "metadata": {},
   "outputs": [
    {
     "name": "stdout",
     "output_type": "stream",
     "text": [
      "4.0\n",
      "4.5\n",
      "1.0\n",
      "media de valores de raiting para la ley  3.16666666667\n"
     ]
    }
   ],
   "source": [
    "lista=[]\n",
    "for usuario in  users.values(): # Muestra bandas\n",
    "    for bandas,raiting in usuario.iteritems():\n",
    "        if bandas == \"La Ley\":            \n",
    "            print raiting\n",
    "            lista.append(raiting)\n",
    "print \"media de valores de raiting para la ley \", np.array(l).mean()            \n",
    "            "
   ]
  },
  {
   "cell_type": "code",
   "execution_count": 94,
   "metadata": {},
   "outputs": [
    {
     "name": "stdout",
     "output_type": "stream",
     "text": [
      "4.0\n",
      "4.5\n",
      "1.0\n",
      "media de Raiting dpara la ley  3.16666666667\n"
     ]
    }
   ],
   "source": [
    "l = []\n",
    "for u in users.values():\n",
    "    for i,v in u.iteritems():\n",
    "        if i == \"La Ley\":\n",
    "            print v\n",
    "            l.append(v)\n",
    "print \"media de Raiting dpara la ley \", np.array(l).mean()"
   ]
  },
  {
   "cell_type": "code",
   "execution_count": null,
   "metadata": {
    "collapsed": true
   },
   "outputs": [],
   "source": []
  }
 ],
 "metadata": {
  "kernelspec": {
   "display_name": "Python 2",
   "language": "python",
   "name": "python2"
  },
  "language_info": {
   "codemirror_mode": {
    "name": "ipython",
    "version": 2
   },
   "file_extension": ".py",
   "mimetype": "text/x-python",
   "name": "python",
   "nbconvert_exporter": "python",
   "pygments_lexer": "ipython2",
   "version": "2.7.13"
  }
 },
 "nbformat": 4,
 "nbformat_minor": 2
}
