{
 "cells": [
  {
   "cell_type": "code",
   "execution_count": 56,
   "metadata": {},
   "outputs": [],
   "source": [
    "users = {\"Angelica\":{\"Moderatto\":3.5,\"Caifanes\":2.0,\"Heroes del Silencio\":4.5,\"Soda Estereo\":5.0,\n",
    "\"Tierra Santa\":1.5,\n",
    "\"Rata Blanca\":2.5,\"Mago de Oz\":2.0},\n",
    "\"Bill\":{\"Moderatto\":2.0,\"Caifanes\":3.5,\"La Ley\":4.0,\"Soda Estereo\":2.0,\"Tierra Santa\":3.5,\n",
    "\"Mago de Oz\":3.0},\n",
    "\"Chan\":{\"Moderatto\":5.0,\"Caifanes\":1.0,\"La Ley\":1.0,\"Heroes del Silencio\":3.0,\n",
    "\"Soda Estero\":5.0,\"Tierra Santa\":1.0},\n",
    "\"Dan\":{\"Moderatto\":5.0, \"Caifanes\":1.0,\n",
    "\"La Ley\":4.5,\"Soda Estereo\":3.0,\"Tierra Santa\":4.5,\n",
    "\"Rata Blanca\":4.0,\n",
    "\"Mago de Oz\":2.0},\n",
    "\"Hayley\":{\"Caifanes\":4.0,\"La Ley\":1.0,\n",
    "\"Heroes del Silencio\":4.0,\"Rata Blanca\":4.0,\"Mago de Oz\":1.0},\n",
    "\"Jordyn\":{\"Caifanes\":4.5,\"La Ley\":4.0,\"Heroes del Silencio\":5.0,\n",
    "\"Soda Estero\":5.0, \"Tierra Santa\":4.5,\"Rata Blanca\":4.0,\n",
    "\"Mago de Oz\":4.0},\n",
    "\"Sam\":{\"Moderatto\":5.0,\"Caifanes\":2.0,\n",
    "\"Heroes del Silencio\":3.0,\"Soda Estereo\":5.0,\"Tierra Santa\":4.0,\"Rata Blanca\":5.0},\n",
    "\"Veronica\":{\"Moderatto\":3.0,\"Heroes del Silencio\":5.0,\"Soda Estereo\":4.0,\"Tierra Santa\":2.5,\n",
    "\"Rata Blanca\":3.0}\n",
    "  }"
   ]
  },
  {
   "cell_type": "code",
   "execution_count": 15,
   "metadata": {},
   "outputs": [
    {
     "data": {
      "text/plain": [
       "['Angelica', 'Veronica', 'Sam', 'Jordyn', 'Dan', 'Bill', 'Chan', 'Hayley']"
      ]
     },
     "execution_count": 15,
     "metadata": {},
     "output_type": "execute_result"
    }
   ],
   "source": [
    "users.keys()"
   ]
  },
  {
   "cell_type": "code",
   "execution_count": 16,
   "metadata": {},
   "outputs": [
    {
     "data": {
      "text/plain": [
       "8"
      ]
     },
     "execution_count": 16,
     "metadata": {},
     "output_type": "execute_result"
    }
   ],
   "source": [
    "len(users)"
   ]
  },
  {
   "cell_type": "code",
   "execution_count": 29,
   "metadata": {},
   "outputs": [],
   "source": [
    "r=users['Veronica'].values()\n",
    "r.sort()\n",
    "r.reverse()"
   ]
  },
  {
   "cell_type": "code",
   "execution_count": 20,
   "metadata": {},
   "outputs": [],
   "source": [
    "#users['Bill']"
   ]
  },
  {
   "cell_type": "code",
   "execution_count": 30,
   "metadata": {},
   "outputs": [
    {
     "name": "stdout",
     "output_type": "stream",
     "text": [
      "Heroes del Silencio\n"
     ]
    }
   ],
   "source": [
    "for i in users['Veronica'].keys():\n",
    "    if users['Veronica'][i]==r[0]:\n",
    "        print i"
   ]
  },
  {
   "cell_type": "code",
   "execution_count": 31,
   "metadata": {},
   "outputs": [
    {
     "data": {
      "text/plain": [
       "array([ 3. ,  3. ,  1.5,  0. , -1.5,  0. ])"
      ]
     },
     "execution_count": 31,
     "metadata": {},
     "output_type": "execute_result"
    }
   ],
   "source": [
    "import numpy as np\n",
    "np.array(users['Sam'].values())- np.array(users['Bill'].values())"
   ]
  },
  {
   "cell_type": "code",
   "execution_count": 32,
   "metadata": {
    "collapsed": true
   },
   "outputs": [],
   "source": [
    "s = set(users['Sam'].keys())"
   ]
  },
  {
   "cell_type": "code",
   "execution_count": 33,
   "metadata": {},
   "outputs": [
    {
     "data": {
      "text/plain": [
       "{'Caifanes',\n",
       " 'Heroes del Silencio',\n",
       " 'Moderatto',\n",
       " 'Rata Blanca',\n",
       " 'Soda Estereo',\n",
       " 'Tierra Santa'}"
      ]
     },
     "execution_count": 33,
     "metadata": {},
     "output_type": "execute_result"
    }
   ],
   "source": [
    "s"
   ]
  },
  {
   "cell_type": "code",
   "execution_count": 42,
   "metadata": {
    "collapsed": true
   },
   "outputs": [],
   "source": [
    "ss = set(users['Bill'].keys())"
   ]
  },
  {
   "cell_type": "code",
   "execution_count": 43,
   "metadata": {},
   "outputs": [
    {
     "data": {
      "text/plain": [
       "{'Caifanes',\n",
       " 'La Ley',\n",
       " 'Mago de Oz',\n",
       " 'Moderatto',\n",
       " 'Soda Estereo',\n",
       " 'Tierra Santa'}"
      ]
     },
     "execution_count": 43,
     "metadata": {},
     "output_type": "execute_result"
    }
   ],
   "source": [
    "ss"
   ]
  },
  {
   "cell_type": "code",
   "execution_count": 44,
   "metadata": {},
   "outputs": [],
   "source": [
    "i = s & ss"
   ]
  },
  {
   "cell_type": "code",
   "execution_count": 52,
   "metadata": {},
   "outputs": [
    {
     "data": {
      "text/plain": [
       "{'Caifanes', 'Moderatto', 'Soda Estereo', 'Tierra Santa'}"
      ]
     },
     "execution_count": 52,
     "metadata": {},
     "output_type": "execute_result"
    }
   ],
   "source": [
    "i"
   ]
  },
  {
   "cell_type": "code",
   "execution_count": 58,
   "metadata": {},
   "outputs": [
    {
     "name": "stdout",
     "output_type": "stream",
     "text": [
      "4.0\n",
      "4.5\n",
      "4.0\n",
      "1.0\n",
      "1.0\n",
      "Media de Rating para La Ley: 2.9\n"
     ]
    }
   ],
   "source": [
    "l =[]\n",
    "for u in users.values():\n",
    "    for i,v in u.iteritems():\n",
    "        if i =='La Ley':\n",
    "            print v\n",
    "            l.append(v)\n",
    "print 'Media de Rating para La Ley:',np.array(l).mean()            \n",
    "        \n",
    "   "
   ]
  },
  {
   "cell_type": "code",
   "execution_count": null,
   "metadata": {
    "collapsed": true
   },
   "outputs": [],
   "source": []
  }
 ],
 "metadata": {
  "kernelspec": {
   "display_name": "Python 2",
   "language": "python",
   "name": "python2"
  },
  "language_info": {
   "codemirror_mode": {
    "name": "ipython",
    "version": 2
   },
   "file_extension": ".py",
   "mimetype": "text/x-python",
   "name": "python",
   "nbconvert_exporter": "python",
   "pygments_lexer": "ipython2",
   "version": "2.7.13"
  }
 },
 "nbformat": 4,
 "nbformat_minor": 2
}
