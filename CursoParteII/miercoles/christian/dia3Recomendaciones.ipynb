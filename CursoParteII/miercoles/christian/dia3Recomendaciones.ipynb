{
 "cells": [
  {
   "cell_type": "code",
   "execution_count": 3,
   "metadata": {},
   "outputs": [],
   "source": [
    "users = {\"Angelica\": {\"Moderatto\":3.5, \"Caifanes\":2.0,\n",
    "                      \"Heroes del silencio\":4.5, \"Soda estereo\":5.0,\n",
    "                      \"Tierra Santa\":1.5, \"Mago de Oz\":2.0},\n",
    "        \"Bill\": {\"Moderatto\":2.0, \"Caifanes\":3.5,\n",
    "                    \"La ley\":4.0, \"Soda estereo\":2.0,\n",
    "                    \"Tierra Santa\":3.5, \"Mago de Oz\":3.0},\n",
    "        \"Chan\": {\"Moderatto\":5.0, \"Caifanes\":1.0,\n",
    "                 \"La ley\":1.0, \"Heroes del Silencio\":3.0,\n",
    "                 \"Soda Estereo\":5.0, \"Tierra Santa\":1.0},\n",
    "        \"Dan\": {\"Moderatto\":3.0, \"Caifanes\":4.0,\n",
    "                 \"La ley\":4.5, \"Heroes del Silencio\":3.0,\n",
    "                 \"Soda Estereo\":3.0, \"Tierra Santa\":4.5, \"Rata Blanca\":4.0,\n",
    "                 \"Mago de Oz\":4.0},\n",
    "        \"Heiley\": {\"Caifanes\":4.0, \"La ley\":1.0,\n",
    "                 \"Heroes del Silencio\":4.0,\n",
    "                 \"Tierra Santa\":4.5, \"Rata Blanca\":4.0,\n",
    "                \"Mago de Oz\":1.0},\n",
    "        \"Jordyn\": {\"Caifanes\":4.5, \"La ley\":4.0,\n",
    "                   \"Heroes del Silencio\":5.0,\n",
    "                   \"Tierra Santa\":4.5, \"Rata Blanca\":4.0,\n",
    "                   \"Mago de Oz\":4.0},\n",
    "        \"Sam\": {\"Caifanes\":2.0, \"Moderatto\":5.0,\n",
    "                  \"Heroes del Silencio\":3.0,\n",
    "                  \"Tierra Santa\":4.0, \"Rata Blanca\":5.0,\n",
    "                  \"Soda Estereo\":5.0},\n",
    "        \"Veronica\": {\"Moderatto\":3.0,\n",
    "                  \"Heroes del Silencio\":5.0,\n",
    "                  \"Tierra Santa\":2.5, \"Rata Blanca\":3.0,\n",
    "                  \"Soda Estereo\":4.0}\n",
    "}"
   ]
  },
  {
   "cell_type": "code",
   "execution_count": 4,
   "metadata": {},
   "outputs": [
    {
     "data": {
      "text/plain": [
       "{'Angelica': {'Caifanes': 2.0,\n",
       "  'Heroes del silencio': 4.5,\n",
       "  'Mago de Oz': 2.0,\n",
       "  'Moderatto': 3.5,\n",
       "  'Soda estereo': 5.0,\n",
       "  'Tierra Santa': 1.5},\n",
       " 'Bill': {'Caifanes': 3.5,\n",
       "  'La ley': 4.0,\n",
       "  'Mago de Oz': 3.0,\n",
       "  'Moderatto': 2.0,\n",
       "  'Soda estereo': 2.0,\n",
       "  'Tierra Santa': 3.5},\n",
       " 'Chan': {'Caifanes': 1.0,\n",
       "  'Heroes del Silencio': 3.0,\n",
       "  'La ley': 1.0,\n",
       "  'Moderatto': 5.0,\n",
       "  'Soda Estereo': 5.0,\n",
       "  'Tierra Santa': 1.0},\n",
       " 'Dan': {'Caifanes': 4.0,\n",
       "  'Heroes del Silencio': 3.0,\n",
       "  'La ley': 4.5,\n",
       "  'Mago de Oz': 4.0,\n",
       "  'Moderatto': 3.0,\n",
       "  'Rata Blanca': 4.0,\n",
       "  'Soda Estereo': 3.0,\n",
       "  'Tierra Santa': 4.5},\n",
       " 'Heiley': {'Caifanes': 4.0,\n",
       "  'Heroes del Silencio': 4.0,\n",
       "  'La ley': 1.0,\n",
       "  'Mago de Oz': 1.0,\n",
       "  'Rata Blanca': 4.0,\n",
       "  'Tierra Santa': 4.5},\n",
       " 'Jordyn': {'Caifanes': 4.5,\n",
       "  'Heroes del Silencio': 5.0,\n",
       "  'La ley': 4.0,\n",
       "  'Mago de Oz': 4.0,\n",
       "  'Rata Blanca': 4.0,\n",
       "  'Tierra Santa': 4.5},\n",
       " 'Sam': {'Caifanes': 2.0,\n",
       "  'Heroes del Silencio': 3.0,\n",
       "  'Moderatto': 5.0,\n",
       "  'Rata Blanca': 5.0,\n",
       "  'Soda Estereo': 5.0,\n",
       "  'Tierra Santa': 4.0},\n",
       " 'Veronica': {'Heroes del Silencio': 5.0,\n",
       "  'Moderatto': 3.0,\n",
       "  'Rata Blanca': 3.0,\n",
       "  'Soda Estereo': 4.0,\n",
       "  'Tierra Santa': 2.5}}"
      ]
     },
     "execution_count": 4,
     "metadata": {},
     "output_type": "execute_result"
    }
   ],
   "source": [
    "users"
   ]
  },
  {
   "cell_type": "code",
   "execution_count": 5,
   "metadata": {},
   "outputs": [
    {
     "data": {
      "text/plain": [
       "8"
      ]
     },
     "execution_count": 5,
     "metadata": {},
     "output_type": "execute_result"
    }
   ],
   "source": [
    "len(users)"
   ]
  },
  {
   "cell_type": "code",
   "execution_count": 6,
   "metadata": {},
   "outputs": [
    {
     "data": {
      "text/plain": [
       "['Moderatto',\n",
       " 'Soda estereo',\n",
       " 'Tierra Santa',\n",
       " 'La ley',\n",
       " 'Caifanes',\n",
       " 'Mago de Oz']"
      ]
     },
     "execution_count": 6,
     "metadata": {},
     "output_type": "execute_result"
    }
   ],
   "source": [
    "users['Bill'].keys()"
   ]
  },
  {
   "cell_type": "code",
   "execution_count": 25,
   "metadata": {},
   "outputs": [],
   "source": [
    "r = users['Bill'].values()\n",
    "r.sort()\n",
    "r.reverse()"
   ]
  },
  {
   "cell_type": "code",
   "execution_count": 8,
   "metadata": {},
   "outputs": [
    {
     "data": {
      "text/plain": [
       "{'Caifanes': 3.5,\n",
       " 'La ley': 4.0,\n",
       " 'Mago de Oz': 3.0,\n",
       " 'Moderatto': 2.0,\n",
       " 'Soda estereo': 2.0,\n",
       " 'Tierra Santa': 3.5}"
      ]
     },
     "execution_count": 8,
     "metadata": {},
     "output_type": "execute_result"
    }
   ],
   "source": [
    "users[\"Bill\"]"
   ]
  },
  {
   "cell_type": "code",
   "execution_count": 22,
   "metadata": {},
   "outputs": [
    {
     "data": {
      "text/plain": [
       "4.0"
      ]
     },
     "execution_count": 22,
     "metadata": {},
     "output_type": "execute_result"
    }
   ],
   "source": [
    "users[\"Bill\"]"
   ]
  },
  {
   "cell_type": "code",
   "execution_count": 26,
   "metadata": {},
   "outputs": [
    {
     "name": "stdout",
     "output_type": "stream",
     "text": [
      "La ley\n"
     ]
    }
   ],
   "source": [
    "for i in users[\"Bill\"].keys():\n",
    "    if users['Bill'][i] == r[0]:\n",
    "        print i"
   ]
  },
  {
   "cell_type": "code",
   "execution_count": 31,
   "metadata": {},
   "outputs": [],
   "source": [
    "import numpy as np\n",
    "r = np.array(users['Sam'].values()) - np.array(users['Bill'].values())"
   ]
  },
  {
   "cell_type": "code",
   "execution_count": 32,
   "metadata": {},
   "outputs": [
    {
     "data": {
      "text/plain": [
       "array([ 3. ,  3. ,  1.5,  0. , -1.5,  0. ])"
      ]
     },
     "execution_count": 32,
     "metadata": {},
     "output_type": "execute_result"
    }
   ],
   "source": [
    "r"
   ]
  },
  {
   "cell_type": "code",
   "execution_count": 35,
   "metadata": {},
   "outputs": [],
   "source": [
    "#Que bandas escucha sam y que escucha bill\n",
    "keys_a = set(users['Sam'].keys())\n",
    "keys_b = set(users['Bill'].keys())\n",
    "intersection = keys_a & keys_b "
   ]
  },
  {
   "cell_type": "code",
   "execution_count": 36,
   "metadata": {},
   "outputs": [
    {
     "data": {
      "text/plain": [
       "{'Caifanes', 'Moderatto', 'Tierra Santa'}"
      ]
     },
     "execution_count": 36,
     "metadata": {},
     "output_type": "execute_result"
    }
   ],
   "source": [
    "intersection"
   ]
  },
  {
   "cell_type": "code",
   "execution_count": 42,
   "metadata": {},
   "outputs": [
    {
     "name": "stdout",
     "output_type": "stream",
     "text": [
      "4.0\n",
      "4.5\n",
      "4.0\n",
      "1.0\n",
      "1.0\n",
      "MEDIA\n",
      "2.9\n"
     ]
    }
   ],
   "source": [
    "m = []\n",
    "for u in users.values():\n",
    "    for i,v in u.iteritems():\n",
    "        if i == \"La ley\":\n",
    "            print v\n",
    "            m.append(v)\n",
    "#res = sum(m)/len(m)\n",
    "res = np.array(m).mean()\n",
    "print \"MEDIA\"\n",
    "print res"
   ]
  },
  {
   "cell_type": "code",
   "execution_count": null,
   "metadata": {
    "collapsed": true
   },
   "outputs": [],
   "source": []
  }
 ],
 "metadata": {
  "kernelspec": {
   "display_name": "Python 2",
   "language": "python",
   "name": "python2"
  },
  "language_info": {
   "codemirror_mode": {
    "name": "ipython",
    "version": 2
   },
   "file_extension": ".py",
   "mimetype": "text/x-python",
   "name": "python",
   "nbconvert_exporter": "python",
   "pygments_lexer": "ipython2",
   "version": "2.7.10"
  }
 },
 "nbformat": 4,
 "nbformat_minor": 2
}
