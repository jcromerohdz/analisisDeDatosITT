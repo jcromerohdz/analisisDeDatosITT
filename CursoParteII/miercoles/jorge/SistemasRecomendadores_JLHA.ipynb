{
 "cells": [
  {
   "cell_type": "code",
   "execution_count": 3,
   "metadata": {},
   "outputs": [],
   "source": [
    "users = {\"Angelica\" : {\"Moderato\":3.5,\"Caifanes\":2.0,\"Heroes del Silencio\":4.5, \"Soda Estereo\":5.0,\"Tierra santa\":1.5, \"Rata Blanca\": 2.5, \"Mago de Oz\" : 2.0},\n",
    "         \"Bill\": {\"Moderato\":2.0,\"Caifanes\": 3.5,\"La Ley\": 4.0, \"Soda Estereo\":2.0, \"Tierra santa\": 3.5, \"Mago de Oz\" : 3.0},\n",
    "         \"Chan\" : {\"Moderato\":5.0,\"Caifanes\":1.0,\"La Ley\":1.0, \"Heroes del Silencio\" : 3.0, \"Soda Estereo\":5.0,\"Tierra santa\":1.5},\n",
    "         \"Dan\" : {\"Moderato\":3.0,\"Caifanes\":4.0,\"La Ley\":4.5, \"Soda Estereo\":3.0,\"Tierra santa\":4.5, \"Rata Blanca\": 4.0, \"Mago de Oz\" : 2.0},\n",
    "         \"Hailey\" : {\"Caifanes\": 4.0,\"La Ley\": 1.0, \"Heroes del Silencio\": 4.0, \"Rata Blanca\":4.0,\"Mago de Oz\" : 1.0}, \n",
    "         \"Jordyn\": {\"Caifanes\": 4.5,\"La Ley\": 4.0, \"Heroes del Silencio\": 5.0, \"Soda Estereo\" : 5.0, \"Tierra Santa\" : 4.5, \"Rata Blanca\":4.0,\"Mago de Oz\" : 4.0}, \n",
    "         \"Sam\" : {\"Moderato\": 5.0, \"Caifanes\": 2.0, \"Heroes del Silencio\": 3.0, \"Soda Estereo\":5.0, \"Tierra Santa\":4.0,\"Rata Blanca\":5.0}, \n",
    "         \"Veronica\" :{\"Moderato\":3.0,\"Heroes del Silencio\" : 5.0, \"Soda Estereo\":4.0,\"Tierra santa\":2.5,\"Rata Blanca\": 3.0 }}"
   ]
  },
  {
   "cell_type": "code",
   "execution_count": 7,
   "metadata": {},
   "outputs": [
    {
     "data": {
      "text/plain": [
       "dict_keys(['Angelica', 'Bill', 'Chan', 'Dan', 'Hailey', 'Jordyn', 'Sam', 'Veronica'])"
      ]
     },
     "execution_count": 7,
     "metadata": {},
     "output_type": "execute_result"
    }
   ],
   "source": [
    "#Usuarios en la base de datos\n",
    "users.keys()"
   ]
  },
  {
   "cell_type": "code",
   "execution_count": 8,
   "metadata": {},
   "outputs": [
    {
     "data": {
      "text/plain": [
       "8"
      ]
     },
     "execution_count": 8,
     "metadata": {},
     "output_type": "execute_result"
    }
   ],
   "source": [
    "len(users.keys())"
   ]
  },
  {
   "cell_type": "code",
   "execution_count": 10,
   "metadata": {},
   "outputs": [
    {
     "data": {
      "text/plain": [
       "{'Caifanes': 3.5,\n",
       " 'La Ley': 4.0,\n",
       " 'Mago de Oz': 3.0,\n",
       " 'Moderato': 2.0,\n",
       " 'Soda Estereo': 2.0,\n",
       " 'Tierra santa': 3.5}"
      ]
     },
     "execution_count": 10,
     "metadata": {},
     "output_type": "execute_result"
    }
   ],
   "source": [
    "users['Bill']"
   ]
  },
  {
   "cell_type": "code",
   "execution_count": 11,
   "metadata": {},
   "outputs": [
    {
     "data": {
      "text/plain": [
       "dict_keys(['Moderato', 'Caifanes', 'La Ley', 'Soda Estereo', 'Tierra santa', 'Mago de Oz'])"
      ]
     },
     "execution_count": 11,
     "metadata": {},
     "output_type": "execute_result"
    }
   ],
   "source": [
    "users['Bill'].keys()"
   ]
  },
  {
   "cell_type": "code",
   "execution_count": 36,
   "metadata": {},
   "outputs": [
    {
     "data": {
      "text/plain": [
       "dict_values([2.0, 3.5, 4.0, 2.0, 3.5, 3.0])"
      ]
     },
     "execution_count": 36,
     "metadata": {},
     "output_type": "execute_result"
    }
   ],
   "source": [
    "users['Bill'].values()"
   ]
  },
  {
   "cell_type": "code",
   "execution_count": 40,
   "metadata": {},
   "outputs": [],
   "source": [
    "A = users['Bill'].values()\n",
    "list_values = [ v for v in A ]"
   ]
  },
  {
   "cell_type": "code",
   "execution_count": 73,
   "metadata": {},
   "outputs": [
    {
     "data": {
      "text/plain": [
       "[4.0, 3.5, 3.5, 3.0, 2.0, 2.0]"
      ]
     },
     "execution_count": 73,
     "metadata": {},
     "output_type": "execute_result"
    }
   ],
   "source": [
    "B = sorted(list_values)\n",
    "B = reversed(B)\n",
    "R = []\n",
    "for i in B:\n",
    "    R.append(i)\n",
    "R"
   ]
  },
  {
   "cell_type": "code",
   "execution_count": 74,
   "metadata": {},
   "outputs": [
    {
     "name": "stdout",
     "output_type": "stream",
     "text": [
      "La Ley\n"
     ]
    }
   ],
   "source": [
    "for i in users['Bill'].keys():\n",
    "    if users['Bill'][i]== R[0]:\n",
    "        print(i)"
   ]
  },
  {
   "cell_type": "code",
   "execution_count": 75,
   "metadata": {},
   "outputs": [],
   "source": [
    "## Similitud entre items\n",
    "import numpy as np\n",
    "D = np.array(list(users['Bill'].values())) \n",
    "E = np.array(list(users['Sam'].values()))"
   ]
  },
  {
   "cell_type": "code",
   "execution_count": 76,
   "metadata": {},
   "outputs": [
    {
     "data": {
      "text/plain": [
       "array([-3. ,  1.5,  1. , -3. , -0.5, -2. ])"
      ]
     },
     "execution_count": 76,
     "metadata": {},
     "output_type": "execute_result"
    }
   ],
   "source": [
    "D - E"
   ]
  },
  {
   "cell_type": "code",
   "execution_count": 77,
   "metadata": {},
   "outputs": [],
   "source": [
    "## Favoritos entre items\n",
    "s  = set(users['Bill'].keys())"
   ]
  },
  {
   "cell_type": "code",
   "execution_count": 78,
   "metadata": {
    "collapsed": true
   },
   "outputs": [],
   "source": [
    "ss = set(users['Sam'].keys())"
   ]
  },
  {
   "cell_type": "code",
   "execution_count": 79,
   "metadata": {},
   "outputs": [
    {
     "data": {
      "text/plain": [
       "{'Caifanes', 'Moderato', 'Soda Estereo'}"
      ]
     },
     "execution_count": 79,
     "metadata": {},
     "output_type": "execute_result"
    }
   ],
   "source": [
    "s & ss"
   ]
  },
  {
   "cell_type": "code",
   "execution_count": 90,
   "metadata": {},
   "outputs": [
    {
     "name": "stdout",
     "output_type": "stream",
     "text": [
      "4.0\n",
      "1.0\n",
      "4.5\n",
      "1.0\n",
      "4.0\n",
      "Media = 1.8125\n"
     ]
    }
   ],
   "source": [
    "L = []\n",
    "for u in users.values():\n",
    "    for k,v in u.items():\n",
    "        if k == 'La Ley':\n",
    "            print(v)\n",
    "            L.append(v)\n",
    "            \n",
    "Mean = sum(L)/len(users.values())\n",
    "print('Media =', Mean)"
   ]
  },
  {
   "cell_type": "code",
   "execution_count": null,
   "metadata": {},
   "outputs": [],
   "source": [
    "\n"
   ]
  },
  {
   "cell_type": "code",
   "execution_count": null,
   "metadata": {
    "collapsed": true
   },
   "outputs": [],
   "source": []
  }
 ],
 "metadata": {
  "kernelspec": {
   "display_name": "Python 3",
   "language": "python",
   "name": "python3"
  },
  "language_info": {
   "codemirror_mode": {
    "name": "ipython",
    "version": 3
   },
   "file_extension": ".py",
   "mimetype": "text/x-python",
   "name": "python",
   "nbconvert_exporter": "python",
   "pygments_lexer": "ipython3",
   "version": "3.6.1"
  }
 },
 "nbformat": 4,
 "nbformat_minor": 2
}
