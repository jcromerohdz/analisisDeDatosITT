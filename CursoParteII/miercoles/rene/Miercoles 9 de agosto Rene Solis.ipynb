{
 "cells": [
  {
   "cell_type": "code",
   "execution_count": 9,
   "metadata": {
    "collapsed": true
   },
   "outputs": [],
   "source": [
    "# Miercoles llege tarde por trabajo en la mañana\n",
    "\n"
   ]
  },
  {
   "cell_type": "code",
   "execution_count": null,
   "metadata": {
    "collapsed": false
   },
   "outputs": [],
   "source": []
  },
  {
   "cell_type": "code",
   "execution_count": 8,
   "metadata": {
    "collapsed": true
   },
   "outputs": [],
   "source": [
    "import networkx as nx\n",
    "\n",
    "import matplotlib.pyplot as plt\n"
   ]
  },
  {
   "cell_type": "code",
   "execution_count": null,
   "metadata": {
    "collapsed": true
   },
   "outputs": [],
   "source": [
    "# Diccionario de Python, sea este ejemplo\n",
    "Angelica, veronica, sam, jordyn, dan, Bill, Chan, Hile"
   ]
  },
  {
   "cell_type": "code",
   "execution_count": 108,
   "metadata": {
    "collapsed": true
   },
   "outputs": [],
   "source": [
    "users = {\n",
    "\t\"Angelica\": \n",
    "\t{\"Moderatto\":3.5, \"Caifanes\":2.0, \"Heroes del silencio\":4.5,\"Soda Stereo\":5.0, \"Tierra santa\": 1.5, \"Rata Banca\":2.5, \"Mago de Oz\":2.0}, \n",
    "\t\"Bill\":\n",
    "\t{\"Moderatto\":2.0, \"Caifanes\":3.5, \"Heroes del silencio\":4.5, \"La Ley\":4.0, \"Soda Stereo\":2.0, \"Tierra santa\": 3.5, \"Rata Banca\":2.0, \"Mago de Oz\":3.0}, \n",
    "\t\"Chan\":\n",
    "\t{\"Moderatto\":5.0, \"Caifanes\":1.0, \"Heroes del silencio\":4.5, \"La Ley\":4.5, \"Soda Stereo\":3.0, \"Tierra santa\": 4.5, \"Rata Banca\":4.0, \"Mago de Oz\":1.0}, \n",
    "\t\"Dan\":\n",
    "\t{\"Moderatto\":3.0, \"Caifanes\":4.0, \"La Ley\":4.5, \"Soda Stereo\":3.0, \"Tierra santa\": 4.5, \"Rata Banca\":4.5, \"Mago de Oz\":2.0}, \n",
    "\t\"Hailey\":\n",
    "\t{\"Caifanes\":4.0, \"La Ley\":1.0,  \"Tierra santa\": 4.0, \"Rata Banca\":4.0, \"Mago de Oz\":1.0}, \n",
    "\t\"Jordyn\":\n",
    "\t{\"Caifanes\":4.5, \"La Ley\":4.0,  \"Heroes del silencio\":5.0, \"Tierra santa\": 4.5, \"Rata Banca\":4.0, \"Mago de Oz\":4.0}, \n",
    "\t\"Sam\": \n",
    "\t{\"Moderatto\":2.0, \"Caifanes\":3.5, \"Heroes del silencio\":4.0, \"La Ley\":2.0, \"Soda Stereo\":3.0, \"Tierra santa\": 4.5, \"Rata Banca\":2.5, \"Mago de Oz\":3.5},\n",
    "\t\"Veronica\": \n",
    "\t{\"Moderatto\":3.0,  \"Heroes del silencio\":5.0, \"Soda Stereo\":4.0, \"Tierra santa\": 2.5, \"Rata Banca\":3.0},\n",
    "}"
   ]
  },
  {
   "cell_type": "code",
   "execution_count": null,
   "metadata": {
    "collapsed": true
   },
   "outputs": [],
   "source": []
  },
  {
   "cell_type": "code",
   "execution_count": null,
   "metadata": {
    "collapsed": true
   },
   "outputs": [],
   "source": []
  },
  {
   "cell_type": "code",
   "execution_count": 109,
   "metadata": {
    "collapsed": false
   },
   "outputs": [
    {
     "data": {
      "text/plain": [
       "dict_keys(['Angelica', 'Bill', 'Chan', 'Dan', 'Hailey', 'Jordyn', 'Sam', 'Veronica'])"
      ]
     },
     "execution_count": 109,
     "metadata": {},
     "output_type": "execute_result"
    }
   ],
   "source": [
    "users.keys()"
   ]
  },
  {
   "cell_type": "code",
   "execution_count": null,
   "metadata": {
    "collapsed": true
   },
   "outputs": [],
   "source": []
  },
  {
   "cell_type": "code",
   "execution_count": 110,
   "metadata": {
    "collapsed": false
   },
   "outputs": [
    {
     "data": {
      "text/plain": [
       "8"
      ]
     },
     "execution_count": 110,
     "metadata": {},
     "output_type": "execute_result"
    }
   ],
   "source": [
    "len(users) # Cuantos habrá"
   ]
  },
  {
   "cell_type": "code",
   "execution_count": null,
   "metadata": {
    "collapsed": true
   },
   "outputs": [],
   "source": []
  },
  {
   "cell_type": "code",
   "execution_count": 111,
   "metadata": {
    "collapsed": false
   },
   "outputs": [
    {
     "data": {
      "text/plain": [
       "dict_values([2.0, 3.5, 4.5, 4.0, 2.0, 3.5, 2.0, 3.0])"
      ]
     },
     "execution_count": 111,
     "metadata": {},
     "output_type": "execute_result"
    }
   ],
   "source": [
    "users['Bill'].values()\n",
    "#users['Sam'].values()"
   ]
  },
  {
   "cell_type": "code",
   "execution_count": null,
   "metadata": {
    "collapsed": true
   },
   "outputs": [],
   "source": []
  },
  {
   "cell_type": "code",
   "execution_count": null,
   "metadata": {
    "collapsed": true
   },
   "outputs": [],
   "source": []
  },
  {
   "cell_type": "code",
   "execution_count": null,
   "metadata": {
    "collapsed": true
   },
   "outputs": [],
   "source": []
  },
  {
   "cell_type": "code",
   "execution_count": null,
   "metadata": {
    "collapsed": true
   },
   "outputs": [],
   "source": []
  },
  {
   "cell_type": "code",
   "execution_count": 80,
   "metadata": {
    "collapsed": false
   },
   "outputs": [
    {
     "name": "stdout",
     "output_type": "stream",
     "text": [
      "Heroes del silencio\n"
     ]
    }
   ],
   "source": [
    "# CUAL GRUPO MUSICAL LE GUSTA A \"BILL\"\n",
    "\n",
    "# SOLUCIONE EN PYTHON 3, (NOTA CODIGO MEJORADO SOLO ESTA VERSION)\n",
    "r = users['Bill'].values()\n",
    "rr = list(r)\n",
    "#print(rr)\n",
    "#type(rr)\n",
    "\n",
    "res = sorted(rr)\n",
    "res = reversed(res)\n",
    "r = []\n",
    "for i in res:\n",
    "    r.append(i)\n",
    "    ## print (i)\n",
    "       \n",
    "# Cual es la banda que mas le gusta Bill#\n",
    "for i in users['Bill'].keys():\n",
    "   if users['Bill'][i] == r[0]:\n",
    "        print (i)\n"
   ]
  },
  {
   "cell_type": "code",
   "execution_count": null,
   "metadata": {
    "collapsed": true
   },
   "outputs": [],
   "source": [
    "# Diferencia entre ratings"
   ]
  },
  {
   "cell_type": "code",
   "execution_count": 81,
   "metadata": {
    "collapsed": false
   },
   "outputs": [
    {
     "data": {
      "text/plain": [
       "dict_values([5.0, 2.0, 3.0, 5.0, 4.0, 5.0])"
      ]
     },
     "execution_count": 81,
     "metadata": {},
     "output_type": "execute_result"
    }
   ],
   "source": [
    "users['Sam'].values()"
   ]
  },
  {
   "cell_type": "code",
   "execution_count": 114,
   "metadata": {
    "collapsed": false
   },
   "outputs": [
    {
     "data": {
      "text/plain": [
       "array([ 0. ,  0. ,  0.5,  2. , -1. , -1. , -0.5, -0.5])"
      ]
     },
     "execution_count": 114,
     "metadata": {},
     "output_type": "execute_result"
    }
   ],
   "source": [
    "import numpy as np\n",
    "np.array(list(users['Bill'].values())) - np.array(list(users['Sam'].values()))"
   ]
  },
  {
   "cell_type": "code",
   "execution_count": null,
   "metadata": {
    "collapsed": true
   },
   "outputs": [],
   "source": [
    "# Encontrar SAM no ha escuchado la LEY, para recomendarle como le hacemos"
   ]
  },
  {
   "cell_type": "code",
   "execution_count": null,
   "metadata": {
    "collapsed": true
   },
   "outputs": [],
   "source": [
    "# como sacamos lo usuarios que si escucharon la Ley."
   ]
  },
  {
   "cell_type": "code",
   "execution_count": 125,
   "metadata": {
    "collapsed": false
   },
   "outputs": [
    {
     "name": "stdout",
     "output_type": "stream",
     "text": [
      "4.0\n",
      "4.5\n",
      "4.5\n",
      "1.0\n",
      "4.0\n",
      "2.0\n"
     ]
    }
   ],
   "source": [
    "for u in users.values():\n",
    "    for i,v in u.items():\n",
    "        if i == 'La Ley':\n",
    "            print (v)"
   ]
  },
  {
   "cell_type": "code",
   "execution_count": null,
   "metadata": {
    "collapsed": true
   },
   "outputs": [],
   "source": [
    "# Hay que sumar este nuevo \"filtrado de contenido\", en base a un promedio como lo hace Amazon"
   ]
  },
  {
   "cell_type": "code",
   "execution_count": 130,
   "metadata": {
    "collapsed": false
   },
   "outputs": [
    {
     "name": "stdout",
     "output_type": "stream",
     "text": [
      "4.0\n",
      "4.5\n",
      "4.5\n",
      "1.0\n",
      "4.0\n",
      "2.0\n",
      "Media de Rating para La Ley:  3.33333333333\n"
     ]
    }
   ],
   "source": [
    "# Para la recomendacion, se hablo bien de este pequeño algoritmo\n",
    "l = []\n",
    "for u in users.values():\n",
    "    for i,v in u.items():\n",
    "        if i == 'La Ley':\n",
    "           print (v)\n",
    "           l.append(v)\n",
    "print (\"Media de Rating para La Ley: \", np.array(l).mean() )"
   ]
  },
  {
   "cell_type": "code",
   "execution_count": null,
   "metadata": {
    "collapsed": true
   },
   "outputs": [],
   "source": []
  },
  {
   "cell_type": "code",
   "execution_count": null,
   "metadata": {
    "collapsed": true
   },
   "outputs": [],
   "source": []
  },
  {
   "cell_type": "code",
   "execution_count": null,
   "metadata": {
    "collapsed": true
   },
   "outputs": [],
   "source": []
  },
  {
   "cell_type": "code",
   "execution_count": null,
   "metadata": {
    "collapsed": true
   },
   "outputs": [],
   "source": []
  },
  {
   "cell_type": "code",
   "execution_count": null,
   "metadata": {
    "collapsed": true
   },
   "outputs": [],
   "source": []
  },
  {
   "cell_type": "code",
   "execution_count": null,
   "metadata": {
    "collapsed": true
   },
   "outputs": [],
   "source": []
  },
  {
   "cell_type": "code",
   "execution_count": null,
   "metadata": {
    "collapsed": true
   },
   "outputs": [],
   "source": []
  },
  {
   "cell_type": "code",
   "execution_count": null,
   "metadata": {
    "collapsed": true
   },
   "outputs": [],
   "source": []
  },
  {
   "cell_type": "code",
   "execution_count": null,
   "metadata": {
    "collapsed": true
   },
   "outputs": [],
   "source": []
  },
  {
   "cell_type": "code",
   "execution_count": null,
   "metadata": {
    "collapsed": true
   },
   "outputs": [],
   "source": []
  },
  {
   "cell_type": "code",
   "execution_count": null,
   "metadata": {
    "collapsed": true
   },
   "outputs": [],
   "source": []
  },
  {
   "cell_type": "code",
   "execution_count": null,
   "metadata": {
    "collapsed": true
   },
   "outputs": [],
   "source": []
  },
  {
   "cell_type": "code",
   "execution_count": null,
   "metadata": {
    "collapsed": true
   },
   "outputs": [],
   "source": [
    "# Que bandas se intersectan"
   ]
  },
  {
   "cell_type": "code",
   "execution_count": null,
   "metadata": {
    "collapsed": true
   },
   "outputs": [],
   "source": []
  },
  {
   "cell_type": "code",
   "execution_count": null,
   "metadata": {
    "collapsed": true
   },
   "outputs": [],
   "source": []
  },
  {
   "cell_type": "code",
   "execution_count": null,
   "metadata": {
    "collapsed": true
   },
   "outputs": [],
   "source": []
  },
  {
   "cell_type": "code",
   "execution_count": null,
   "metadata": {
    "collapsed": false
   },
   "outputs": [],
   "source": []
  },
  {
   "cell_type": "code",
   "execution_count": null,
   "metadata": {
    "collapsed": true
   },
   "outputs": [],
   "source": []
  },
  {
   "cell_type": "code",
   "execution_count": null,
   "metadata": {
    "collapsed": true
   },
   "outputs": [],
   "source": []
  },
  {
   "cell_type": "code",
   "execution_count": null,
   "metadata": {
    "collapsed": true
   },
   "outputs": [],
   "source": []
  },
  {
   "cell_type": "code",
   "execution_count": null,
   "metadata": {
    "collapsed": true
   },
   "outputs": [],
   "source": []
  },
  {
   "cell_type": "code",
   "execution_count": null,
   "metadata": {
    "collapsed": true
   },
   "outputs": [],
   "source": []
  },
  {
   "cell_type": "code",
   "execution_count": null,
   "metadata": {
    "collapsed": true
   },
   "outputs": [],
   "source": []
  },
  {
   "cell_type": "code",
   "execution_count": null,
   "metadata": {
    "collapsed": true
   },
   "outputs": [],
   "source": []
  },
  {
   "cell_type": "code",
   "execution_count": null,
   "metadata": {
    "collapsed": true
   },
   "outputs": [],
   "source": []
  },
  {
   "cell_type": "code",
   "execution_count": null,
   "metadata": {
    "collapsed": true
   },
   "outputs": [],
   "source": []
  },
  {
   "cell_type": "code",
   "execution_count": null,
   "metadata": {
    "collapsed": true
   },
   "outputs": [],
   "source": []
  }
 ],
 "metadata": {
  "kernelspec": {
   "display_name": "Python 3",
   "language": "python",
   "name": "python3"
  },
  "language_info": {
   "codemirror_mode": {
    "name": "ipython",
    "version": 3
   },
   "file_extension": ".py",
   "mimetype": "text/x-python",
   "name": "python",
   "nbconvert_exporter": "python",
   "pygments_lexer": "ipython3",
   "version": "3.6.0"
  }
 },
 "nbformat": 4,
 "nbformat_minor": 2
}
