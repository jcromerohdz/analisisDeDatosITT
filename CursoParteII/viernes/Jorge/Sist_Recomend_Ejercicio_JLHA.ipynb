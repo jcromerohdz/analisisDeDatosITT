{
 "cells": [
  {
   "cell_type": "code",
   "execution_count": 1,
   "metadata": {
    "collapsed": true
   },
   "outputs": [],
   "source": [
    "critics = {'Lisa Rose': {'Lady in the Water': 2.5, 'Snakes on a Plane':3.5,'Just my luck': 3.0,\n",
    "                         'Superman Returns':3.5,'You, Me and Dupree': 2.5, 'The Night Listener': 3.0},\n",
    "          'Gene Seymour': {'Lady in the Water': 3.0, 'Snakes on a Plane':3.5,'Just my luck': 1.5,\n",
    "                         'Superman Returns':5.0,'You, Me and Dupree': 3.5,'The Night Listener': 3.0},\n",
    "          'Michel Phillips': {'Lady in the Water': 2.5, 'Snakes on a Plane':3.0, \n",
    "                              'Superman Returns':3.5,'The Night Listener': 4.0},\n",
    "          'Mick Lasalle': {'Lady in the Water': 3.0, 'Snakes on a Plane':4.0,'Just my luck': 2.0,\n",
    "                         'Superman Returns':3.0,'You, Me and Dupree': 2.0,'The Night Listener': 3.0},\n",
    "          'Jack Matthews': {'Lady in the Water': 3.0, 'Snakes on a Plane':4.0,\n",
    "                            'Superman Returns':3.0,'You, Me and Dupree': 2.0,'The Night Listener': 3.0},\n",
    "          'Toby': {'Snakes on a Plane': 4.5,'Superman Returns':4.0,\n",
    "                   'You, Me and Dupree': 1.5}}"
   ]
  },
  {
   "cell_type": "code",
   "execution_count": 5,
   "metadata": {},
   "outputs": [],
   "source": [
    "def arreglo(llave):\n",
    "    llave_ = llave\n",
    "    L = []\n",
    "    for u in A:\n",
    "        for k,v in u.items():\n",
    "            if k == llave_:\n",
    "                L.append(v)\n",
    "    return sum(L)/len(L)"
   ]
  },
  {
   "cell_type": "code",
   "execution_count": 6,
   "metadata": {},
   "outputs": [
    {
     "data": {
      "text/plain": [
       "2.1666666666666665"
      ]
     },
     "execution_count": 6,
     "metadata": {},
     "output_type": "execute_result"
    }
   ],
   "source": [
    "arreglo('Just my luck')"
   ]
  },
  {
   "cell_type": "code",
   "execution_count": 9,
   "metadata": {},
   "outputs": [
    {
     "data": {
      "text/plain": [
       "2.8"
      ]
     },
     "execution_count": 9,
     "metadata": {},
     "output_type": "execute_result"
    }
   ],
   "source": [
    "arreglo('Lady in the Water')"
   ]
  },
  {
   "cell_type": "code",
   "execution_count": 73,
   "metadata": {},
   "outputs": [],
   "source": [
    "R = []\n",
    "for i in A:\n",
    "    for k,v in i.items():\n",
    "        R.append((k,v))\n",
    "#print(R)"
   ]
  },
  {
   "cell_type": "code",
   "execution_count": 71,
   "metadata": {},
   "outputs": [],
   "source": [
    "from operator import itemgetter\n",
    "M = []\n",
    "for i in R:\n",
    "    M.append(i)\n",
    "N = []\n",
    "for u in M:\n",
    "     N.append((u[0]))\n",
    "N = list(set(N))\n",
    "O = []\n",
    "for j in N:\n",
    "    O.append((j,arreglo(j)))\n",
    "O = sorted(O, key=itemgetter(1), reverse=True)\n",
    "#print(M)\n",
    "#print(N)\n",
    "#print(O)"
   ]
  },
  {
   "cell_type": "code",
   "execution_count": 72,
   "metadata": {},
   "outputs": [
    {
     "name": "stdout",
     "output_type": "stream",
     "text": [
      "Toby te recomiendo esta peli  The Night Listener  esta calificada con un, 3.2 por los que ya la han visto\n",
      "Toby te recomiendo esta peli  Lady in the Water  esta calificada con un, 2.8 por los que ya la han visto\n",
      "Toby te recomiendo esta peli  Just my luck  esta calificada con un, 2.1666666666666665 por los que ya la han visto\n"
     ]
    }
   ],
   "source": [
    "l = list(critics['Toby'].keys())\n",
    "for k,v in O:\n",
    "    if k in l:\n",
    "        continue\n",
    "    else:\n",
    "        print('Toby te recomiendo esta peli  ', k, '  esta calificada con un, ', v, ' por los que ya la han visto', sep=\"\")"
   ]
  },
  {
   "cell_type": "code",
   "execution_count": null,
   "metadata": {},
   "outputs": [],
   "source": []
  },
  {
   "cell_type": "code",
   "execution_count": null,
   "metadata": {
    "collapsed": true
   },
   "outputs": [],
   "source": []
  }
 ],
 "metadata": {
  "kernelspec": {
   "display_name": "Python 3",
   "language": "python",
   "name": "python3"
  },
  "language_info": {
   "codemirror_mode": {
    "name": "ipython",
    "version": 3
   },
   "file_extension": ".py",
   "mimetype": "text/x-python",
   "name": "python",
   "nbconvert_exporter": "python",
   "pygments_lexer": "ipython3",
   "version": "3.6.1"
  }
 },
 "nbformat": 4,
 "nbformat_minor": 2
}
