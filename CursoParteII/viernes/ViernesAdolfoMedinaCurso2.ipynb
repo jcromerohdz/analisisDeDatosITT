{
 "cells": [
  {
   "cell_type": "code",
   "execution_count": 2,
   "metadata": {},
   "outputs": [],
   "source": [
    "critics={'Lisa Rose':{'Lady in the Water':2.5,'Snake on a Plane':3.5,\n",
    "                     'Just My Luck':3.0,'Superman Returns':3.5, 'You, Me and Dupree':2.5,'The Night Listener':2.5},\n",
    "         'Michael Phillips':{'Lady in the Water':2.5,'Snake on a Plane':3.0,\n",
    "                     'Superman Returns':3.5,'The Night Listener':3.0},\n",
    "         'Claudia Puig':{'Snake on a Plane':3.5,'Just My Luck':3.0,'The Night Listener':4.5, 'You, Me and Dupree':2.5,'The Night Listener':2.0,\n",
    "                         'Superman Returns':3.5},         \n",
    "         'Mick La Salle':{'Lady in the Water':3.0,'Snake on a Plane':4.0,\n",
    "                     'Just My Luck':2.0,'Superman Returns':3.0,'The Night Listener':3.0,\n",
    "                     'You, Me and Dupree':2.0},\n",
    "         'Jack Matthews':{'Lady in the Water':3.0,'Snake on a Plane':4.0,\n",
    "                     'The Night Listener':3.0,'Superman Returns':5.0,'You, Me and Dupree':3.5},\n",
    "         'Toby':{'Snake on a Plane':4.5,'Superman Returns':4.0, 'You, Me and Dupree':1.0}}"
   ]
  },
  {
   "cell_type": "code",
   "execution_count": 5,
   "metadata": {},
   "outputs": [
    {
     "data": {
      "text/plain": [
       "['Jack Matthews',\n",
       " 'Claudia Puig',\n",
       " 'Mick La Salle',\n",
       " 'Lisa Rose',\n",
       " 'Toby',\n",
       " 'Michael Phillips']"
      ]
     },
     "execution_count": 5,
     "metadata": {},
     "output_type": "execute_result"
    }
   ],
   "source": [
    "critics.keys() #Usuarios"
   ]
  },
  {
   "cell_type": "code",
   "execution_count": null,
   "metadata": {},
   "outputs": [],
   "source": []
  },
  {
   "cell_type": "code",
   "execution_count": 53,
   "metadata": {},
   "outputs": [
    {
     "name": "stdout",
     "output_type": "stream",
     "text": [
      "You, Me and Dupree 3.5\n",
      "Snake on a Plane 4.0\n",
      "Superman Returns 5.0\n",
      "Snake on a Plane 3.5\n",
      "Superman Returns 3.5\n",
      "Snake on a Plane 4.0\n",
      "Superman Returns 3.5\n",
      "Snake on a Plane 3.5\n",
      "Snake on a Plane 4.5\n",
      "Superman Returns 4.0\n",
      "Superman Returns 3.5\n"
     ]
    }
   ],
   "source": [
    "import numpy as np  \n",
    "raiting = []\n",
    "peliculas=[]\n",
    "for listacriticos in critics.values():\n",
    "    for titulo,valor in listacriticos.iteritems():        \n",
    "        if valor > 3.0:\n",
    "            print titulo, valor\n",
    " \n",
    "\n"
   ]
  },
  {
   "cell_type": "code",
   "execution_count": 81,
   "metadata": {},
   "outputs": [
    {
     "name": "stdout",
     "output_type": "stream",
     "text": [
      "You, Me and Dupree 3.5\n",
      "Snake on a Plane 4.0\n",
      "Superman Returns 5.0\n"
     ]
    }
   ],
   "source": [
    "import numpy as np  \n",
    "raiting = []\n",
    "peliculas=[]\n",
    "recomendacion=[]\n",
    "recomRaiting=[]\n",
    "for listacriticos in critics.values():\n",
    "    for titulo,valor in listacriticos.iteritems():   \n",
    "        i=i+1\n",
    "        if valor > 3.0:\n",
    "            peliculas.append(titulo)\n",
    "            raiting.append(valor)                      \n",
    "            if titulo not in recomendacion:\n",
    "                recomendacion.append(titulo)\n",
    "                recomRaiting.append(valor)\n",
    "                print titulo, valor\n",
    "                \n",
    "\n"
   ]
  },
  {
   "cell_type": "code",
   "execution_count": 180,
   "metadata": {},
   "outputs": [
    {
     "name": "stdout",
     "output_type": "stream",
     "text": [
      "Indicar el raiting4\n"
     ]
    },
    {
     "data": {
      "text/plain": [
       "{'Snake on a Plane': 4.5, 'Superman Returns': 5.0}"
      ]
     },
     "execution_count": 180,
     "metadata": {},
     "output_type": "execute_result"
    }
   ],
   "source": [
    "import numpy as np\n",
    "recomendacion=[]\n",
    "recomRaiting=[]\n",
    "valorRaiting={}\n",
    "valorB=input(\"Indicar el raiting\")\n",
    "for listacriticos in critics.values():\n",
    "    for titulo,valor in listacriticos.iteritems():           \n",
    "        if valor > valorB:          \n",
    "            if titulo not in recomendacion:\n",
    "                valorRaiting.setdefault(titulo, valor)\n",
    "                recomendacion.append(valorRaiting)                                                \n",
    "                #print titulo, valor\n",
    "\n",
    "recomendacion[0]"
   ]
  },
  {
   "cell_type": "code",
   "execution_count": null,
   "metadata": {},
   "outputs": [],
   "source": []
  },
  {
   "cell_type": "code",
   "execution_count": null,
   "metadata": {},
   "outputs": [],
   "source": []
  },
  {
   "cell_type": "code",
   "execution_count": null,
   "metadata": {},
   "outputs": [],
   "source": [
    "    "
   ]
  },
  {
   "cell_type": "code",
   "execution_count": null,
   "metadata": {},
   "outputs": [],
   "source": []
  },
  {
   "cell_type": "code",
   "execution_count": null,
   "metadata": {
    "collapsed": true
   },
   "outputs": [],
   "source": []
  }
 ],
 "metadata": {
  "kernelspec": {
   "display_name": "Python 2",
   "language": "python",
   "name": "python2"
  },
  "language_info": {
   "codemirror_mode": {
    "name": "ipython",
    "version": 2
   },
   "file_extension": ".py",
   "mimetype": "text/x-python",
   "name": "python",
   "nbconvert_exporter": "python",
   "pygments_lexer": "ipython2",
   "version": "2.7.13"
  }
 },
 "nbformat": 4,
 "nbformat_minor": 2
}
