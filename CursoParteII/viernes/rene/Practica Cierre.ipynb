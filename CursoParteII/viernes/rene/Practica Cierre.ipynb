{
 "cells": [
  {
   "cell_type": "markdown",
   "metadata": {},
   "source": [
    "# Critica de cine\n"
   ]
  },
  {
   "cell_type": "code",
   "execution_count": 1,
   "metadata": {
    "collapsed": true
   },
   "outputs": [],
   "source": [
    "import networkx as nx\n",
    "\n",
    "import matplotlib.pyplot as plt"
   ]
  },
  {
   "cell_type": "code",
   "execution_count": null,
   "metadata": {
    "collapsed": true
   },
   "outputs": [],
   "source": []
  },
  {
   "cell_type": "code",
   "execution_count": 3,
   "metadata": {
    "collapsed": false
   },
   "outputs": [],
   "source": [
    "critics={\n",
    "'Lisa Rose':{\n",
    "'Lady in the Water':2.5, 'Snake on a plane':3.5, 'Just my luck':3.0,'Superman return':3.5,'You, me and dupree':2.5, 'The night listener':3.0},\n",
    "'Gene Seymour':{\n",
    "'Lady in the Water':3.0, 'Snake on a plane':3.5, 'Just my luck':1.5,'Superman return':5.0,'The night listener':3.0, 'You, me and dupree':3.5},\n",
    "'Michael Phillips':{\n",
    "'Lady in the water':2.5,'Snake on a plane':3.0,'Superman return':5.0,'The night listener':3.5, 'You, me and dupree':4.0},\n",
    "'Claudia Puig':{\n",
    "'Snake on a plane':3.5,'Superman return':4.0,'The night listener':4.5, 'You, me and dupree':2.5, 'Just my luck':3.0},\n",
    "'Mick LaSalle':{\n",
    "'Lady in the Water':3.0,'Snake on a plane':4.0,'Superman return':3.0,'The night listener':3.0, 'You, me and dupree':2.0, 'Just my luck':2.0},\n",
    "'Jack Matthews':{\n",
    "'Lady in the Water':3.0,'Snake on a plane':4.0,'Superman return':5.0,'The night listener':3.0, 'You, me and dupree':3.5},\n",
    "'Toby':{\n",
    "'Snake on a plane':4.5,'Superman return':4.0, 'You, me and dupree':1.0}\n",
    "}"
   ]
  },
  {
   "cell_type": "code",
   "execution_count": 18,
   "metadata": {
    "collapsed": false
   },
   "outputs": [
    {
     "data": {
      "text/plain": [
       "dict_keys(['Lisa Rose', 'Gene Seymour', 'Michael Phillips', 'Claudia Puig', 'Mick LaSalle', 'Jack Matthews', 'Toby'])"
      ]
     },
     "execution_count": 18,
     "metadata": {},
     "output_type": "execute_result"
    }
   ],
   "source": [
    "critics.keys()\n"
   ]
  },
  {
   "cell_type": "code",
   "execution_count": null,
   "metadata": {
    "collapsed": true
   },
   "outputs": [],
   "source": []
  },
  {
   "cell_type": "code",
   "execution_count": null,
   "metadata": {
    "collapsed": true
   },
   "outputs": [],
   "source": []
  },
  {
   "cell_type": "code",
   "execution_count": 19,
   "metadata": {
    "collapsed": false
   },
   "outputs": [
    {
     "data": {
      "text/plain": [
       "7"
      ]
     },
     "execution_count": 19,
     "metadata": {},
     "output_type": "execute_result"
    }
   ],
   "source": [
    "len(critics)"
   ]
  },
  {
   "cell_type": "code",
   "execution_count": null,
   "metadata": {
    "collapsed": true
   },
   "outputs": [],
   "source": []
  },
  {
   "cell_type": "code",
   "execution_count": 20,
   "metadata": {
    "collapsed": false
   },
   "outputs": [
    {
     "data": {
      "text/plain": [
       "dict_items([('Lisa Rose', {'Lady in the Water': 2.5, 'Snake on a plane': 3.5, 'Just my luck': 3.0, 'Superman return': 3.5, 'You, me and dupree': 2.5, 'The night listener': 3.0}), ('Gene Seymour', {'Lady in the Water': 3.0, 'Snake on a plane': 3.5, 'Just my luck': 1.5, 'Superman return': 5.0, 'The night listener': 3.0, 'You, me and dupree': 3.5}), ('Michael Phillips', {'Lady in the water': 2.5, 'Snake on a plane': 3.0, 'Superman return': 5.0, 'The night listener': 3.5, 'You, me and dupree': 4.0}), ('Claudia Puig', {'Snake on a plane': 3.5, 'Superman return': 4.0, 'The night listener': 4.5, 'You, me and dupree': 2.5, 'Just my luck': 3.0}), ('Mick LaSalle', {'Lady in the Water': 3.0, 'Snake on a plane': 4.0, 'Superman return': 3.0, 'The night listener': 3.0, 'You, me and dupree': 2.0, 'Just my luck': 2.0}), ('Jack Matthews', {'Lady in the Water': 3.0, 'Snake on a plane': 4.0, 'Superman return': 5.0, 'The night listener': 3.0, 'You, me and dupree': 3.5}), ('Toby', {'Snake on a plane': 4.5, 'Superman return': 4.0, 'You, me and dupree': 1.0})])"
      ]
     },
     "execution_count": 20,
     "metadata": {},
     "output_type": "execute_result"
    }
   ],
   "source": [
    "critics.items() # diccionario"
   ]
  },
  {
   "cell_type": "code",
   "execution_count": 22,
   "metadata": {
    "collapsed": true
   },
   "outputs": [],
   "source": [
    "import numpy as np"
   ]
  },
  {
   "cell_type": "code",
   "execution_count": 24,
   "metadata": {
    "collapsed": true
   },
   "outputs": [],
   "source": [
    "cri = np.array(critics)"
   ]
  },
  {
   "cell_type": "code",
   "execution_count": 31,
   "metadata": {
    "collapsed": false
   },
   "outputs": [
    {
     "data": {
      "text/plain": [
       "array({'Lisa Rose': {'Lady in the Water': 2.5, 'Snake on a plane': 3.5, 'Just my luck': 3.0, 'Superman return': 3.5, 'You, me and dupree': 2.5, 'The night listener': 3.0}, 'Gene Seymour': {'Lady in the Water': 3.0, 'Snake on a plane': 3.5, 'Just my luck': 1.5, 'Superman return': 5.0, 'The night listener': 3.0, 'You, me and dupree': 3.5}, 'Michael Phillips': {'Lady in the water': 2.5, 'Snake on a plane': 3.0, 'Superman return': 5.0, 'The night listener': 3.5, 'You, me and dupree': 4.0}, 'Claudia Puig': {'Snake on a plane': 3.5, 'Superman return': 4.0, 'The night listener': 4.5, 'You, me and dupree': 2.5, 'Just my luck': 3.0}, 'Mick LaSalle': {'Lady in the Water': 3.0, 'Snake on a plane': 4.0, 'Superman return': 3.0, 'The night listener': 3.0, 'You, me and dupree': 2.0, 'Just my luck': 2.0}, 'Jack Matthews': {'Lady in the Water': 3.0, 'Snake on a plane': 4.0, 'Superman return': 5.0, 'The night listener': 3.0, 'You, me and dupree': 3.5}, 'Toby': {'Snake on a plane': 4.5, 'Superman return': 4.0, 'You, me and dupree': 1.0}}, dtype=object)"
      ]
     },
     "execution_count": 31,
     "metadata": {},
     "output_type": "execute_result"
    }
   ],
   "source": [
    "cri"
   ]
  },
  {
   "cell_type": "code",
   "execution_count": null,
   "metadata": {
    "collapsed": true
   },
   "outputs": [],
   "source": []
  },
  {
   "cell_type": "code",
   "execution_count": 38,
   "metadata": {
    "collapsed": false
   },
   "outputs": [
    {
     "data": {
      "text/plain": [
       "7"
      ]
     },
     "execution_count": 38,
     "metadata": {},
     "output_type": "execute_result"
    }
   ],
   "source": [
    "len(critics)"
   ]
  },
  {
   "cell_type": "code",
   "execution_count": null,
   "metadata": {
    "collapsed": true
   },
   "outputs": [],
   "source": []
  },
  {
   "cell_type": "code",
   "execution_count": null,
   "metadata": {
    "collapsed": true
   },
   "outputs": [],
   "source": []
  },
  {
   "cell_type": "code",
   "execution_count": null,
   "metadata": {
    "collapsed": true
   },
   "outputs": [],
   "source": []
  },
  {
   "cell_type": "code",
   "execution_count": null,
   "metadata": {
    "collapsed": true
   },
   "outputs": [],
   "source": []
  },
  {
   "cell_type": "code",
   "execution_count": null,
   "metadata": {
    "collapsed": true
   },
   "outputs": [],
   "source": []
  },
  {
   "cell_type": "code",
   "execution_count": null,
   "metadata": {
    "collapsed": true
   },
   "outputs": [],
   "source": []
  },
  {
   "cell_type": "code",
   "execution_count": null,
   "metadata": {
    "collapsed": true
   },
   "outputs": [],
   "source": []
  },
  {
   "cell_type": "code",
   "execution_count": null,
   "metadata": {
    "collapsed": true
   },
   "outputs": [],
   "source": []
  },
  {
   "cell_type": "code",
   "execution_count": null,
   "metadata": {
    "collapsed": true
   },
   "outputs": [],
   "source": []
  },
  {
   "cell_type": "code",
   "execution_count": null,
   "metadata": {
    "collapsed": true
   },
   "outputs": [],
   "source": []
  },
  {
   "cell_type": "code",
   "execution_count": null,
   "metadata": {
    "collapsed": true
   },
   "outputs": [],
   "source": []
  },
  {
   "cell_type": "code",
   "execution_count": null,
   "metadata": {
    "collapsed": true
   },
   "outputs": [],
   "source": []
  },
  {
   "cell_type": "code",
   "execution_count": null,
   "metadata": {
    "collapsed": true
   },
   "outputs": [],
   "source": []
  },
  {
   "cell_type": "code",
   "execution_count": null,
   "metadata": {
    "collapsed": true
   },
   "outputs": [],
   "source": []
  },
  {
   "cell_type": "code",
   "execution_count": null,
   "metadata": {
    "collapsed": true
   },
   "outputs": [],
   "source": []
  },
  {
   "cell_type": "code",
   "execution_count": null,
   "metadata": {
    "collapsed": true
   },
   "outputs": [],
   "source": []
  },
  {
   "cell_type": "code",
   "execution_count": null,
   "metadata": {
    "collapsed": true
   },
   "outputs": [],
   "source": []
  },
  {
   "cell_type": "code",
   "execution_count": null,
   "metadata": {
    "collapsed": true
   },
   "outputs": [],
   "source": []
  },
  {
   "cell_type": "code",
   "execution_count": null,
   "metadata": {
    "collapsed": true
   },
   "outputs": [],
   "source": []
  },
  {
   "cell_type": "code",
   "execution_count": null,
   "metadata": {
    "collapsed": true
   },
   "outputs": [],
   "source": []
  },
  {
   "cell_type": "code",
   "execution_count": null,
   "metadata": {
    "collapsed": true
   },
   "outputs": [],
   "source": []
  },
  {
   "cell_type": "code",
   "execution_count": null,
   "metadata": {
    "collapsed": true
   },
   "outputs": [],
   "source": []
  },
  {
   "cell_type": "code",
   "execution_count": null,
   "metadata": {
    "collapsed": true
   },
   "outputs": [],
   "source": []
  },
  {
   "cell_type": "code",
   "execution_count": null,
   "metadata": {
    "collapsed": true
   },
   "outputs": [],
   "source": []
  },
  {
   "cell_type": "code",
   "execution_count": 2,
   "metadata": {
    "collapsed": false
   },
   "outputs": [
    {
     "ename": "NameError",
     "evalue": "name 'critics' is not defined",
     "output_type": "error",
     "traceback": [
      "\u001b[0;31m---------------------------------------------------------------------------\u001b[0m",
      "\u001b[0;31mNameError\u001b[0m                                 Traceback (most recent call last)",
      "\u001b[0;32m<ipython-input-2-8e8682477c48>\u001b[0m in \u001b[0;36m<module>\u001b[0;34m()\u001b[0m\n\u001b[0;32m----> 1\u001b[0;31m \u001b[0mcritics\u001b[0m\u001b[0;34m.\u001b[0m\u001b[0mkeys\u001b[0m\u001b[0;34m(\u001b[0m\u001b[0;34m)\u001b[0m\u001b[0;34m\u001b[0m\u001b[0m\n\u001b[0m",
      "\u001b[0;31mNameError\u001b[0m: name 'critics' is not defined"
     ]
    }
   ],
   "source": []
  },
  {
   "cell_type": "code",
   "execution_count": null,
   "metadata": {
    "collapsed": true
   },
   "outputs": [],
   "source": []
  },
  {
   "cell_type": "code",
   "execution_count": null,
   "metadata": {
    "collapsed": true
   },
   "outputs": [],
   "source": []
  },
  {
   "cell_type": "code",
   "execution_count": null,
   "metadata": {
    "collapsed": true
   },
   "outputs": [],
   "source": []
  }
 ],
 "metadata": {
  "kernelspec": {
   "display_name": "Python 3",
   "language": "python",
   "name": "python3"
  },
  "language_info": {
   "codemirror_mode": {
    "name": "ipython",
    "version": 3
   },
   "file_extension": ".py",
   "mimetype": "text/x-python",
   "name": "python",
   "nbconvert_exporter": "python",
   "pygments_lexer": "ipython3",
   "version": "3.6.0"
  }
 },
 "nbformat": 4,
 "nbformat_minor": 2
}
