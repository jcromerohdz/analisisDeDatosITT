{
 "cells": [
  {
   "cell_type": "markdown",
   "metadata": {},
   "source": [
    "Media, mediana, moda"
   ]
  },
  {
   "cell_type": "markdown",
   "metadata": {},
   "source": [
    "Vamos a creas datos de ingresos falsos, centrados alrededor de 27,000 con distribucion normal y un desviación estandar de 15,000 con 10,000 puntos de datos.\n",
    "Despues calculamos la media(promedio)- deberia ser cercano a 27,000"
   ]
  },
  {
   "cell_type": "code",
   "execution_count": 1,
   "metadata": {
    "collapsed": true
   },
   "outputs": [],
   "source": [
    "import numpy as np"
   ]
  },
  {
   "cell_type": "code",
   "execution_count": 7,
   "metadata": {},
   "outputs": [
    {
     "data": {
      "text/plain": [
       "27161.750152069144"
      ]
     },
     "execution_count": 7,
     "metadata": {},
     "output_type": "execute_result"
    }
   ],
   "source": [
    "ingresos = np.random.normal(27000, 15000, 10000)\n",
    "np.mean(ingresos)"
   ]
  },
  {
   "cell_type": "markdown",
   "metadata": {},
   "source": [
    "Ahora agragamos un ingreso atípico(outlier), por ejemplo el de Donal Trump"
   ]
  },
  {
   "cell_type": "code",
   "execution_count": 8,
   "metadata": {},
   "outputs": [
    {
     "data": {
      "text/plain": [
       "numpy.ndarray"
      ]
     },
     "execution_count": 8,
     "metadata": {},
     "output_type": "execute_result"
    }
   ],
   "source": [
    "type(ingresos)"
   ]
  },
  {
   "cell_type": "code",
   "execution_count": 9,
   "metadata": {
    "collapsed": true
   },
   "outputs": [],
   "source": [
    "ingresos = np.append(ingresos, [1000000000])"
   ]
  },
  {
   "cell_type": "markdown",
   "metadata": {},
   "source": [
    "La media cambia mucho , pero la midiana no:"
   ]
  },
  {
   "cell_type": "code",
   "execution_count": 11,
   "metadata": {},
   "outputs": [
    {
     "data": {
      "text/plain": [
       "27153.149109433525"
      ]
     },
     "execution_count": 11,
     "metadata": {},
     "output_type": "execute_result"
    }
   ],
   "source": [
    "np.median(ingresos)"
   ]
  },
  {
   "cell_type": "code",
   "execution_count": 12,
   "metadata": {},
   "outputs": [
    {
     "data": {
      "text/plain": [
       "127149.03524854429"
      ]
     },
     "execution_count": 12,
     "metadata": {},
     "output_type": "execute_result"
    }
   ],
   "source": [
    "np.mean(ingresos)"
   ]
  },
  {
   "cell_type": "markdown",
   "metadata": {},
   "source": [
    "Ahora, generaremos edades falsas para 500 personas"
   ]
  },
  {
   "cell_type": "code",
   "execution_count": 13,
   "metadata": {
    "collapsed": true
   },
   "outputs": [],
   "source": [
    "edades = np.random.randint(18, high=90, size=500)"
   ]
  },
  {
   "cell_type": "code",
   "execution_count": 14,
   "metadata": {},
   "outputs": [
    {
     "data": {
      "text/plain": [
       "array([42, 70, 80, 41, 73, 68, 70, 52, 60, 45, 22, 28, 77, 70, 77, 46, 20,\n",
       "       84, 43, 66, 58, 64, 33, 53, 35, 46, 87, 76, 21, 81, 18, 43, 41, 61,\n",
       "       31, 27, 34, 24, 46, 63, 79, 86, 57, 44, 68, 80, 51, 44, 43, 73, 67,\n",
       "       41, 61, 53, 47, 64, 46, 51, 52, 73, 80, 54, 85, 31, 83, 74, 71, 42,\n",
       "       69, 53, 61, 24, 35, 49, 36, 26, 39, 46, 27, 74, 87, 32, 68, 44, 55,\n",
       "       18, 46, 61, 75, 73, 89, 75, 20, 53, 36, 21, 30, 36, 41, 62, 65, 77,\n",
       "       22, 58, 65, 59, 54, 85, 84, 85, 35, 41, 20, 66, 20, 55, 79, 75, 48,\n",
       "       55, 83, 59, 61, 57, 46, 67, 54, 25, 24, 69, 32, 62, 49, 63, 84, 39,\n",
       "       19, 86, 59, 23, 36, 24, 19, 64, 33, 25, 43, 25, 62, 50, 28, 67, 55,\n",
       "       22, 80, 35, 45, 84, 46, 71, 84, 70, 51, 36, 48, 75, 34, 75, 61, 32,\n",
       "       25, 50, 22, 77, 54, 69, 19, 51, 66, 50, 33, 22, 83, 60, 58, 72, 52,\n",
       "       55, 26, 63, 47, 42, 72, 25, 75, 47, 53, 69, 24, 67, 59, 54, 25, 62,\n",
       "       48, 50, 37, 70, 70, 68, 58, 31, 86, 71, 65, 28, 68, 22, 75, 84, 63,\n",
       "       66, 32, 44, 32, 48, 59, 69, 87, 75, 59, 23, 55, 56, 61, 56, 29, 18,\n",
       "       73, 89, 64, 67, 29, 73, 84, 40, 59, 65, 45, 89, 84, 47, 51, 46, 68,\n",
       "       64, 74, 72, 83, 21, 82, 38, 32, 77, 46, 63, 74, 43, 36, 38, 35, 55,\n",
       "       22, 84, 37, 18, 77, 73, 42, 68, 55, 21, 41, 33, 62, 18, 33, 45, 50,\n",
       "       58, 88, 19, 87, 72, 54, 36, 22, 29, 71, 53, 72, 75, 59, 77, 55, 44,\n",
       "       37, 87, 53, 30, 30, 65, 72, 71, 70, 42, 56, 19, 48, 43, 40, 69, 59,\n",
       "       66, 31, 24, 62, 63, 50, 22, 66, 71, 53, 64, 87, 20, 38, 56, 45, 47,\n",
       "       54, 89, 23, 77, 70, 23, 23, 43, 41, 80, 35, 44, 89, 71, 87, 43, 52,\n",
       "       20, 64, 45, 89, 54, 18, 79, 37, 35, 69, 69, 22, 69, 24, 50, 58, 19,\n",
       "       68, 71, 66, 45, 45, 63, 88, 44, 52, 26, 60, 56, 52, 20, 30, 26, 28,\n",
       "       52, 73, 50, 81, 44, 74, 46, 53, 52, 33, 80, 41, 64, 35, 62, 34, 27,\n",
       "       45, 65, 55, 71, 38, 25, 56, 41, 66, 20, 39, 52, 65, 88, 47, 51, 66,\n",
       "       73, 41, 72, 66, 52, 54, 72, 53, 62, 61, 26, 31, 44, 87, 57, 72, 24,\n",
       "       21, 33, 57, 80, 46, 28, 33, 50, 77, 18, 64, 85, 57, 49, 20, 58, 60,\n",
       "       32, 78, 79, 74, 74, 77, 74, 70, 35, 43, 67, 72, 50, 75, 20, 84, 55,\n",
       "       26, 49, 87, 77, 36, 79, 42, 36, 44, 51, 33, 67, 27, 22, 56, 61, 64,\n",
       "       73, 88, 70, 84, 75, 72, 85])"
      ]
     },
     "execution_count": 14,
     "metadata": {},
     "output_type": "execute_result"
    }
   ],
   "source": [
    "edades"
   ]
  },
  {
   "cell_type": "code",
   "execution_count": 16,
   "metadata": {},
   "outputs": [],
   "source": [
    "from scipy import stats"
   ]
  },
  {
   "cell_type": "code",
   "execution_count": 17,
   "metadata": {},
   "outputs": [
    {
     "data": {
      "text/plain": [
       "ModeResult(mode=array([46]), count=array([12]))"
      ]
     },
     "execution_count": 17,
     "metadata": {},
     "output_type": "execute_result"
    }
   ],
   "source": [
    "stats.mode(edades)"
   ]
  },
  {
   "cell_type": "markdown",
   "metadata": {},
   "source": [
    "Ahora vamos agregar un codigo de datos de comercio electronico aleatorios; \n",
    "solo son datos que represantan la cantidad total de gastos por transaccion."
   ]
  },
  {
   "cell_type": "code",
   "execution_count": 21,
   "metadata": {},
   "outputs": [
    {
     "data": {
      "image/png": "[encoded data removed]",
      "text/plain": [
       "<matplotlib.figure.Figure at 0x108c90b10>"
      ]
     },
     "metadata": {},
     "output_type": "display_data"
    }
   ],
   "source": [
    "import numpy as np\n",
    "import matplotlib.pyplot as plt\n",
    "\n",
    "gastos = np.random.normal(100.0, 20.0, 10000)\n",
    "plt.hist(gastos, 50)"
   ]
  },
  {
   "cell_type": "markdown",
   "metadata": {},
   "source": [
    "Generar datos aleatorios de su gusto, posteriormente calcular la media,\n",
    "mediana, agreagar a esos datos un valor outlier y re-calcular la media y\n",
    "mediana"
   ]
  },
  {
   "cell_type": "markdown",
   "metadata": {},
   "source": [
    "Ejemplos de distribuciones de datos"
   ]
  },
  {
   "cell_type": "markdown",
   "metadata": {},
   "source": [
    "Distribución uniforme"
   ]
  },
  {
   "cell_type": "code",
   "execution_count": 23,
   "metadata": {
    "collapsed": true
   },
   "outputs": [],
   "source": [
    "import numpy as np"
   ]
  },
  {
   "cell_type": "code",
   "execution_count": 24,
   "metadata": {
    "collapsed": true
   },
   "outputs": [],
   "source": [
    "import matplotlib.pyplot as plt"
   ]
  },
  {
   "cell_type": "code",
   "execution_count": 26,
   "metadata": {
    "collapsed": true
   },
   "outputs": [],
   "source": [
    "valores = np.random.uniform(-10.0, 10.0, 100000)"
   ]
  },
  {
   "cell_type": "code",
   "execution_count": 27,
   "metadata": {},
   "outputs": [
    {
     "data": {
      "text/plain": [
       "(array([ 2007.,  2069.,  2017.,  1961.,  2037.,  1987.,  1937.,  2069.,\n",
       "         1968.,  2066.,  2004.,  1973.,  1917.,  2035.,  2062.,  2082.,\n",
       "         2052.,  1949.,  1903.,  1954.,  1971.,  2024.,  1948.,  2017.,\n",
       "         1935.,  1933.,  1982.,  1953.,  1992.,  1986.,  1915.,  2043.,\n",
       "         2046.,  2005.,  2014.,  2017.,  1986.,  2103.,  2067.,  2009.,\n",
       "         1966.,  1966.,  1923.,  2005.,  2039.,  2055.,  2011.,  2021.,\n",
       "         1967.,  2052.]),\n",
       " array([ -9.99998836e+00,  -9.59999107e+00,  -9.19999379e+00,\n",
       "         -8.79999650e+00,  -8.39999922e+00,  -8.00000193e+00,\n",
       "         -7.60000465e+00,  -7.20000736e+00,  -6.80001008e+00,\n",
       "         -6.40001279e+00,  -6.00001551e+00,  -5.60001822e+00,\n",
       "         -5.20002094e+00,  -4.80002365e+00,  -4.40002637e+00,\n",
       "         -4.00002908e+00,  -3.60003180e+00,  -3.20003451e+00,\n",
       "         -2.80003723e+00,  -2.40003994e+00,  -2.00004266e+00,\n",
       "         -1.60004537e+00,  -1.20004809e+00,  -8.00050802e-01,\n",
       "         -4.00053517e-01,  -5.62320612e-05,   3.99941053e-01,\n",
       "          7.99938338e-01,   1.19993562e+00,   1.59993291e+00,\n",
       "          1.99993019e+00,   2.39992748e+00,   2.79992476e+00,\n",
       "          3.19992205e+00,   3.59991933e+00,   3.99991662e+00,\n",
       "          4.39991390e+00,   4.79991119e+00,   5.19990847e+00,\n",
       "          5.59990576e+00,   5.99990304e+00,   6.39990033e+00,\n",
       "          6.79989761e+00,   7.19989490e+00,   7.59989218e+00,\n",
       "          7.99988947e+00,   8.39988675e+00,   8.79988404e+00,\n",
       "          9.19988132e+00,   9.59987861e+00,   9.99987589e+00]),\n",
       " <a list of 50 Patch objects>)"
      ]
     },
     "execution_count": 27,
     "metadata": {},
     "output_type": "execute_result"
    }
   ],
   "source": [
    "plt.hist(valores, 50)"
   ]
  },
  {
   "cell_type": "code",
   "execution_count": 28,
   "metadata": {},
   "outputs": [
    {
     "data": {
      "image/png": "[encoded data removed]",
      "text/plain": [
       "<matplotlib.figure.Figure at 0x10bb70dd0>"
      ]
     },
     "metadata": {},
     "output_type": "display_data"
    }
   ],
   "source": [
    "plt.show()"
   ]
  },
  {
   "cell_type": "markdown",
   "metadata": {},
   "source": [
    "Distribución Normal / Gaussian"
   ]
  },
  {
   "cell_type": "code",
   "execution_count": 31,
   "metadata": {},
   "outputs": [],
   "source": [
    "from scipy.stats import norm\n",
    "import matplotlib.pyplot as plt"
   ]
  },
  {
   "cell_type": "code",
   "execution_count": 33,
   "metadata": {},
   "outputs": [],
   "source": [
    "x = np.arange(-3, 3, 0.001)"
   ]
  },
  {
   "cell_type": "code",
   "execution_count": 34,
   "metadata": {},
   "outputs": [
    {
     "data": {
      "text/plain": [
       "[<matplotlib.lines.Line2D at 0x10c0670d0>]"
      ]
     },
     "execution_count": 34,
     "metadata": {},
     "output_type": "execute_result"
    }
   ],
   "source": [
    "plt.plot(x, norm.pdf(x))"
   ]
  },
  {
   "cell_type": "code",
   "execution_count": 35,
   "metadata": {},
   "outputs": [
    {
     "data": {
      "image/png": "[encoded data removed]",
      "text/plain": [
       "<matplotlib.figure.Figure at 0x10bf36c50>"
      ]
     },
     "metadata": {},
     "output_type": "display_data"
    }
   ],
   "source": [
    "plt.show()"
   ]
  },
  {
   "cell_type": "markdown",
   "metadata": {},
   "source": [
    "Distribución Exponencial / \"Power law\""
   ]
  },
  {
   "cell_type": "code",
   "execution_count": 37,
   "metadata": {},
   "outputs": [],
   "source": [
    "from scipy.stats import expon"
   ]
  },
  {
   "cell_type": "code",
   "execution_count": 38,
   "metadata": {
    "collapsed": true
   },
   "outputs": [],
   "source": [
    "import matplotlib.pyplot as plt"
   ]
  },
  {
   "cell_type": "code",
   "execution_count": 39,
   "metadata": {
    "collapsed": true
   },
   "outputs": [],
   "source": [
    "x = np.arange(0, 10, 0.001)"
   ]
  },
  {
   "cell_type": "code",
   "execution_count": 40,
   "metadata": {},
   "outputs": [
    {
     "data": {
      "text/plain": [
       "[<matplotlib.lines.Line2D at 0x10c18b610>]"
      ]
     },
     "execution_count": 40,
     "metadata": {},
     "output_type": "execute_result"
    }
   ],
   "source": [
    "plt.plot(x, expon.pdf(x))"
   ]
  },
  {
   "cell_type": "code",
   "execution_count": 41,
   "metadata": {},
   "outputs": [
    {
     "data": {
      "image/png": "[encoded data removed]",
      "text/plain": [
       "<matplotlib.figure.Figure at 0x10c0b4410>"
      ]
     },
     "metadata": {},
     "output_type": "display_data"
    }
   ],
   "source": [
    "plt.show()"
   ]
  },
  {
   "cell_type": "markdown",
   "metadata": {},
   "source": [
    "Función masa probabilidad binomial"
   ]
  },
  {
   "cell_type": "code",
   "execution_count": 42,
   "metadata": {
    "collapsed": true
   },
   "outputs": [],
   "source": [
    "from scipy.stats import binom"
   ]
  },
  {
   "cell_type": "code",
   "execution_count": 43,
   "metadata": {
    "collapsed": true
   },
   "outputs": [],
   "source": [
    "import matplotlib.pyplot as plt"
   ]
  },
  {
   "cell_type": "code",
   "execution_count": 44,
   "metadata": {
    "collapsed": true
   },
   "outputs": [],
   "source": [
    "n,p = 10, 0.5"
   ]
  },
  {
   "cell_type": "code",
   "execution_count": 45,
   "metadata": {},
   "outputs": [
    {
     "data": {
      "text/plain": [
       "[<matplotlib.lines.Line2D at 0x10c2a50d0>]"
      ]
     },
     "execution_count": 45,
     "metadata": {},
     "output_type": "execute_result"
    }
   ],
   "source": [
    "plt.plot(x, binom.pmf(x,n,p))"
   ]
  },
  {
   "cell_type": "code",
   "execution_count": 46,
   "metadata": {},
   "outputs": [
    {
     "data": {
      "image/png": "[encoded data removed]",
      "text/plain": [
       "<matplotlib.figure.Figure at 0x10c1c4390>"
      ]
     },
     "metadata": {},
     "output_type": "display_data"
    }
   ],
   "source": [
    "plt.show()"
   ]
  },
  {
   "cell_type": "markdown",
   "metadata": {},
   "source": [
    "Poisson función de masa"
   ]
  },
  {
   "cell_type": "code",
   "execution_count": 47,
   "metadata": {
    "collapsed": true
   },
   "outputs": [],
   "source": [
    "from scipy.stats import poisson"
   ]
  },
  {
   "cell_type": "code",
   "execution_count": 48,
   "metadata": {
    "collapsed": true
   },
   "outputs": [],
   "source": [
    "import matplotlib.pyplot as plt"
   ]
  },
  {
   "cell_type": "code",
   "execution_count": 49,
   "metadata": {
    "collapsed": true
   },
   "outputs": [],
   "source": [
    "mu = 500"
   ]
  },
  {
   "cell_type": "code",
   "execution_count": 50,
   "metadata": {
    "collapsed": true
   },
   "outputs": [],
   "source": [
    "x = np.arange(100, 600, 0.5)"
   ]
  },
  {
   "cell_type": "code",
   "execution_count": 51,
   "metadata": {},
   "outputs": [
    {
     "data": {
      "text/plain": [
       "[<matplotlib.lines.Line2D at 0x10ba596d0>]"
      ]
     },
     "execution_count": 51,
     "metadata": {},
     "output_type": "execute_result"
    }
   ],
   "source": [
    "plt.plot(x, poisson.pmf(x, mu))"
   ]
  },
  {
   "cell_type": "code",
   "execution_count": 52,
   "metadata": {},
   "outputs": [
    {
     "data": {
      "image/png": "[encoded data removed]",
      "text/plain": [
       "<matplotlib.figure.Figure at 0x10c2bc450>"
      ]
     },
     "metadata": {},
     "output_type": "display_data"
    }
   ],
   "source": [
    "plt.show()"
   ]
  },
  {
   "cell_type": "markdown",
   "metadata": {},
   "source": [
    "Visualización de datos"
   ]
  },
  {
   "cell_type": "markdown",
   "metadata": {},
   "source": [
    "Matplotlib Basico"
   ]
  },
  {
   "cell_type": "code",
   "execution_count": 54,
   "metadata": {},
   "outputs": [],
   "source": [
    "from scipy.stats import norm"
   ]
  },
  {
   "cell_type": "code",
   "execution_count": 55,
   "metadata": {
    "collapsed": true
   },
   "outputs": [],
   "source": [
    "import matplotlib.pyplot as plt"
   ]
  },
  {
   "cell_type": "code",
   "execution_count": 56,
   "metadata": {
    "collapsed": true
   },
   "outputs": [],
   "source": [
    "x = np.arange(-3, 3, 0.001)"
   ]
  },
  {
   "cell_type": "code",
   "execution_count": 57,
   "metadata": {},
   "outputs": [
    {
     "data": {
      "text/plain": [
       "[<matplotlib.lines.Line2D at 0x10bb995d0>]"
      ]
     },
     "execution_count": 57,
     "metadata": {},
     "output_type": "execute_result"
    }
   ],
   "source": [
    "plt.plot(x, norm.pdf(x))"
   ]
  },
  {
   "cell_type": "code",
   "execution_count": 58,
   "metadata": {},
   "outputs": [
    {
     "data": {
      "image/png": "[encoded data removed]",
      "text/plain": [
       "<matplotlib.figure.Figure at 0x10ba9b050>"
      ]
     },
     "metadata": {},
     "output_type": "display_data"
    }
   ],
   "source": [
    "plt.show()"
   ]
  },
  {
   "cell_type": "markdown",
   "metadata": {},
   "source": [
    "Multiples graficas"
   ]
  },
  {
   "cell_type": "code",
   "execution_count": 59,
   "metadata": {
    "collapsed": true
   },
   "outputs": [],
   "source": [
    "plt.savefig('grafica1', format='png')"
   ]
  },
  {
   "cell_type": "code",
   "execution_count": 60,
   "metadata": {},
   "outputs": [
    {
     "data": {
      "text/plain": [
       "[<matplotlib.lines.Line2D at 0x10b853490>]"
      ]
     },
     "execution_count": 60,
     "metadata": {},
     "output_type": "execute_result"
    }
   ],
   "source": [
    "plt.plot(x, norm.pdf(x))"
   ]
  },
  {
   "cell_type": "code",
   "execution_count": 61,
   "metadata": {},
   "outputs": [
    {
     "data": {
      "text/plain": [
       "[<matplotlib.lines.Line2D at 0x10b7e78d0>]"
      ]
     },
     "execution_count": 61,
     "metadata": {},
     "output_type": "execute_result"
    }
   ],
   "source": [
    "plt.plot(x, norm.pdf(x, 1.0, 0.5))"
   ]
  },
  {
   "cell_type": "code",
   "execution_count": 62,
   "metadata": {
    "collapsed": true
   },
   "outputs": [],
   "source": [
    "plt.savefig('grafica2', format='png')"
   ]
  },
  {
   "cell_type": "code",
   "execution_count": null,
   "metadata": {
    "collapsed": true
   },
   "outputs": [],
   "source": []
  }
 ],
 "metadata": {
  "kernelspec": {
   "display_name": "Python 2",
   "language": "python",
   "name": "python2"
  },
  "language_info": {
   "codemirror_mode": {
    "name": "ipython",
    "version": 2
   },
   "file_extension": ".py",
   "mimetype": "text/x-python",
   "name": "python",
   "nbconvert_exporter": "python",
   "pygments_lexer": "ipython2",
   "version": "2.7.10"
  }
 },
 "nbformat": 4,
 "nbformat_minor": 2
}
