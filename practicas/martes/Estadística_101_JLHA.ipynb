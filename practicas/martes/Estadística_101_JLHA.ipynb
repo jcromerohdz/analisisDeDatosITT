{
 "cells": [
  {
   "cell_type": "markdown",
   "metadata": {},
   "source": [
    "# Media, Mediana, Moda"
   ]
  },
  {
   "cell_type": "markdown",
   "metadata": {},
   "source": [
    "Crear datos de ingresos falsos, centrados alrededor de 27,000 con distribución normal y una desviación estándar de 15,000 con 10,000 puntos de datos. Después calculamos la media(promedio) lo cuál debe ser cercano a 27,000."
   ]
  },
  {
   "cell_type": "code",
   "execution_count": 58,
   "metadata": {
    "collapsed": true
   },
   "outputs": [],
   "source": [
    "import numpy as np"
   ]
  },
  {
   "cell_type": "code",
   "execution_count": 59,
   "metadata": {
    "collapsed": false
   },
   "outputs": [
    {
     "data": {
      "text/plain": [
       "26821.948886640901"
      ]
     },
     "execution_count": 59,
     "metadata": {},
     "output_type": "execute_result"
    }
   ],
   "source": [
    "ingresos = np.random.normal(27000,15000,10000)\n",
    "np.mean(ingresos)"
   ]
  },
  {
   "cell_type": "markdown",
   "metadata": {},
   "source": [
    "Agregando un ingreso atípico = 1000000"
   ]
  },
  {
   "cell_type": "code",
   "execution_count": 60,
   "metadata": {
    "collapsed": true
   },
   "outputs": [],
   "source": [
    "ingresos = np.append(ingresos,[1000000000])"
   ]
  },
  {
   "cell_type": "markdown",
   "metadata": {},
   "source": [
    "La media se sesga en:"
   ]
  },
  {
   "cell_type": "code",
   "execution_count": 61,
   "metadata": {
    "collapsed": false
   },
   "outputs": [
    {
     "data": {
      "text/plain": [
       "126809.26795984492"
      ]
     },
     "execution_count": 61,
     "metadata": {},
     "output_type": "execute_result"
    }
   ],
   "source": [
    "np.mean(ingresos)"
   ]
  },
  {
   "cell_type": "markdown",
   "metadata": {},
   "source": [
    "Pero la mediana no se ve afectada."
   ]
  },
  {
   "cell_type": "code",
   "execution_count": 62,
   "metadata": {
    "collapsed": false
   },
   "outputs": [
    {
     "data": {
      "text/plain": [
       "26644.554179357976"
      ]
     },
     "execution_count": 62,
     "metadata": {},
     "output_type": "execute_result"
    }
   ],
   "source": [
    "np.median(ingresos)"
   ]
  },
  {
   "cell_type": "markdown",
   "metadata": {},
   "source": [
    "Generando edades falsas par 500 personas"
   ]
  },
  {
   "cell_type": "code",
   "execution_count": 63,
   "metadata": {
    "collapsed": true
   },
   "outputs": [],
   "source": [
    "edades = np.random.randint(18, high=90, size=500)"
   ]
  },
  {
   "cell_type": "code",
   "execution_count": 64,
   "metadata": {
    "collapsed": false
   },
   "outputs": [
    {
     "data": {
      "text/plain": [
       "array([41, 72, 82, 58, 20, 23, 42, 50, 50, 39, 62, 21, 81, 27, 71, 36, 89,\n",
       "       66, 77, 70, 38, 61, 20, 26, 73, 29, 51, 33, 25, 23, 67, 61, 65, 62,\n",
       "       41, 46, 38, 88, 66, 68, 48, 37, 24, 69, 30, 72, 60, 46, 87, 71, 61,\n",
       "       72, 72, 32, 63, 82, 62, 67, 81, 72, 86, 28, 86, 53, 27, 88, 40, 49,\n",
       "       55, 18, 43, 89, 60, 87, 20, 40, 55, 72, 41, 21, 26, 30, 33, 24, 46,\n",
       "       61, 62, 71, 54, 64, 84, 36, 60, 89, 47, 88, 24, 67, 21, 71, 57, 45,\n",
       "       48, 49, 59, 70, 32, 21, 58, 26, 73, 46, 48, 77, 61, 25, 87, 21, 67,\n",
       "       74, 30, 53, 65, 72, 39, 20, 61, 25, 54, 77, 63, 19, 42, 47, 64, 31,\n",
       "       24, 66, 23, 76, 71, 45, 72, 45, 47, 84, 61, 81, 65, 71, 41, 43, 51,\n",
       "       19, 59, 27, 23, 44, 64, 82, 50, 74, 18, 70, 68, 81, 32, 68, 81, 44,\n",
       "       33, 23, 38, 50, 56, 22, 82, 89, 75, 36, 22, 22, 19, 53, 31, 19, 68,\n",
       "       59, 87, 82, 27, 87, 44, 61, 34, 24, 75, 67, 64, 87, 21, 61, 88, 89,\n",
       "       46, 29, 72, 62, 71, 42, 54, 85, 77, 78, 58, 36, 86, 83, 61, 85, 24,\n",
       "       70, 48, 42, 88, 40, 37, 69, 73, 88, 22, 84, 57, 65, 26, 56, 32, 29,\n",
       "       59, 81, 41, 44, 65, 87, 50, 43, 22, 52, 64, 33, 43, 23, 77, 54, 84,\n",
       "       36, 63, 70, 45, 49, 76, 36, 64, 47, 88, 39, 68, 62, 78, 69, 24, 88,\n",
       "       23, 80, 53, 64, 35, 19, 47, 60, 50, 38, 60, 70, 42, 72, 52, 82, 37,\n",
       "       89, 66, 39, 84, 78, 88, 54, 43, 41, 49, 43, 29, 85, 43, 40, 84, 78,\n",
       "       40, 65, 18, 57, 81, 54, 33, 28, 47, 35, 63, 79, 42, 22, 37, 43, 81,\n",
       "       79, 45, 44, 79, 33, 83, 18, 83, 45, 42, 43, 73, 89, 43, 46, 58, 66,\n",
       "       67, 22, 82, 19, 41, 62, 67, 42, 68, 28, 61, 48, 84, 55, 84, 60, 87,\n",
       "       80, 87, 71, 32, 77, 88, 50, 43, 30, 66, 83, 79, 46, 86, 48, 89, 60,\n",
       "       39, 51, 19, 72, 36, 28, 51, 31, 53, 41, 74, 38, 29, 30, 49, 54, 89,\n",
       "       30, 36, 55, 63, 80, 68, 29, 21, 49, 63, 43, 68, 39, 53, 34, 87, 23,\n",
       "       65, 73, 27, 76, 63, 87, 89, 82, 39, 29, 60, 79, 87, 40, 66, 67, 32,\n",
       "       82, 43, 75, 35, 71, 69, 66, 30, 53, 25, 54, 61, 89, 45, 75, 32, 88,\n",
       "       75, 28, 85, 56, 32, 31, 71, 85, 58, 57, 20, 50, 25, 25, 58, 88, 79,\n",
       "       71, 31, 33, 58, 75, 51, 62, 77, 88, 36, 23, 34, 62, 31, 65, 67, 55,\n",
       "       27, 57, 69, 33, 42, 23, 62, 55, 39, 39, 77, 87, 69, 59, 32, 56, 62,\n",
       "       84, 27, 80, 46, 84, 57, 78])"
      ]
     },
     "execution_count": 64,
     "metadata": {},
     "output_type": "execute_result"
    }
   ],
   "source": [
    "edades"
   ]
  },
  {
   "cell_type": "code",
   "execution_count": 65,
   "metadata": {
    "collapsed": true
   },
   "outputs": [],
   "source": [
    "from scipy import stats"
   ]
  },
  {
   "cell_type": "code",
   "execution_count": 66,
   "metadata": {
    "collapsed": false
   },
   "outputs": [
    {
     "data": {
      "text/plain": [
       "ModeResult(mode=array([43]), count=array([13]))"
      ]
     },
     "execution_count": 66,
     "metadata": {},
     "output_type": "execute_result"
    }
   ],
   "source": [
    "stats.mode(edades)"
   ]
  },
  {
   "cell_type": "markdown",
   "metadata": {},
   "source": [
    "Vamos a agregar un código de datos de comercio electrónico aleatorio; representan la cantidad total de gastos por transacción."
   ]
  },
  {
   "cell_type": "code",
   "execution_count": 67,
   "metadata": {
    "collapsed": true
   },
   "outputs": [],
   "source": [
    "import matplotlib.pyplot as plt"
   ]
  },
  {
   "cell_type": "code",
   "execution_count": 68,
   "metadata": {
    "collapsed": false
   },
   "outputs": [
    {
     "data": {
      "text/plain": [
       "(array([   1.,    0.,    0.,    2.,    3.,    6.,    8.,   14.,   12.,\n",
       "          30.,   40.,   52.,   71.,  100.,  150.,  187.,  222.,  285.,\n",
       "         336.,  361.,  475.,  522.,  531.,  568.,  635.,  614.,  620.,\n",
       "         607.,  607.,  484.,  466.,  414.,  371.,  300.,  218.,  160.,\n",
       "         159.,  122.,   65.,   59.,   41.,   31.,   17.,   13.,   13.,\n",
       "           4.,    2.,    1.,    0.,    1.]),\n",
       " array([  19.05369603,   22.22708553,   25.40047503,   28.57386453,\n",
       "          31.74725402,   34.92064352,   38.09403302,   41.26742252,\n",
       "          44.44081202,   47.61420151,   50.78759101,   53.96098051,\n",
       "          57.13437001,   60.30775951,   63.48114901,   66.6545385 ,\n",
       "          69.827928  ,   73.0013175 ,   76.174707  ,   79.3480965 ,\n",
       "          82.521486  ,   85.69487549,   88.86826499,   92.04165449,\n",
       "          95.21504399,   98.38843349,  101.56182298,  104.73521248,\n",
       "         107.90860198,  111.08199148,  114.25538098,  117.42877048,\n",
       "         120.60215997,  123.77554947,  126.94893897,  130.12232847,\n",
       "         133.29571797,  136.46910747,  139.64249696,  142.81588646,\n",
       "         145.98927596,  149.16266546,  152.33605496,  155.50944446,\n",
       "         158.68283395,  161.85622345,  165.02961295,  168.20300245,\n",
       "         171.37639195,  174.54978144,  177.72317094]),\n",
       " <a list of 50 Patch objects>)"
      ]
     },
     "execution_count": 68,
     "metadata": {},
     "output_type": "execute_result"
    }
   ],
   "source": [
    "gastos = np.random.normal(100.0,20,10000)\n",
    "plt.hist(gastos,50)"
   ]
  },
  {
   "cell_type": "markdown",
   "metadata": {},
   "source": [
    "Generar datos aleatorios, calcular media, mediana, agregar un outlier y recalcular media y mediana."
   ]
  },
  {
   "cell_type": "code",
   "execution_count": 69,
   "metadata": {
    "collapsed": true
   },
   "outputs": [],
   "source": [
    "datos = np.random.normal(520,60,600)"
   ]
  },
  {
   "cell_type": "code",
   "execution_count": 70,
   "metadata": {
    "collapsed": false
   },
   "outputs": [
    {
     "name": "stdout",
     "output_type": "stream",
     "text": [
      "522.66704492\n"
     ]
    }
   ],
   "source": [
    "X = np.mean(datos)\n",
    "print X"
   ]
  },
  {
   "cell_type": "code",
   "execution_count": 71,
   "metadata": {
    "collapsed": false
   },
   "outputs": [
    {
     "name": "stdout",
     "output_type": "stream",
     "text": [
      "520.221243854\n"
     ]
    }
   ],
   "source": [
    "Y=np.median(datos)\n",
    "print Y"
   ]
  },
  {
   "cell_type": "code",
   "execution_count": 72,
   "metadata": {
    "collapsed": false
   },
   "outputs": [
    {
     "data": {
      "text/plain": [
       "array([  4.19744940e+02,   5.23954437e+02,   5.93335396e+02,\n",
       "         4.95438147e+02,   5.14666997e+02,   4.54125861e+02,\n",
       "         4.88929733e+02,   4.56045353e+02,   6.28700906e+02,\n",
       "         5.53309752e+02,   4.87910895e+02,   4.94361519e+02,\n",
       "         6.33352881e+02,   5.07086531e+02,   4.98442895e+02,\n",
       "         4.65922666e+02,   4.59398503e+02,   4.57493991e+02,\n",
       "         5.09591820e+02,   4.74175132e+02,   5.26719135e+02,\n",
       "         5.40445863e+02,   4.72078476e+02,   5.98609757e+02,\n",
       "         5.21359320e+02,   5.38130117e+02,   5.97044293e+02,\n",
       "         4.61715813e+02,   5.54823339e+02,   4.79278796e+02,\n",
       "         5.20552738e+02,   5.17934421e+02,   6.06485690e+02,\n",
       "         4.49196693e+02,   4.92767675e+02,   5.53962373e+02,\n",
       "         5.58742571e+02,   5.46769900e+02,   5.49405635e+02,\n",
       "         4.68845509e+02,   5.36674534e+02,   4.79428571e+02,\n",
       "         5.99780128e+02,   5.23959702e+02,   5.15207776e+02,\n",
       "         5.63133838e+02,   5.26711841e+02,   6.69826530e+02,\n",
       "         5.16973702e+02,   5.80928918e+02,   6.22865204e+02,\n",
       "         4.90956252e+02,   5.69765635e+02,   5.69473035e+02,\n",
       "         4.87163513e+02,   5.19100302e+02,   5.70775840e+02,\n",
       "         5.90335726e+02,   4.53534240e+02,   4.73153709e+02,\n",
       "         6.17228187e+02,   5.18327911e+02,   5.41757216e+02,\n",
       "         5.53224328e+02,   4.77969442e+02,   5.12141852e+02,\n",
       "         6.39878552e+02,   6.34262294e+02,   4.97751849e+02,\n",
       "         5.93729357e+02,   5.55626333e+02,   5.29568168e+02,\n",
       "         4.73110722e+02,   5.28419500e+02,   5.57043018e+02,\n",
       "         4.47694122e+02,   5.14793382e+02,   5.37606549e+02,\n",
       "         5.59400433e+02,   5.58687355e+02,   4.95612672e+02,\n",
       "         4.77806309e+02,   5.57629915e+02,   5.39326473e+02,\n",
       "         4.48187320e+02,   5.50531564e+02,   4.99366929e+02,\n",
       "         4.81445772e+02,   4.45295995e+02,   4.74315308e+02,\n",
       "         5.57444630e+02,   5.42794988e+02,   4.59544983e+02,\n",
       "         4.71704899e+02,   4.47193065e+02,   4.74394268e+02,\n",
       "         5.33985009e+02,   6.71861383e+02,   5.32939492e+02,\n",
       "         5.02458631e+02,   4.59388913e+02,   4.56345067e+02,\n",
       "         5.07535615e+02,   5.20789148e+02,   4.22932710e+02,\n",
       "         5.42177574e+02,   5.43539699e+02,   5.37495597e+02,\n",
       "         5.05353711e+02,   5.02444907e+02,   5.26667297e+02,\n",
       "         5.62805395e+02,   4.32542353e+02,   4.77236469e+02,\n",
       "         4.25658725e+02,   5.74889902e+02,   5.66630683e+02,\n",
       "         5.03532751e+02,   5.82178405e+02,   4.71232238e+02,\n",
       "         5.00946545e+02,   6.26296406e+02,   5.40411445e+02,\n",
       "         5.35044865e+02,   6.50123348e+02,   5.61229837e+02,\n",
       "         6.05471198e+02,   4.56637203e+02,   6.03501790e+02,\n",
       "         5.88368608e+02,   6.18184886e+02,   4.91450307e+02,\n",
       "         4.38715076e+02,   6.02138375e+02,   4.40692932e+02,\n",
       "         5.10114428e+02,   5.47053389e+02,   4.70677866e+02,\n",
       "         4.82881819e+02,   5.21561752e+02,   4.86664447e+02,\n",
       "         4.80873624e+02,   5.43735500e+02,   4.79684436e+02,\n",
       "         5.72505104e+02,   5.10360495e+02,   5.27834361e+02,\n",
       "         5.61237646e+02,   5.28151994e+02,   4.63410461e+02,\n",
       "         4.67021604e+02,   4.96561155e+02,   4.92442825e+02,\n",
       "         6.44975584e+02,   3.69621794e+02,   4.49339392e+02,\n",
       "         5.26984657e+02,   4.50265170e+02,   5.69559199e+02,\n",
       "         4.84312568e+02,   4.76703590e+02,   4.67657715e+02,\n",
       "         5.06816627e+02,   5.83363739e+02,   5.00599692e+02,\n",
       "         5.27526193e+02,   5.47895092e+02,   5.24704584e+02,\n",
       "         6.25644875e+02,   5.33340292e+02,   5.51849729e+02,\n",
       "         4.54140828e+02,   6.10118112e+02,   4.25846757e+02,\n",
       "         5.35625209e+02,   5.35588379e+02,   5.15918651e+02,\n",
       "         3.73597831e+02,   5.36319035e+02,   4.69650150e+02,\n",
       "         5.05706643e+02,   4.73064352e+02,   6.44870911e+02,\n",
       "         5.68008330e+02,   4.76599206e+02,   5.49205767e+02,\n",
       "         4.91999198e+02,   5.33079101e+02,   5.55013706e+02,\n",
       "         3.92693763e+02,   4.93148226e+02,   5.32171884e+02,\n",
       "         5.45000184e+02,   5.03114822e+02,   6.03264850e+02,\n",
       "         5.07043390e+02,   4.93264316e+02,   3.75622180e+02,\n",
       "         6.18201154e+02,   5.12707751e+02,   6.21795636e+02,\n",
       "         6.61464086e+02,   6.07277859e+02,   4.88790145e+02,\n",
       "         3.84206353e+02,   5.44530703e+02,   4.17846483e+02,\n",
       "         5.60012723e+02,   5.12812780e+02,   5.12767225e+02,\n",
       "         4.08941961e+02,   5.20037889e+02,   4.72978136e+02,\n",
       "         4.77682530e+02,   5.28218274e+02,   4.23658599e+02,\n",
       "         6.41984951e+02,   6.01838042e+02,   4.82563508e+02,\n",
       "         4.83009696e+02,   5.29784400e+02,   5.74657042e+02,\n",
       "         4.77669686e+02,   4.40152713e+02,   4.29918074e+02,\n",
       "         5.35756479e+02,   4.58374098e+02,   4.37602679e+02,\n",
       "         5.01448150e+02,   5.22220090e+02,   4.46471787e+02,\n",
       "         5.10362178e+02,   4.16210491e+02,   6.06826559e+02,\n",
       "         6.22872482e+02,   5.40875429e+02,   4.49374948e+02,\n",
       "         4.81093061e+02,   5.48653218e+02,   5.41006752e+02,\n",
       "         5.78438359e+02,   7.12499975e+02,   5.71717094e+02,\n",
       "         4.63628935e+02,   5.26113773e+02,   5.27844070e+02,\n",
       "         6.29082021e+02,   5.81622009e+02,   4.50454135e+02,\n",
       "         5.37445693e+02,   5.12636528e+02,   6.08158922e+02,\n",
       "         5.34736578e+02,   3.97161492e+02,   4.38825243e+02,\n",
       "         5.61049595e+02,   4.99204815e+02,   5.22237795e+02,\n",
       "         5.11456373e+02,   6.65559035e+02,   4.34812438e+02,\n",
       "         5.38854780e+02,   4.57791163e+02,   5.98157094e+02,\n",
       "         4.88766694e+02,   5.26801576e+02,   4.86400795e+02,\n",
       "         5.15197525e+02,   4.90733745e+02,   5.94771053e+02,\n",
       "         5.01518493e+02,   6.13627099e+02,   5.48303945e+02,\n",
       "         5.30501009e+02,   5.84663246e+02,   5.54643651e+02,\n",
       "         5.09642135e+02,   5.50379271e+02,   5.48833586e+02,\n",
       "         3.94102626e+02,   4.72130388e+02,   4.97663546e+02,\n",
       "         6.28529989e+02,   4.89330042e+02,   4.95478392e+02,\n",
       "         5.56123668e+02,   5.18706011e+02,   4.69637563e+02,\n",
       "         5.72103747e+02,   4.39214756e+02,   5.66951737e+02,\n",
       "         5.04291298e+02,   5.91959148e+02,   5.28435016e+02,\n",
       "         4.22239661e+02,   5.49823786e+02,   4.77206522e+02,\n",
       "         6.39704252e+02,   4.66215426e+02,   4.75722251e+02,\n",
       "         5.00824430e+02,   4.38274497e+02,   6.54687902e+02,\n",
       "         5.29168081e+02,   5.80864696e+02,   5.18527191e+02,\n",
       "         5.73564483e+02,   5.07897893e+02,   5.32713909e+02,\n",
       "         5.46718919e+02,   5.25676316e+02,   6.08882891e+02,\n",
       "         4.90595584e+02,   4.14649632e+02,   4.94898765e+02,\n",
       "         4.77737666e+02,   6.24734969e+02,   4.48299429e+02,\n",
       "         5.43570553e+02,   4.77821267e+02,   5.98805479e+02,\n",
       "         4.87397676e+02,   3.37979277e+02,   5.44828739e+02,\n",
       "         5.80690807e+02,   4.91587442e+02,   4.84204606e+02,\n",
       "         5.99538266e+02,   5.25994928e+02,   6.73355023e+02,\n",
       "         3.98732671e+02,   6.15238652e+02,   6.05459830e+02,\n",
       "         5.96448331e+02,   4.01601952e+02,   5.66092188e+02,\n",
       "         5.99929498e+02,   5.48501708e+02,   5.60474459e+02,\n",
       "         4.57435254e+02,   6.04369533e+02,   5.78908778e+02,\n",
       "         4.93398587e+02,   5.71979576e+02,   5.31562230e+02,\n",
       "         4.97374205e+02,   5.41052847e+02,   6.12691546e+02,\n",
       "         6.22884801e+02,   4.25019156e+02,   5.31631083e+02,\n",
       "         5.96176020e+02,   6.26516414e+02,   5.69944399e+02,\n",
       "         4.87133397e+02,   5.95027611e+02,   5.60385746e+02,\n",
       "         4.47959376e+02,   5.97807404e+02,   4.88786543e+02,\n",
       "         5.06514640e+02,   5.07159670e+02,   4.73085934e+02,\n",
       "         5.36851063e+02,   4.94793460e+02,   4.92637227e+02,\n",
       "         5.61414576e+02,   5.08562527e+02,   4.95443628e+02,\n",
       "         6.41053890e+02,   4.45828139e+02,   5.17441372e+02,\n",
       "         5.76383624e+02,   5.76949858e+02,   5.04719804e+02,\n",
       "         4.34712559e+02,   5.36621382e+02,   5.81232972e+02,\n",
       "         4.10249075e+02,   5.48671624e+02,   4.42688805e+02,\n",
       "         5.43432440e+02,   5.34999463e+02,   3.76722802e+02,\n",
       "         5.78476289e+02,   4.96132853e+02,   4.54147529e+02,\n",
       "         5.87807697e+02,   4.99687378e+02,   4.65890134e+02,\n",
       "         4.85587315e+02,   5.73698899e+02,   5.16000558e+02,\n",
       "         4.99523824e+02,   6.03592074e+02,   5.87851910e+02,\n",
       "         4.95070180e+02,   4.71007054e+02,   5.89699451e+02,\n",
       "         4.97025350e+02,   4.66120035e+02,   6.04745498e+02,\n",
       "         5.19258805e+02,   5.87178032e+02,   4.98509505e+02,\n",
       "         5.24033811e+02,   4.77509817e+02,   5.02952354e+02,\n",
       "         5.46965608e+02,   6.38904918e+02,   5.46432345e+02,\n",
       "         4.44484268e+02,   4.18020100e+02,   4.94574038e+02,\n",
       "         4.84753174e+02,   5.09862400e+02,   4.30029935e+02,\n",
       "         4.95944303e+02,   6.34050434e+02,   6.09270959e+02,\n",
       "         5.13314630e+02,   4.62664342e+02,   5.79819431e+02,\n",
       "         4.14181547e+02,   5.22741382e+02,   5.86875806e+02,\n",
       "         4.99485110e+02,   4.84751361e+02,   5.47312026e+02,\n",
       "         4.65295226e+02,   5.06675753e+02,   4.99583213e+02,\n",
       "         5.57724778e+02,   6.44642101e+02,   5.30850051e+02,\n",
       "         4.60168105e+02,   5.59184139e+02,   5.74845040e+02,\n",
       "         4.44913165e+02,   4.90999910e+02,   4.91030174e+02,\n",
       "         6.09400696e+02,   5.70274026e+02,   5.39542529e+02,\n",
       "         5.58439980e+02,   6.18720063e+02,   5.93391719e+02,\n",
       "         6.38037676e+02,   5.93380247e+02,   4.39455049e+02,\n",
       "         4.18988478e+02,   5.36992473e+02,   5.07766202e+02,\n",
       "         5.23675434e+02,   4.81609259e+02,   5.10981196e+02,\n",
       "         5.08328050e+02,   4.75635968e+02,   5.44728807e+02,\n",
       "         5.00457782e+02,   5.37129941e+02,   5.52893679e+02,\n",
       "         5.42262862e+02,   5.66064562e+02,   5.32864173e+02,\n",
       "         4.37015636e+02,   4.59405678e+02,   5.03237678e+02,\n",
       "         6.52016032e+02,   5.27786359e+02,   4.46297335e+02,\n",
       "         5.97516665e+02,   5.34725900e+02,   5.12964467e+02,\n",
       "         4.03869812e+02,   5.86552491e+02,   4.89129166e+02,\n",
       "         5.69126297e+02,   5.21922323e+02,   4.73850209e+02,\n",
       "         5.62501477e+02,   5.77600029e+02,   5.12331056e+02,\n",
       "         5.87922643e+02,   4.10763446e+02,   4.68610618e+02,\n",
       "         5.99411017e+02,   4.77209054e+02,   5.34843876e+02,\n",
       "         4.82172707e+02,   6.54107733e+02,   5.85113745e+02,\n",
       "         4.99209153e+02,   4.73265234e+02,   4.85812879e+02,\n",
       "         5.15744698e+02,   5.33782715e+02,   5.87205268e+02,\n",
       "         5.59203343e+02,   4.98116154e+02,   4.70856776e+02,\n",
       "         5.58606944e+02,   5.74083588e+02,   4.89843638e+02,\n",
       "         5.89290844e+02,   6.31161464e+02,   5.35673395e+02,\n",
       "         4.29690376e+02,   6.00306713e+02,   5.41285883e+02,\n",
       "         5.77983629e+02,   5.73340975e+02,   6.59266227e+02,\n",
       "         5.72901885e+02,   4.05237295e+02,   5.15962546e+02,\n",
       "         4.25346753e+02,   6.06154135e+02,   5.02075835e+02,\n",
       "         4.73358445e+02,   4.49821039e+02,   5.05706518e+02,\n",
       "         4.84711845e+02,   5.94113128e+02,   6.65981457e+02,\n",
       "         5.89208096e+02,   5.77059597e+02,   4.98277436e+02,\n",
       "         3.85975604e+02,   6.13450512e+02,   5.00932400e+02,\n",
       "         5.12308144e+02,   4.74715015e+02,   5.42142838e+02,\n",
       "         4.42050765e+02,   5.81979609e+02,   5.46301488e+02,\n",
       "         4.36075859e+02,   4.77232779e+02,   5.18382785e+02,\n",
       "         5.16371182e+02,   5.94734775e+02,   4.30881721e+02,\n",
       "         4.50179209e+02,   4.76336628e+02,   4.39838721e+02,\n",
       "         4.57278932e+02,   5.69388134e+02,   4.45100810e+02,\n",
       "         5.31199617e+02,   4.84522754e+02,   5.55415483e+02,\n",
       "         5.00652117e+02,   5.20404599e+02,   5.88447073e+02,\n",
       "         6.30845954e+02,   5.53866802e+02,   3.86504896e+02,\n",
       "         5.10282951e+02,   4.77196828e+02,   4.92390751e+02,\n",
       "         5.49237214e+02,   5.03234017e+02,   5.62002193e+02,\n",
       "         6.09949174e+02,   4.94961703e+02,   4.70910046e+02,\n",
       "         5.44120358e+02,   5.31475901e+02,   5.20697631e+02,\n",
       "         5.06436277e+02,   5.11720052e+02,   5.93653235e+02,\n",
       "         4.84476193e+02,   5.49765307e+02,   4.48941221e+02,\n",
       "         4.91593036e+02,   5.33818612e+02,   5.40694592e+02,\n",
       "         6.21625416e+02,   5.40817815e+02,   5.29918605e+02,\n",
       "         5.35076085e+02,   4.59965997e+02,   5.34227515e+02,\n",
       "         5.39087934e+02,   5.84244144e+02,   5.15222904e+02,\n",
       "         4.89026150e+02,   5.41322420e+02,   5.02504885e+02,\n",
       "         5.21898881e+02,   4.67109937e+02,   4.54903124e+02,\n",
       "         4.54076511e+02,   5.15502957e+02,   4.73489297e+02,\n",
       "         5.38208802e+02,   4.71203249e+02,   5.14644700e+02,\n",
       "         1.70000070e+09])"
      ]
     },
     "execution_count": 72,
     "metadata": {},
     "output_type": "execute_result"
    }
   ],
   "source": [
    "np.append(datos,[1700000700])"
   ]
  },
  {
   "cell_type": "code",
   "execution_count": 73,
   "metadata": {
    "collapsed": false
   },
   "outputs": [
    {
     "data": {
      "text/plain": [
       "520.22124385419306"
      ]
     },
     "execution_count": 73,
     "metadata": {},
     "output_type": "execute_result"
    }
   ],
   "source": [
    "np.median(datos)"
   ]
  },
  {
   "cell_type": "code",
   "execution_count": 74,
   "metadata": {
    "collapsed": false
   },
   "outputs": [
    {
     "data": {
      "text/plain": [
       "522.66704492047893"
      ]
     },
     "execution_count": 74,
     "metadata": {},
     "output_type": "execute_result"
    }
   ],
   "source": [
    "np.mean(datos)"
   ]
  },
  {
   "cell_type": "markdown",
   "metadata": {
    "collapsed": true
   },
   "source": [
    "Ejemplos con distribuciones de datos.\n",
    "Distribución uniforme\n",
    "   "
   ]
  },
  {
   "cell_type": "code",
   "execution_count": 75,
   "metadata": {
    "collapsed": true
   },
   "outputs": [],
   "source": [
    "valores = np.random.uniform(-10,10,100000)"
   ]
  },
  {
   "cell_type": "code",
   "execution_count": 76,
   "metadata": {
    "collapsed": false
   },
   "outputs": [
    {
     "data": {
      "text/plain": [
       "(array([ 2098.,  1999.,  1993.,  1962.,  1959.,  2007.,  2023.,  2060.,\n",
       "         2036.,  2049.,  1977.,  1990.,  2003.,  2049.,  1915.,  1951.,\n",
       "         2005.,  1985.,  2058.,  2000.,  1918.,  1881.,  2056.,  1873.,\n",
       "         1941.,  1970.,  2012.,  1963.,  2096.,  2155.,  2030.,  1987.,\n",
       "         1998.,  2030.,  2006.,  1992.,  1951.,  2012.,  1941.,  2002.,\n",
       "         1980.,  2022.,  1937.,  2017.,  1969.,  2016.,  2082.,  2010.,\n",
       "         2010.,  2024.]),\n",
       " array([ -9.99988463e+00,  -9.59988863e+00,  -9.19989263e+00,\n",
       "         -8.79989662e+00,  -8.39990062e+00,  -7.99990462e+00,\n",
       "         -7.59990861e+00,  -7.19991261e+00,  -6.79991661e+00,\n",
       "         -6.39992060e+00,  -5.99992460e+00,  -5.59992860e+00,\n",
       "         -5.19993259e+00,  -4.79993659e+00,  -4.39994059e+00,\n",
       "         -3.99994458e+00,  -3.59994858e+00,  -3.19995258e+00,\n",
       "         -2.79995657e+00,  -2.39996057e+00,  -1.99996457e+00,\n",
       "         -1.59996856e+00,  -1.19997256e+00,  -7.99976557e-01,\n",
       "         -3.99980553e-01,   1.54500840e-05,   4.00011453e-01,\n",
       "          8.00007457e-01,   1.20000346e+00,   1.59999946e+00,\n",
       "          1.99999547e+00,   2.39999147e+00,   2.79998747e+00,\n",
       "          3.19998348e+00,   3.59997948e+00,   3.99997548e+00,\n",
       "          4.39997149e+00,   4.79996749e+00,   5.19996349e+00,\n",
       "          5.59995950e+00,   5.99995550e+00,   6.39995150e+00,\n",
       "          6.79994751e+00,   7.19994351e+00,   7.59993951e+00,\n",
       "          7.99993552e+00,   8.39993152e+00,   8.79992752e+00,\n",
       "          9.19992353e+00,   9.59991953e+00,   9.99991553e+00]),\n",
       " <a list of 50 Patch objects>)"
      ]
     },
     "execution_count": 76,
     "metadata": {},
     "output_type": "execute_result"
    }
   ],
   "source": [
    "plt.hist(valores,50)"
   ]
  },
  {
   "cell_type": "code",
   "execution_count": 77,
   "metadata": {
    "collapsed": true
   },
   "outputs": [],
   "source": [
    "import matplotlib.pyplot as plt"
   ]
  },
  {
   "cell_type": "code",
   "execution_count": 78,
   "metadata": {
    "collapsed": true
   },
   "outputs": [],
   "source": [
    "from scipy.stats import norm"
   ]
  },
  {
   "cell_type": "code",
   "execution_count": 79,
   "metadata": {
    "collapsed": true
   },
   "outputs": [],
   "source": [
    "x = np.arange(-3,3,0.001)"
   ]
  },
  {
   "cell_type": "code",
   "execution_count": 80,
   "metadata": {
    "collapsed": false
   },
   "outputs": [
    {
     "data": {
      "text/plain": [
       "[<matplotlib.lines.Line2D at 0x7ff83fee6490>]"
      ]
     },
     "execution_count": 80,
     "metadata": {},
     "output_type": "execute_result"
    }
   ],
   "source": [
    "plt.plot(x, norm.pdf(x))"
   ]
  },
  {
   "cell_type": "markdown",
   "metadata": {},
   "source": [
    "Distribución exponencial"
   ]
  },
  {
   "cell_type": "code",
   "execution_count": 81,
   "metadata": {
    "collapsed": true
   },
   "outputs": [],
   "source": [
    "from scipy.stats import expon"
   ]
  },
  {
   "cell_type": "code",
   "execution_count": 82,
   "metadata": {
    "collapsed": true
   },
   "outputs": [],
   "source": [
    "import matplotlib.pyplot as plt"
   ]
  },
  {
   "cell_type": "code",
   "execution_count": 83,
   "metadata": {
    "collapsed": true
   },
   "outputs": [],
   "source": [
    "x1 = np.arange(0,10,.001)"
   ]
  },
  {
   "cell_type": "code",
   "execution_count": 84,
   "metadata": {
    "collapsed": false
   },
   "outputs": [
    {
     "data": {
      "text/plain": [
       "[<matplotlib.lines.Line2D at 0x7ff84026be50>]"
      ]
     },
     "execution_count": 84,
     "metadata": {},
     "output_type": "execute_result"
    }
   ],
   "source": [
    "plt.plot(x1, expon.pdf(x1))"
   ]
  },
  {
   "cell_type": "markdown",
   "metadata": {},
   "source": [
    "Distribución binomial"
   ]
  },
  {
   "cell_type": "code",
   "execution_count": 85,
   "metadata": {
    "collapsed": true
   },
   "outputs": [],
   "source": [
    "from scipy.stats import binom"
   ]
  },
  {
   "cell_type": "code",
   "execution_count": 86,
   "metadata": {
    "collapsed": true
   },
   "outputs": [],
   "source": [
    "n,p = 10,0.5"
   ]
  },
  {
   "cell_type": "code",
   "execution_count": 87,
   "metadata": {
    "collapsed": false
   },
   "outputs": [
    {
     "data": {
      "text/plain": [
       "[<matplotlib.lines.Line2D at 0x7ff84026bf10>]"
      ]
     },
     "execution_count": 87,
     "metadata": {},
     "output_type": "execute_result"
    }
   ],
   "source": [
    "plt.plot(x1, binom.pmf(x1,n,p))"
   ]
  },
  {
   "cell_type": "markdown",
   "metadata": {},
   "source": [
    "Distribución de Poisson "
   ]
  },
  {
   "cell_type": "code",
   "execution_count": 88,
   "metadata": {
    "collapsed": true
   },
   "outputs": [],
   "source": [
    "from scipy.stats import poisson"
   ]
  },
  {
   "cell_type": "code",
   "execution_count": 89,
   "metadata": {
    "collapsed": true
   },
   "outputs": [],
   "source": [
    "x = np.arange(100,600,0.5)"
   ]
  },
  {
   "cell_type": "code",
   "execution_count": 90,
   "metadata": {
    "collapsed": true
   },
   "outputs": [],
   "source": [
    "mu = 500"
   ]
  },
  {
   "cell_type": "code",
   "execution_count": 91,
   "metadata": {
    "collapsed": false
   },
   "outputs": [
    {
     "data": {
      "text/plain": [
       "[<matplotlib.lines.Line2D at 0x7ff83fca1b10>]"
      ]
     },
     "execution_count": 91,
     "metadata": {},
     "output_type": "execute_result"
    }
   ],
   "source": [
    "plt.plot(x,poisson.pmf(x,mu))"
   ]
  },
  {
   "cell_type": "code",
   "execution_count": 92,
   "metadata": {
    "collapsed": true
   },
   "outputs": [],
   "source": [
    "plt.savefig('figura.png')"
   ]
  },
  {
   "cell_type": "code",
   "execution_count": 93,
   "metadata": {
    "collapsed": true
   },
   "outputs": [],
   "source": [
    "plt.show()"
   ]
  },
  {
   "cell_type": "markdown",
   "metadata": {},
   "source": [
    "## Visualización de datos."
   ]
  },
  {
   "cell_type": "code",
   "execution_count": 94,
   "metadata": {
    "collapsed": false
   },
   "outputs": [],
   "source": [
    "import numpy as np"
   ]
  },
  {
   "cell_type": "code",
   "execution_count": 95,
   "metadata": {
    "collapsed": true
   },
   "outputs": [],
   "source": [
    "import matplotlib.pyplot as plt"
   ]
  },
  {
   "cell_type": "code",
   "execution_count": 96,
   "metadata": {
    "collapsed": true
   },
   "outputs": [],
   "source": [
    "n = np.random.uniform(-1,1,100)"
   ]
  },
  {
   "cell_type": "code",
   "execution_count": 97,
   "metadata": {
    "collapsed": false,
    "scrolled": true
   },
   "outputs": [],
   "source": [
    "m = np.random.uniform(-1,1,100)"
   ]
  },
  {
   "cell_type": "code",
   "execution_count": 98,
   "metadata": {
    "collapsed": false
   },
   "outputs": [
    {
     "data": {
      "text/plain": [
       "<matplotlib.axes._subplots.AxesSubplot at 0x7ff8468419d0>"
      ]
     },
     "execution_count": 98,
     "metadata": {},
     "output_type": "execute_result"
    }
   ],
   "source": [
    "plt.subplot(2,2,1)"
   ]
  },
  {
   "cell_type": "code",
   "execution_count": 99,
   "metadata": {
    "collapsed": false
   },
   "outputs": [
    {
     "data": {
      "text/plain": [
       "<matplotlib.legend.Legend at 0x7ff83fa92d50>"
      ]
     },
     "execution_count": 99,
     "metadata": {},
     "output_type": "execute_result"
    }
   ],
   "source": [
    "plt.plot(n, marker='x', color='r', label = 'g(x)')\n",
    "plt.legend()"
   ]
  },
  {
   "cell_type": "code",
   "execution_count": 100,
   "metadata": {
    "collapsed": false
   },
   "outputs": [
    {
     "data": {
      "text/plain": [
       "<matplotlib.legend.Legend at 0x7ff83faa93d0>"
      ]
     },
     "execution_count": 100,
     "metadata": {},
     "output_type": "execute_result"
    }
   ],
   "source": [
    "plt.plot(m, marker='o', color='g', label = 'f(x)')\n",
    "plt.legend()"
   ]
  },
  {
   "cell_type": "raw",
   "metadata": {},
   "source": [
    "plt.xlabel('Tiempo')\n",
    "plt.ylabel('Tipo de Cambio')\n",
    "plt.title('Tipo de Cambio Dolar (Histórico)')\n"
   ]
  },
  {
   "cell_type": "markdown",
   "metadata": {
    "collapsed": true
   },
   "source": [
    "Diagrama de dispersión."
   ]
  },
  {
   "cell_type": "code",
   "execution_count": 101,
   "metadata": {
    "collapsed": false
   },
   "outputs": [
    {
     "data": {
      "text/plain": [
       "<matplotlib.collections.PathCollection at 0x7ff83fab82d0>"
      ]
     },
     "execution_count": 101,
     "metadata": {},
     "output_type": "execute_result"
    }
   ],
   "source": [
    "plt.subplot(2,2,2)\n",
    "plt.scatter(n,m)"
   ]
  },
  {
   "cell_type": "markdown",
   "metadata": {},
   "source": [
    "Diagrama de pastel (Pie Chart)"
   ]
  },
  {
   "cell_type": "code",
   "execution_count": 102,
   "metadata": {
    "collapsed": false
   },
   "outputs": [
    {
     "data": {
      "text/plain": [
       "([<matplotlib.patches.Wedge at 0x7ff83fabe350>,\n",
       "  <matplotlib.patches.Wedge at 0x7ff83f93ed10>,\n",
       "  <matplotlib.patches.Wedge at 0x7ff83f957050>,\n",
       "  <matplotlib.patches.Wedge at 0x7ff83f965350>],\n",
       " [<matplotlib.text.Text at 0x7ff83f93e410>,\n",
       "  <matplotlib.text.Text at 0x7ff83f94b790>,\n",
       "  <matplotlib.text.Text at 0x7ff83f957a90>,\n",
       "  <matplotlib.text.Text at 0x7ff83f965d90>],\n",
       " [<matplotlib.text.Text at 0x7ff83f93e8d0>,\n",
       "  <matplotlib.text.Text at 0x7ff83f94bbd0>,\n",
       "  <matplotlib.text.Text at 0x7ff83f957ed0>,\n",
       "  <matplotlib.text.Text at 0x7ff83f971210>])"
      ]
     },
     "execution_count": 102,
     "metadata": {},
     "output_type": "execute_result"
    }
   ],
   "source": [
    "labels = 'perros','gatos','pajaros','peces'\n",
    "sizes = [30,40,10,20]\n",
    "colors = ['red','green','lightblue','blue']\n",
    "explode = (0,0.1,0,0.1)\n",
    "plt.subplot(2,2,3)\n",
    "plt.pie(sizes,explode=explode,labels=labels, colors=colors,\n",
    "       autopct='%1.1f%%',shadow=True)"
   ]
  },
  {
   "cell_type": "markdown",
   "metadata": {},
   "source": [
    "Multigraficas en una ventana"
   ]
  },
  {
   "cell_type": "code",
   "execution_count": 103,
   "metadata": {
    "collapsed": true
   },
   "outputs": [],
   "source": [
    "plt.show()\n"
   ]
  },
  {
   "cell_type": "code",
   "execution_count": null,
   "metadata": {
    "collapsed": true
   },
   "outputs": [],
   "source": []
  }
 ],
 "metadata": {
  "kernelspec": {
   "display_name": "Python 2",
   "language": "python",
   "name": "python2"
  },
  "language_info": {
   "codemirror_mode": {
    "name": "ipython",
    "version": 2
   },
   "file_extension": ".py",
   "mimetype": "text/x-python",
   "name": "python",
   "nbconvert_exporter": "python",
   "pygments_lexer": "ipython2",
   "version": "2.7.11"
  }
 },
 "nbformat": 4,
 "nbformat_minor": 0
}
