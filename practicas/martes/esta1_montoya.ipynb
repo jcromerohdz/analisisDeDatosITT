{
 "cells": [
  {
   "cell_type": "code",
   "execution_count": 37,
   "metadata": {
    "collapsed": true
   },
   "outputs": [],
   "source": [
    "import numpy as np"
   ]
  },
  {
   "cell_type": "code",
   "execution_count": 35,
   "metadata": {},
   "outputs": [
    {
     "name": "stdout",
     "output_type": "stream",
     "text": [
      "[ 0.  0.  0.  0.  0.  0.  0.  0.  0.  0.]\n"
     ]
    }
   ],
   "source": [
    "#vectores asignados en ceros\n",
    "p=np.zeros(10)\n",
    "print p"
   ]
  },
  {
   "cell_type": "code",
   "execution_count": 6,
   "metadata": {},
   "outputs": [
    {
     "data": {
      "text/plain": [
       "numpy.ndarray"
      ]
     },
     "execution_count": 6,
     "metadata": {},
     "output_type": "execute_result"
    }
   ],
   "source": [
    "type(p)"
   ]
  },
  {
   "cell_type": "code",
   "execution_count": 7,
   "metadata": {},
   "outputs": [
    {
     "data": {
      "text/plain": [
       "numpy.float64"
      ]
     },
     "execution_count": 7,
     "metadata": {},
     "output_type": "execute_result"
    }
   ],
   "source": [
    "type(p[1])"
   ]
  },
  {
   "cell_type": "code",
   "execution_count": 36,
   "metadata": {},
   "outputs": [
    {
     "name": "stdout",
     "output_type": "stream",
     "text": [
      "[ 1.  1.  1.  1.  1.  1.  1.  1.  1.  1.]\n"
     ]
    }
   ],
   "source": [
    "#vectores asignados en unos\n",
    "q=np.ones(10)\n",
    "print q\n"
   ]
  },
  {
   "cell_type": "code",
   "execution_count": 14,
   "metadata": {},
   "outputs": [
    {
     "data": {
      "text/plain": [
       "(array([0, 1, 3, 5, 7]),)"
      ]
     },
     "execution_count": 14,
     "metadata": {},
     "output_type": "execute_result"
    }
   ],
   "source": [
    "lista=[2,6,0,1,0,2,0,7,0,0]\n",
    "np.nonzero(lista)   #regresa en los indices que no tiene ceros"
   ]
  },
  {
   "cell_type": "code",
   "execution_count": 17,
   "metadata": {},
   "outputs": [
    {
     "name": "stdout",
     "output_type": "stream",
     "text": [
      "[ 1.  1.  1.  1.  1.  2.  1.  1.  1.  1.]\n"
     ]
    }
   ],
   "source": [
    "#asignar valores\n",
    "q[5]=2\n",
    "print q\n"
   ]
  },
  {
   "cell_type": "code",
   "execution_count": 16,
   "metadata": {},
   "outputs": [
    {
     "ename": "IndexError",
     "evalue": "index 20 is out of bounds for axis 0 with size 10",
     "output_type": "error",
     "traceback": [
      "\u001b[0;31m---------------------------------------------------------------------------\u001b[0m",
      "\u001b[0;31mIndexError\u001b[0m                                Traceback (most recent call last)",
      "\u001b[0;32m<ipython-input-16-53c7fedb4216>\u001b[0m in \u001b[0;36m<module>\u001b[0;34m()\u001b[0m\n\u001b[0;32m----> 1\u001b[0;31m \u001b[0mq\u001b[0m\u001b[0;34m[\u001b[0m\u001b[0;36m20\u001b[0m\u001b[0;34m]\u001b[0m\u001b[0;34m\u001b[0m\u001b[0m\n\u001b[0m",
      "\u001b[0;31mIndexError\u001b[0m: index 20 is out of bounds for axis 0 with size 10"
     ]
    }
   ],
   "source": [
    "q[20]"
   ]
  },
  {
   "cell_type": "code",
   "execution_count": 20,
   "metadata": {},
   "outputs": [
    {
     "name": "stdout",
     "output_type": "stream",
     "text": [
      "[  0.5   1.    1.5   2.    2.5   3.    3.5   4.    4.5   5.    5.5   6.\n",
      "   6.5   7.    7.5   8.    8.5   9.    9.5  10.   10.5  11.   11.5  12.\n",
      "  12.5  13.   13.5  14.   14.5  15.   15.5  16.   16.5  17.   17.5  18.\n",
      "  18.5  19.   19.5  20.   20.5  21.   21.5  22.   22.5  23.   23.5  24.\n",
      "  24.5  25.   25.5  26.   26.5  27.   27.5  28.   28.5  29.   29.5  30.\n",
      "  30.5  31.   31.5  32.   32.5  33.   33.5  34.   34.5  35.   35.5  36.\n",
      "  36.5  37.   37.5  38.   38.5  39.   39.5  40.   40.5  41.   41.5  42.\n",
      "  42.5  43.   43.5  44.   44.5  45.   45.5  46.   46.5  47.   47.5  48.\n",
      "  48.5  49.   49.5]\n"
     ]
    }
   ],
   "source": [
    "#declarar  y  asignar vectores por rangos\n",
    "r=np.arange(1,100)*0.5\n",
    "print  r\n"
   ]
  },
  {
   "cell_type": "code",
   "execution_count": 24,
   "metadata": {},
   "outputs": [
    {
     "name": "stdout",
     "output_type": "stream",
     "text": [
      "[[ 0  1  2  3  4  5  6  7]\n",
      " [ 8  9 10 11 12 13 14 15]]\n"
     ]
    }
   ],
   "source": [
    "#crear matrices con  rangos\n",
    "w=np.arange(16).reshape(2,8)\n",
    "print w\n"
   ]
  },
  {
   "cell_type": "code",
   "execution_count": 23,
   "metadata": {},
   "outputs": [
    {
     "name": "stdout",
     "output_type": "stream",
     "text": [
      "[[ 0  1  2  3  4]\n",
      " [ 5  6  7  8  9]\n",
      " [10 11 12 13 14]\n",
      " [15 16 17 18 19]]\n"
     ]
    }
   ],
   "source": [
    "w=np.arange(20).reshape(4,5)\n",
    "print w"
   ]
  },
  {
   "cell_type": "code",
   "execution_count": 25,
   "metadata": {},
   "outputs": [
    {
     "name": "stdout",
     "output_type": "stream",
     "text": [
      "[[ 1.  0.  0.]\n",
      " [ 0.  1.  0.]\n",
      " [ 0.  0.  1.]]\n"
     ]
    }
   ],
   "source": [
    "#crear matrices cuadradas  matriz identidad\n",
    "y=np.eye(3)\n",
    "print y"
   ]
  },
  {
   "cell_type": "code",
   "execution_count": 26,
   "metadata": {},
   "outputs": [
    {
     "name": "stdout",
     "output_type": "stream",
     "text": [
      "[ 0.4388885   0.67404765  0.50280431  0.28747972  0.14632701  0.30297786\n",
      "  0.19473768  0.92490863  0.26933104  0.03444753]\n"
     ]
    }
   ],
   "source": [
    "#matrices dimensionales con valores\n",
    "n=np.random.random(10)\n",
    "print n\n"
   ]
  },
  {
   "cell_type": "code",
   "execution_count": 27,
   "metadata": {},
   "outputs": [
    {
     "name": "stdout",
     "output_type": "stream",
     "text": [
      "[[ 0.60980543  0.46234534  0.57096097]\n",
      " [ 0.4716324   0.9322665   0.18598366]\n",
      " [ 0.79146332  0.96303993  0.22867773]\n",
      " [ 0.31401436  0.53290533  0.94631225]]\n"
     ]
    }
   ],
   "source": [
    "#matrices dimensionales con valores\n",
    "n=np.random.random((4,3))\n",
    "print n\n"
   ]
  },
  {
   "cell_type": "code",
   "execution_count": 28,
   "metadata": {},
   "outputs": [
    {
     "name": "stdout",
     "output_type": "stream",
     "text": [
      "[[[ 0.17975523  0.56523138]\n",
      "  [ 0.55855106  0.91369279]\n",
      "  [ 0.88443209  0.90702926]]\n",
      "\n",
      " [[ 0.52916625  0.49621427]\n",
      "  [ 0.69183261  0.82965268]\n",
      "  [ 0.73081202  0.53554649]]\n",
      "\n",
      " [[ 0.77920256  0.84624683]\n",
      "  [ 0.16784882  0.99051196]\n",
      "  [ 0.04564847  0.16033203]]\n",
      "\n",
      " [[ 0.63418981  0.86949814]\n",
      "  [ 0.15262098  0.91727753]\n",
      "  [ 0.34389152  0.02411564]]]\n"
     ]
    }
   ],
   "source": [
    "#matrices dimensionales con valores\n",
    "n=np.random.random((4,3,2))\n",
    "print n\n"
   ]
  },
  {
   "cell_type": "code",
   "execution_count": 29,
   "metadata": {},
   "outputs": [
    {
     "name": "stdout",
     "output_type": "stream",
     "text": [
      "minimo en N  0.0241156435913\n"
     ]
    }
   ],
   "source": [
    "print 'minimo en N ',n.min()"
   ]
  },
  {
   "cell_type": "code",
   "execution_count": 30,
   "metadata": {},
   "outputs": [
    {
     "name": "stdout",
     "output_type": "stream",
     "text": [
      "maximo en N  0.99051195695\n"
     ]
    }
   ],
   "source": [
    "print 'maximo en N ',n.max()"
   ]
  },
  {
   "cell_type": "code",
   "execution_count": 31,
   "metadata": {},
   "outputs": [
    {
     "data": {
      "text/plain": [
       "array([[  0.5,   0. ,   0. , ...,   0. ,   0. ,   0. ],\n",
       "       [  0. ,   1. ,   0. , ...,   0. ,   0. ,   0. ],\n",
       "       [  0. ,   0. ,   1.5, ...,   0. ,   0. ,   0. ],\n",
       "       ..., \n",
       "       [  0. ,   0. ,   0. , ...,  48.5,   0. ,   0. ],\n",
       "       [  0. ,   0. ,   0. , ...,   0. ,  49. ,   0. ],\n",
       "       [  0. ,   0. ,   0. , ...,   0. ,   0. ,  49.5]])"
      ]
     },
     "execution_count": 31,
     "metadata": {},
     "output_type": "execute_result"
    }
   ],
   "source": [
    "np.diag(r)"
   ]
  },
  {
   "cell_type": "code",
   "execution_count": 32,
   "metadata": {},
   "outputs": [
    {
     "name": "stdout",
     "output_type": "stream",
     "text": [
      "[[ 0.44597904  0.95516047  0.7150802   0.          0.47903435]\n",
      " [ 0.26676152  0.67836948  1.          0.27768917  0.26648987]\n",
      " [ 0.4611594   0.59750376  0.07830929  0.8397355   0.71748169]\n",
      " [ 0.04958611  0.79837126  0.10338306  0.13675977  0.44144816]\n",
      " [ 0.81410912  0.1084901   0.08506277  0.42728049  0.39289454]]\n"
     ]
    }
   ],
   "source": [
    "z=np.random.random((5,5))\n",
    "zmax, zmin = z.max(), z.min()\n",
    "z= (z-zmin) / (zmax- zmin)\n",
    "print z\n"
   ]
  },
  {
   "cell_type": "code",
   "execution_count": 34,
   "metadata": {},
   "outputs": [
    {
     "data": {
      "text/plain": [
       "array([[ 3.,  3.],\n",
       "       [ 3.,  3.],\n",
       "       [ 3.,  3.],\n",
       "       [ 3.,  3.],\n",
       "       [ 3.,  3.]])"
      ]
     },
     "execution_count": 34,
     "metadata": {},
     "output_type": "execute_result"
    }
   ],
   "source": [
    "np.dot(np.ones((5,3)), np.ones((3,2)))"
   ]
  },
  {
   "cell_type": "code",
   "execution_count": null,
   "metadata": {
    "collapsed": true
   },
   "outputs": [],
   "source": [
    "import scipy"
   ]
  }
 ],
 "metadata": {
  "kernelspec": {
   "display_name": "Python 2",
   "language": "python",
   "name": "python2"
  },
  "language_info": {
   "codemirror_mode": {
    "name": "ipython",
    "version": 2
   },
   "file_extension": ".py",
   "mimetype": "text/x-python",
   "name": "python",
   "nbconvert_exporter": "python",
   "pygments_lexer": "ipython2",
   "version": "2.7.13"
  }
 },
 "nbformat": 4,
 "nbformat_minor": 2
}
