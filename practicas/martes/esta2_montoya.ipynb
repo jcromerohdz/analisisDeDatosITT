{
 "cells": [
  {
   "cell_type": "code",
   "execution_count": 1,
   "metadata": {},
   "outputs": [
    {
     "ename": "NameError",
     "evalue": "name 'Media' is not defined",
     "output_type": "error",
     "traceback": [
      "\u001b[0;31m---------------------------------------------------------------------------\u001b[0m",
      "\u001b[0;31mNameError\u001b[0m                                 Traceback (most recent call last)",
      "\u001b[0;32m<ipython-input-1-8c40dece042b>\u001b[0m in \u001b[0;36m<module>\u001b[0;34m()\u001b[0m\n\u001b[0;32m----> 1\u001b[0;31m \u001b[0mMedia\u001b[0m\u001b[0;34m,\u001b[0m \u001b[0mmediana\u001b[0m\u001b[0;34m,\u001b[0m \u001b[0mmoda\u001b[0m\u001b[0;34m\u001b[0m\u001b[0m\n\u001b[0m",
      "\u001b[0;31mNameError\u001b[0m: name 'Media' is not defined"
     ]
    }
   ],
   "source": [
    "# Media, mediana, moda\n",
    "# \n",
    "#\n"
   ]
  },
  {
   "cell_type": "code",
   "execution_count": 2,
   "metadata": {
    "collapsed": true
   },
   "outputs": [],
   "source": [
    "import numpy as np"
   ]
  },
  {
   "cell_type": "code",
   "execution_count": 3,
   "metadata": {},
   "outputs": [
    {
     "data": {
      "text/plain": [
       "26965.051308198035"
      ]
     },
     "execution_count": 3,
     "metadata": {},
     "output_type": "execute_result"
    }
   ],
   "source": [
    "ingresos = np.random.normal(27000,15000,10000)\n",
    "np.mean(ingresos)\n"
   ]
  },
  {
   "cell_type": "code",
   "execution_count": 4,
   "metadata": {},
   "outputs": [
    {
     "name": "stdout",
     "output_type": "stream",
     "text": [
      "[ 24953.90762956  52834.92974539  21108.59298893 ...,  27658.92632007\n",
      "  53897.50260927  33670.34173368]\n"
     ]
    }
   ],
   "source": [
    "print ingresos\n"
   ]
  },
  {
   "cell_type": "code",
   "execution_count": 5,
   "metadata": {
    "collapsed": true
   },
   "outputs": [],
   "source": [
    "#Ahora agregamos un ingreso atipico(outlier), por ejemplo el de  Donal Trump\n"
   ]
  },
  {
   "cell_type": "code",
   "execution_count": 6,
   "metadata": {},
   "outputs": [
    {
     "data": {
      "text/plain": [
       "numpy.ndarray"
      ]
     },
     "execution_count": 6,
     "metadata": {},
     "output_type": "execute_result"
    }
   ],
   "source": [
    "type(ingresos)"
   ]
  },
  {
   "cell_type": "code",
   "execution_count": 7,
   "metadata": {
    "collapsed": true
   },
   "outputs": [],
   "source": [
    "ingresos = np.append(ingresos,[1000000000])"
   ]
  },
  {
   "cell_type": "code",
   "execution_count": 8,
   "metadata": {
    "collapsed": true
   },
   "outputs": [],
   "source": [
    "#LA media cambia mucho, pero la mediana \n"
   ]
  },
  {
   "cell_type": "code",
   "execution_count": 9,
   "metadata": {},
   "outputs": [
    {
     "data": {
      "text/plain": [
       "27132.644226360051"
      ]
     },
     "execution_count": 9,
     "metadata": {},
     "output_type": "execute_result"
    }
   ],
   "source": [
    "np.median(ingresos)"
   ]
  },
  {
   "cell_type": "code",
   "execution_count": 10,
   "metadata": {},
   "outputs": [
    {
     "data": {
      "text/plain": [
       "126952.35607259079"
      ]
     },
     "execution_count": 10,
     "metadata": {},
     "output_type": "execute_result"
    }
   ],
   "source": [
    "np.mean(ingresos)"
   ]
  },
  {
   "cell_type": "code",
   "execution_count": 11,
   "metadata": {
    "collapsed": true
   },
   "outputs": [],
   "source": [
    "#Ahora generaremos edades falsas para 500 personas."
   ]
  },
  {
   "cell_type": "code",
   "execution_count": 12,
   "metadata": {
    "collapsed": true
   },
   "outputs": [],
   "source": [
    "edades=np.random.randint(18, high=90, size=500)"
   ]
  },
  {
   "cell_type": "code",
   "execution_count": 13,
   "metadata": {},
   "outputs": [
    {
     "data": {
      "text/plain": [
       "array([73, 34, 83, 65, 57, 19, 54, 45, 22, 22, 58, 31, 48, 51, 67, 25, 23,\n",
       "       24, 28, 77, 46, 61, 34, 38, 63, 38, 27, 76, 80, 27, 42, 63, 84, 62,\n",
       "       43, 54, 70, 26, 60, 36, 85, 47, 42, 29, 79, 78, 59, 74, 43, 18, 21,\n",
       "       60, 40, 55, 85, 56, 82, 78, 84, 46, 80, 88, 32, 35, 56, 63, 62, 60,\n",
       "       33, 87, 75, 83, 28, 62, 42, 77, 38, 29, 50, 45, 40, 54, 50, 62, 59,\n",
       "       88, 56, 68, 18, 28, 41, 36, 69, 41, 55, 46, 74, 19, 60, 79, 28, 68,\n",
       "       43, 48, 48, 64, 51, 55, 26, 70, 42, 29, 35, 84, 58, 44, 64, 53, 75,\n",
       "       43, 38, 81, 46, 47, 65, 36, 83, 36, 56, 34, 27, 43, 67, 80, 69, 84,\n",
       "       23, 66, 44, 31, 66, 62, 57, 43, 50, 34, 72, 45, 31, 78, 35, 81, 24,\n",
       "       88, 26, 75, 23, 51, 76, 61, 34, 31, 46, 38, 30, 54, 50, 85, 69, 19,\n",
       "       19, 52, 85, 33, 78, 86, 59, 58, 70, 87, 29, 60, 84, 46, 63, 37, 54,\n",
       "       61, 50, 43, 30, 23, 51, 72, 29, 80, 31, 23, 78, 43, 37, 79, 81, 55,\n",
       "       66, 81, 18, 36, 80, 49, 87, 56, 74, 84, 78, 84, 69, 39, 70, 83, 35,\n",
       "       50, 78, 84, 75, 69, 60, 70, 73, 76, 23, 25, 22, 52, 19, 79, 73, 21,\n",
       "       37, 78, 54, 64, 33, 55, 49, 24, 18, 32, 27, 73, 25, 38, 88, 88, 21,\n",
       "       30, 72, 78, 36, 67, 52, 47, 58, 32, 32, 21, 45, 46, 53, 55, 70, 57,\n",
       "       61, 52, 63, 43, 56, 85, 80, 33, 19, 57, 89, 61, 77, 57, 46, 62, 35,\n",
       "       26, 50, 37, 45, 74, 51, 18, 32, 46, 34, 21, 59, 18, 18, 74, 58, 58,\n",
       "       66, 30, 23, 87, 75, 37, 56, 76, 53, 70, 62, 18, 53, 43, 33, 38, 51,\n",
       "       43, 87, 31, 39, 35, 40, 61, 60, 58, 35, 20, 73, 64, 40, 59, 89, 75,\n",
       "       80, 75, 26, 67, 81, 34, 70, 36, 55, 60, 45, 29, 74, 44, 82, 36, 27,\n",
       "       28, 20, 38, 70, 18, 33, 89, 71, 34, 76, 54, 76, 55, 47, 49, 23, 74,\n",
       "       25, 81, 38, 71, 87, 29, 35, 66, 51, 49, 31, 81, 37, 73, 71, 56, 42,\n",
       "       49, 86, 62, 84, 52, 75, 50, 88, 83, 50, 71, 34, 40, 53, 63, 79, 68,\n",
       "       63, 55, 41, 54, 29, 62, 62, 21, 68, 73, 68, 44, 21, 51, 50, 81, 52,\n",
       "       87, 42, 65, 32, 83, 23, 80, 86, 54, 47, 50, 70, 54, 75, 82, 50, 79,\n",
       "       45, 35, 86, 46, 25, 41, 46, 54, 69, 68, 19, 56, 67, 67, 23, 75, 85,\n",
       "       82, 62, 66, 74, 61, 68, 82, 64, 72, 56, 83, 18, 20, 31, 25, 86, 36,\n",
       "       53, 20, 87, 45, 82, 87, 63, 79, 65, 59, 60, 83, 28, 23, 68, 72, 76,\n",
       "       22, 36, 38, 46, 86, 48, 18])"
      ]
     },
     "execution_count": 13,
     "metadata": {},
     "output_type": "execute_result"
    }
   ],
   "source": [
    "edades"
   ]
  },
  {
   "cell_type": "code",
   "execution_count": 14,
   "metadata": {
    "collapsed": true
   },
   "outputs": [],
   "source": [
    "from scipy import stats"
   ]
  },
  {
   "cell_type": "code",
   "execution_count": 16,
   "metadata": {},
   "outputs": [
    {
     "data": {
      "text/plain": [
       "ModeResult(mode=array([46]), count=array([12]))"
      ]
     },
     "execution_count": 16,
     "metadata": {},
     "output_type": "execute_result"
    }
   ],
   "source": [
    "stats.mode(edades)       # moda 46  aparece 12 veces en el array."
   ]
  },
  {
   "cell_type": "markdown",
   "metadata": {},
   "source": [
    "Ahora vamos a agregar un codigo de datos de comercio electronico aleatorios, son los datos que representan\n",
    "la cantidad total de gastos  por transaccion.\n"
   ]
  },
  {
   "cell_type": "code",
   "execution_count": 19,
   "metadata": {},
   "outputs": [
    {
     "data": {
      "text/plain": [
       "(array([   1.,    0.,    1.,    0.,    2.,    7.,    9.,   19.,   19.,\n",
       "          28.,   56.,   80.,  112.,  147.,  173.,  249.,  297.,  409.,\n",
       "         470.,  510.,  585.,  605.,  663.,  642.,  689.,  637.,  618.,\n",
       "         566.,  504.,  411.,  364.,  292.,  231.,  181.,  122.,   92.,\n",
       "          65.,   63.,   25.,   17.,   17.,   10.,    5.,    3.,    2.,\n",
       "           1.,    0.,    0.,    0.,    1.]),\n",
       " array([  17.8386373 ,   21.26831312,   24.69798894,   28.12766476,\n",
       "          31.55734058,   34.9870164 ,   38.41669222,   41.84636804,\n",
       "          45.27604386,   48.70571969,   52.13539551,   55.56507133,\n",
       "          58.99474715,   62.42442297,   65.85409879,   69.28377461,\n",
       "          72.71345043,   76.14312625,   79.57280208,   83.0024779 ,\n",
       "          86.43215372,   89.86182954,   93.29150536,   96.72118118,\n",
       "         100.150857  ,  103.58053282,  107.01020864,  110.43988447,\n",
       "         113.86956029,  117.29923611,  120.72891193,  124.15858775,\n",
       "         127.58826357,  131.01793939,  134.44761521,  137.87729103,\n",
       "         141.30696686,  144.73664268,  148.1663185 ,  151.59599432,\n",
       "         155.02567014,  158.45534596,  161.88502178,  165.3146976 ,\n",
       "         168.74437342,  172.17404925,  175.60372507,  179.03340089,\n",
       "         182.46307671,  185.89275253,  189.32242835]),\n",
       " <a list of 50 Patch objects>)"
      ]
     },
     "execution_count": 19,
     "metadata": {},
     "output_type": "execute_result"
    }
   ],
   "source": [
    "import numpy as np\n",
    "import matplotlib.pyplot as plt\n",
    "\n",
    "gastos = np.random.normal(100.0, 20.0,10000)\n",
    "plt.hist(gastos,50)      # 50 barras"
   ]
  },
  {
   "cell_type": "code",
   "execution_count": 20,
   "metadata": {},
   "outputs": [
    {
     "data": {
      "image/png": "[encoded data removed]",
      "text/plain": [
       "<matplotlib.figure.Figure at 0x7fcf5077e4d0>"
      ]
     },
     "metadata": {},
     "output_type": "display_data"
    }
   ],
   "source": [
    "plt.show()"
   ]
  },
  {
   "cell_type": "markdown",
   "metadata": {},
   "source": [
    "Generar datos aleatorios de su gusto, posteriormente calcular la media, mediana, agregar  a esos datos un valor\n",
    "outlier y recalcular la media y mediana.\n"
   ]
  },
  {
   "cell_type": "code",
   "execution_count": 21,
   "metadata": {
    "collapsed": true
   },
   "outputs": [],
   "source": [
    "#Generar estaturas."
   ]
  },
  {
   "cell_type": "code",
   "execution_count": 30,
   "metadata": {},
   "outputs": [
    {
     "data": {
      "text/plain": [
       "array([ 45639.39533361,  33993.85408542,   9344.1585764 , ...,\n",
       "        46691.54348601,  19830.7214789 ,  39598.81728695])"
      ]
     },
     "execution_count": 30,
     "metadata": {},
     "output_type": "execute_result"
    }
   ],
   "source": [
    "estaturas=np.random.normal(27000,15000,10000)\n",
    "estaturas"
   ]
  },
  {
   "cell_type": "code",
   "execution_count": 29,
   "metadata": {},
   "outputs": [
    {
     "data": {
      "text/plain": [
       "array([ -3540.37547051, -15237.27936658,  -6368.90175807, ...,\n",
       "        -2603.55416848, -28907.24888968,  -6611.42957671])"
      ]
     },
     "execution_count": 29,
     "metadata": {},
     "output_type": "execute_result"
    }
   ],
   "source": [
    "estaturas"
   ]
  },
  {
   "cell_type": "code",
   "execution_count": 33,
   "metadata": {},
   "outputs": [
    {
     "data": {
      "text/plain": [
       "array([ 1.5       ,  1.51034483,  1.52068966,  1.53103448,  1.54137931,\n",
       "        1.55172414,  1.56206897,  1.57241379,  1.58275862,  1.59310345,\n",
       "        1.60344828,  1.6137931 ,  1.62413793,  1.63448276,  1.64482759,\n",
       "        1.65517241,  1.66551724,  1.67586207,  1.6862069 ,  1.69655172,\n",
       "        1.70689655,  1.71724138,  1.72758621,  1.73793103,  1.74827586,\n",
       "        1.75862069,  1.76896552,  1.77931034,  1.78965517,  1.8       ])"
      ]
     },
     "execution_count": 33,
     "metadata": {},
     "output_type": "execute_result"
    }
   ],
   "source": [
    "np.linspace(1.5,1.8,30)"
   ]
  },
  {
   "cell_type": "markdown",
   "metadata": {},
   "source": [
    "Distribucion  Uniforme\n"
   ]
  },
  {
   "cell_type": "code",
   "execution_count": 34,
   "metadata": {
    "collapsed": true
   },
   "outputs": [],
   "source": [
    "import numpy as np\n",
    "import matplotlib.pyplot as plt"
   ]
  },
  {
   "cell_type": "code",
   "execution_count": 35,
   "metadata": {
    "collapsed": true
   },
   "outputs": [],
   "source": [
    "valores = np.random.uniform(-10.0,10.0,100000)"
   ]
  },
  {
   "cell_type": "code",
   "execution_count": 36,
   "metadata": {},
   "outputs": [
    {
     "data": {
      "text/plain": [
       "(array([ 1980.,  1938.,  1991.,  1966.,  2029.,  2084.,  1985.,  1964.,\n",
       "         1993.,  1970.,  2005.,  2013.,  2144.,  2029.,  1991.,  1949.,\n",
       "         2025.,  2066.,  2068.,  2052.,  1980.,  1976.,  1959.,  2022.,\n",
       "         2000.,  1985.,  1971.,  1983.,  1930.,  2005.,  1967.,  1975.,\n",
       "         2006.,  1956.,  2015.,  2052.,  1913.,  1975.,  2021.,  1902.,\n",
       "         2005.,  2035.,  2030.,  1975.,  1959.,  2074.,  2031.,  1972.,\n",
       "         2022.,  2062.]),\n",
       " array([ -9.99963667e+00,  -9.59965221e+00,  -9.19966775e+00,\n",
       "         -8.79968329e+00,  -8.39969882e+00,  -7.99971436e+00,\n",
       "         -7.59972990e+00,  -7.19974544e+00,  -6.79976097e+00,\n",
       "         -6.39977651e+00,  -5.99979205e+00,  -5.59980759e+00,\n",
       "         -5.19982312e+00,  -4.79983866e+00,  -4.39985420e+00,\n",
       "         -3.99986974e+00,  -3.59988527e+00,  -3.19990081e+00,\n",
       "         -2.79991635e+00,  -2.39993189e+00,  -1.99994742e+00,\n",
       "         -1.59996296e+00,  -1.19997850e+00,  -7.99994036e-01,\n",
       "         -4.00009573e-01,  -2.51104509e-05,   3.99959352e-01,\n",
       "          7.99943815e-01,   1.19992828e+00,   1.59991274e+00,\n",
       "          1.99989720e+00,   2.39988167e+00,   2.79986613e+00,\n",
       "          3.19985059e+00,   3.59983505e+00,   3.99981952e+00,\n",
       "          4.39980398e+00,   4.79978844e+00,   5.19977290e+00,\n",
       "          5.59975737e+00,   5.99974183e+00,   6.39972629e+00,\n",
       "          6.79971075e+00,   7.19969522e+00,   7.59967968e+00,\n",
       "          7.99966414e+00,   8.39964860e+00,   8.79963307e+00,\n",
       "          9.19961753e+00,   9.59960199e+00,   9.99958645e+00]),\n",
       " <a list of 50 Patch objects>)"
      ]
     },
     "execution_count": 36,
     "metadata": {},
     "output_type": "execute_result"
    }
   ],
   "source": [
    "plt.hist(valores,50)"
   ]
  },
  {
   "cell_type": "code",
   "execution_count": 37,
   "metadata": {},
   "outputs": [
    {
     "data": {
      "image/png": "[encoded data removed]",
      "text/plain": [
       "<matplotlib.figure.Figure at 0x7fcf5056ca50>"
      ]
     },
     "metadata": {},
     "output_type": "display_data"
    }
   ],
   "source": [
    "plt.show()\n"
   ]
  },
  {
   "cell_type": "raw",
   "metadata": {},
   "source": [
    "Distribucion Normal/Gaussian"
   ]
  },
  {
   "cell_type": "code",
   "execution_count": 38,
   "metadata": {
    "collapsed": true
   },
   "outputs": [],
   "source": [
    "from scipy.stats import norm"
   ]
  },
  {
   "cell_type": "code",
   "execution_count": 39,
   "metadata": {
    "collapsed": true
   },
   "outputs": [],
   "source": [
    "import matplotlib.pyplot as plt"
   ]
  },
  {
   "cell_type": "code",
   "execution_count": 43,
   "metadata": {
    "collapsed": true
   },
   "outputs": [],
   "source": [
    "x = np.arange(-3,3,0.001)"
   ]
  },
  {
   "cell_type": "code",
   "execution_count": 41,
   "metadata": {},
   "outputs": [
    {
     "data": {
      "text/plain": [
       "[<matplotlib.lines.Line2D at 0x7fcf5018b050>]"
      ]
     },
     "execution_count": 41,
     "metadata": {},
     "output_type": "execute_result"
    }
   ],
   "source": [
    "plt.plot(x,norm.pdf(x))"
   ]
  },
  {
   "cell_type": "code",
   "execution_count": 42,
   "metadata": {},
   "outputs": [
    {
     "data": {
      "image/png": "[encoded data removed]",
      "text/plain": [
       "<matplotlib.figure.Figure at 0x7fcf502569d0>"
      ]
     },
     "metadata": {},
     "output_type": "display_data"
    }
   ],
   "source": [
    "plt.show()"
   ]
  },
  {
   "cell_type": "code",
   "execution_count": 44,
   "metadata": {},
   "outputs": [
    {
     "data": {
      "text/plain": [
       "array([-3.   , -2.999, -2.998, ...,  2.997,  2.998,  2.999])"
      ]
     },
     "execution_count": 44,
     "metadata": {},
     "output_type": "execute_result"
    }
   ],
   "source": [
    "x"
   ]
  },
  {
   "cell_type": "markdown",
   "metadata": {},
   "source": [
    "Distribucion Exponencial / Power law"
   ]
  },
  {
   "cell_type": "code",
   "execution_count": 45,
   "metadata": {
    "collapsed": true
   },
   "outputs": [],
   "source": [
    "from scipy.stats import norm"
   ]
  },
  {
   "cell_type": "code",
   "execution_count": 46,
   "metadata": {
    "collapsed": true
   },
   "outputs": [],
   "source": [
    "import matplotlib.pyplot as plt"
   ]
  },
  {
   "cell_type": "code",
   "execution_count": 48,
   "metadata": {
    "collapsed": true
   },
   "outputs": [],
   "source": [
    "x1=np.arange(0,10,0.001)"
   ]
  },
  {
   "cell_type": "code",
   "execution_count": 49,
   "metadata": {},
   "outputs": [
    {
     "data": {
      "text/plain": [
       "[<matplotlib.lines.Line2D at 0x7fcf50149ed0>]"
      ]
     },
     "execution_count": 49,
     "metadata": {},
     "output_type": "execute_result"
    }
   ],
   "source": [
    "plt.plot(x1,)"
   ]
  },
  {
   "cell_type": "markdown",
   "metadata": {},
   "source": [
    "Funcion \n",
    "\n"
   ]
  },
  {
   "cell_type": "code",
   "execution_count": 55,
   "metadata": {
    "collapsed": true
   },
   "outputs": [],
   "source": [
    "from scipy.stats import binom"
   ]
  },
  {
   "cell_type": "code",
   "execution_count": 56,
   "metadata": {
    "collapsed": true
   },
   "outputs": [],
   "source": [
    "import matplotlib.pyplot as plt"
   ]
  },
  {
   "cell_type": "code",
   "execution_count": 57,
   "metadata": {
    "collapsed": true
   },
   "outputs": [],
   "source": [
    "n,p=10,0.5"
   ]
  },
  {
   "cell_type": "code",
   "execution_count": 58,
   "metadata": {},
   "outputs": [
    {
     "data": {
      "text/plain": [
       "[<matplotlib.lines.Line2D at 0x7fcf50088d10>]"
      ]
     },
     "execution_count": 58,
     "metadata": {},
     "output_type": "execute_result"
    }
   ],
   "source": [
    "plt.plot(x,binom.pmf(x,n,p))"
   ]
  },
  {
   "cell_type": "code",
   "execution_count": 59,
   "metadata": {},
   "outputs": [
    {
     "data": {
      "image/png": "[encoded data removed]",
      "text/plain": [
       "<matplotlib.figure.Figure at 0x7fcf500f37d0>"
      ]
     },
     "metadata": {},
     "output_type": "display_data"
    }
   ],
   "source": [
    "plt.show()"
   ]
  },
  {
   "cell_type": "markdown",
   "metadata": {},
   "source": [
    "Poisson funcion de masa"
   ]
  },
  {
   "cell_type": "code",
   "execution_count": 62,
   "metadata": {
    "collapsed": true
   },
   "outputs": [],
   "source": [
    "from scipy.stats import poisson"
   ]
  },
  {
   "cell_type": "code",
   "execution_count": 63,
   "metadata": {
    "collapsed": true
   },
   "outputs": [],
   "source": [
    "import matplotlib.pyplot as plt"
   ]
  },
  {
   "cell_type": "code",
   "execution_count": 64,
   "metadata": {
    "collapsed": true
   },
   "outputs": [],
   "source": [
    "mu =500"
   ]
  },
  {
   "cell_type": "code",
   "execution_count": 65,
   "metadata": {
    "collapsed": true
   },
   "outputs": [],
   "source": [
    "x=np.arange(100,600,0.5)"
   ]
  },
  {
   "cell_type": "code",
   "execution_count": 66,
   "metadata": {},
   "outputs": [
    {
     "data": {
      "text/plain": [
       "[<matplotlib.lines.Line2D at 0x7fcf4ffc6310>]"
      ]
     },
     "execution_count": 66,
     "metadata": {},
     "output_type": "execute_result"
    }
   ],
   "source": [
    "plt.plot(x, poisson.pmf(x,mu))"
   ]
  },
  {
   "cell_type": "code",
   "execution_count": 67,
   "metadata": {},
   "outputs": [
    {
     "data": {
      "image/png": "[encoded data removed]",
      "text/plain": [
       "<matplotlib.figure.Figure at 0x7fcf50023dd0>"
      ]
     },
     "metadata": {},
     "output_type": "display_data"
    }
   ],
   "source": [
    "plt.show()"
   ]
  },
  {
   "cell_type": "markdown",
   "metadata": {},
   "source": [
    "Visualizacion de datos"
   ]
  },
  {
   "cell_type": "markdown",
   "metadata": {},
   "source": [
    "Matplotlib   Basico"
   ]
  },
  {
   "cell_type": "code",
   "execution_count": 82,
   "metadata": {
    "collapsed": true
   },
   "outputs": [],
   "source": [
    "from scipy.stats import norm"
   ]
  },
  {
   "cell_type": "code",
   "execution_count": 83,
   "metadata": {
    "collapsed": true
   },
   "outputs": [],
   "source": [
    "import matplotlib.pyplot as plt"
   ]
  },
  {
   "cell_type": "code",
   "execution_count": 84,
   "metadata": {
    "collapsed": true
   },
   "outputs": [],
   "source": [
    "x=np.arange(-3,3,0.001)"
   ]
  },
  {
   "cell_type": "code",
   "execution_count": 88,
   "metadata": {
    "collapsed": true
   },
   "outputs": [],
   "source": [
    "plt.savefig('grafica1.png')"
   ]
  },
  {
   "cell_type": "code",
   "execution_count": 86,
   "metadata": {},
   "outputs": [
    {
     "data": {
      "text/plain": [
       "[<matplotlib.lines.Line2D at 0x7fcf4fdee650>]"
      ]
     },
     "execution_count": 86,
     "metadata": {},
     "output_type": "execute_result"
    }
   ],
   "source": [
    "plt.plot(x, norm.pdf(x))"
   ]
  },
  {
   "cell_type": "code",
   "execution_count": 87,
   "metadata": {},
   "outputs": [
    {
     "data": {
      "image/png": "[encoded data removed]",
      "text/plain": [
       "<matplotlib.figure.Figure at 0x7fcf4fde5090>"
      ]
     },
     "metadata": {},
     "output_type": "display_data"
    }
   ],
   "source": [
    "plt.show()"
   ]
  },
  {
   "cell_type": "code",
   "execution_count": 89,
   "metadata": {
    "collapsed": true
   },
   "outputs": [],
   "source": [
    "import matplotlib.pyplot as plt"
   ]
  },
  {
   "cell_type": "code",
   "execution_count": 91,
   "metadata": {
    "collapsed": true
   },
   "outputs": [],
   "source": [
    "  n=np.random.uniform(-1,1,100)   # de -1 a 1 generar 100 valores"
   ]
  },
  {
   "cell_type": "code",
   "execution_count": 92,
   "metadata": {},
   "outputs": [
    {
     "data": {
      "text/plain": [
       "array([ -4.22706227e-01,   6.35968167e-01,  -4.18268502e-01,\n",
       "        -6.40022495e-02,  -5.56051295e-01,   4.40137070e-01,\n",
       "        -4.24965505e-01,  -8.72499051e-01,   4.15590751e-01,\n",
       "        -3.06759450e-01,   6.79845781e-02,   9.82980469e-01,\n",
       "         7.82253575e-02,   2.05619317e-01,  -6.77252884e-01,\n",
       "         4.60458446e-01,   6.89633024e-01,   9.16168810e-01,\n",
       "        -1.94975873e-01,   4.50864020e-01,   8.43132849e-01,\n",
       "        -5.11227346e-01,  -4.68136169e-01,  -2.89211493e-01,\n",
       "        -7.58347805e-01,  -2.65253562e-01,  -6.80677722e-02,\n",
       "        -7.39898069e-01,  -5.05610561e-01,   7.30508456e-01,\n",
       "         2.91683229e-04,   1.82609460e-01,  -5.79381081e-01,\n",
       "         9.27303774e-01,  -5.13412529e-01,   4.44623570e-01,\n",
       "        -1.29651461e-02,  -8.66246781e-01,  -1.33892668e-01,\n",
       "        -6.94051575e-01,  -8.76395653e-01,   3.52060415e-01,\n",
       "        -5.79685049e-01,   3.50966256e-01,  -8.54941941e-01,\n",
       "         3.57581764e-01,  -4.84335699e-01,   1.30463859e-01,\n",
       "         9.69640326e-01,  -3.39618852e-01,   6.42078083e-01,\n",
       "        -3.37666317e-01,  -1.71141312e-02,  -6.43660376e-01,\n",
       "        -6.87979429e-01,   7.42956315e-02,  -4.00201278e-01,\n",
       "         4.87654765e-01,   9.37881484e-01,  -7.83474367e-01,\n",
       "        -4.22775034e-02,  -8.35386765e-02,   6.21662454e-01,\n",
       "         8.92842628e-01,  -5.98102356e-01,  -7.53393170e-01,\n",
       "        -4.19896423e-01,   1.40805950e-01,  -9.03827920e-01,\n",
       "         9.12407257e-01,   8.85092919e-01,  -5.84014450e-01,\n",
       "        -1.78988004e-01,   4.11946872e-01,  -8.77802698e-01,\n",
       "        -7.55636094e-01,   2.02651638e-01,   6.42717905e-01,\n",
       "         8.35932040e-01,   9.40894438e-01,   2.61616273e-01,\n",
       "         3.70743649e-01,  -8.56360742e-01,  -9.54174430e-01,\n",
       "         5.13558824e-01,   7.57201089e-01,   7.43623780e-01,\n",
       "        -8.67756211e-01,   5.73716101e-02,   1.04710025e-02,\n",
       "         9.97300237e-02,   8.98023064e-01,   8.62083143e-01,\n",
       "        -2.09162911e-01,   4.79192726e-01,   8.37366377e-01,\n",
       "        -6.11959942e-01,   5.26815514e-01,   4.45360059e-01,\n",
       "        -7.50079533e-01])"
      ]
     },
     "execution_count": 92,
     "metadata": {},
     "output_type": "execute_result"
    }
   ],
   "source": [
    "n\n"
   ]
  },
  {
   "cell_type": "code",
   "execution_count": 93,
   "metadata": {},
   "outputs": [
    {
     "data": {
      "text/plain": [
       "[<matplotlib.lines.Line2D at 0x7fcf4fcbe0d0>]"
      ]
     },
     "execution_count": 93,
     "metadata": {},
     "output_type": "execute_result"
    }
   ],
   "source": [
    "plt.plot(n)"
   ]
  },
  {
   "cell_type": "code",
   "execution_count": 95,
   "metadata": {},
   "outputs": [
    {
     "data": {
      "image/png": "[encoded data removed]",
      "text/plain": [
       "<matplotlib.figure.Figure at 0x7fcf4fd34450>"
      ]
     },
     "metadata": {},
     "output_type": "display_data"
    }
   ],
   "source": [
    "plt.show()"
   ]
  },
  {
   "cell_type": "code",
   "execution_count": 103,
   "metadata": {},
   "outputs": [
    {
     "data": {
      "text/plain": [
       "[<matplotlib.lines.Line2D at 0x7fcf4fa640d0>]"
      ]
     },
     "execution_count": 103,
     "metadata": {},
     "output_type": "execute_result"
    }
   ],
   "source": [
    "plt.plot(n)"
   ]
  },
  {
   "cell_type": "code",
   "execution_count": 104,
   "metadata": {},
   "outputs": [
    {
     "data": {
      "text/plain": [
       "<matplotlib.text.Text at 0x7fcf4fc60d10>"
      ]
     },
     "execution_count": 104,
     "metadata": {},
     "output_type": "execute_result"
    }
   ],
   "source": [
    "plt.xlabel('Tiempo')"
   ]
  },
  {
   "cell_type": "code",
   "execution_count": 105,
   "metadata": {},
   "outputs": [
    {
     "data": {
      "text/plain": [
       "<matplotlib.text.Text at 0x7fcf4fb8e490>"
      ]
     },
     "execution_count": 105,
     "metadata": {},
     "output_type": "execute_result"
    }
   ],
   "source": [
    "plt.ylabel('Tipo de cambio')"
   ]
  },
  {
   "cell_type": "code",
   "execution_count": 100,
   "metadata": {},
   "outputs": [
    {
     "data": {
      "image/png": "[encoded data removed]",
      "text/plain": [
       "<matplotlib.figure.Figure at 0x7fcf4fc547d0>"
      ]
     },
     "metadata": {},
     "output_type": "display_data"
    }
   ],
   "source": [
    "plt.show()"
   ]
  },
  {
   "cell_type": "code",
   "execution_count": 106,
   "metadata": {},
   "outputs": [
    {
     "data": {
      "text/plain": [
       "<matplotlib.text.Text at 0x7fcf4fafb750>"
      ]
     },
     "execution_count": 106,
     "metadata": {},
     "output_type": "execute_result"
    }
   ],
   "source": [
    "plt.title('Tipo de cambio historico del dolar')"
   ]
  },
  {
   "cell_type": "code",
   "execution_count": 107,
   "metadata": {},
   "outputs": [
    {
     "data": {
      "image/png": "[encoded data removed]",
      "text/plain": [
       "<matplotlib.figure.Figure at 0x7fcf4faddb90>"
      ]
     },
     "metadata": {},
     "output_type": "display_data"
    }
   ],
   "source": [
    "plt.show()"
   ]
  },
  {
   "cell_type": "code",
   "execution_count": 213,
   "metadata": {
    "collapsed": true
   },
   "outputs": [],
   "source": [
    "import matplotlib.pyplot as plt"
   ]
  },
  {
   "cell_type": "code",
   "execution_count": 214,
   "metadata": {
    "collapsed": true
   },
   "outputs": [],
   "source": [
    "import numpy as np"
   ]
  },
  {
   "cell_type": "code",
   "execution_count": 215,
   "metadata": {},
   "outputs": [],
   "source": [
    "n=np.random.uniform(-1,1,100)            "
   ]
  },
  {
   "cell_type": "code",
   "execution_count": 216,
   "metadata": {
    "collapsed": true
   },
   "outputs": [],
   "source": [
    "m=np.random.uniform(-1,1,100)"
   ]
  },
  {
   "cell_type": "code",
   "execution_count": 217,
   "metadata": {},
   "outputs": [],
   "source": [
    "#plt.plot(n, marker='x', color='r',label='f(x)')"
   ]
  },
  {
   "cell_type": "code",
   "execution_count": 218,
   "metadata": {},
   "outputs": [],
   "source": [
    "#plt.plot(m, marker='o', color='g',label='f(y)')"
   ]
  },
  {
   "cell_type": "code",
   "execution_count": 219,
   "metadata": {},
   "outputs": [],
   "source": [
    "#plt.legend()"
   ]
  },
  {
   "cell_type": "code",
   "execution_count": 220,
   "metadata": {},
   "outputs": [
    {
     "data": {
      "text/plain": [
       "<matplotlib.text.Text at 0x7fcf4e244b50>"
      ]
     },
     "execution_count": 220,
     "metadata": {},
     "output_type": "execute_result"
    }
   ],
   "source": [
    "#plt.xlabel('tiempo')"
   ]
  },
  {
   "cell_type": "code",
   "execution_count": 221,
   "metadata": {},
   "outputs": [
    {
     "data": {
      "text/plain": [
       "<matplotlib.text.Text at 0x7fcf4e065750>"
      ]
     },
     "execution_count": 221,
     "metadata": {},
     "output_type": "execute_result"
    }
   ],
   "source": [
    "#plt.ylabel('Tipo de cambio')"
   ]
  },
  {
   "cell_type": "code",
   "execution_count": 222,
   "metadata": {},
   "outputs": [
    {
     "data": {
      "text/plain": [
       "<matplotlib.text.Text at 0x7fcf4dfe5850>"
      ]
     },
     "execution_count": 222,
     "metadata": {},
     "output_type": "execute_result"
    }
   ],
   "source": [
    "#plt.title('Tipo de cambio historico del dolar')"
   ]
  },
  {
   "cell_type": "code",
   "execution_count": 223,
   "metadata": {},
   "outputs": [],
   "source": [
    "#plt.scatter(n,m)"
   ]
  },
  {
   "cell_type": "code",
   "execution_count": 224,
   "metadata": {},
   "outputs": [
    {
     "data": {
      "text/plain": [
       "([<matplotlib.patches.Wedge at 0x7fcf4df99dd0>,\n",
       "  <matplotlib.patches.Wedge at 0x7fcf4dfaa650>,\n",
       "  <matplotlib.patches.Wedge at 0x7fcf4dfaafd0>,\n",
       "  <matplotlib.patches.Wedge at 0x7fcf4dfb5990>,\n",
       "  <matplotlib.patches.Wedge at 0x7fcf4dfc1350>,\n",
       "  <matplotlib.patches.Wedge at 0x7fcf4dfc1cd0>,\n",
       "  <matplotlib.patches.Wedge at 0x7fcf4df4f690>,\n",
       "  <matplotlib.patches.Wedge at 0x7fcf4df5b050>,\n",
       "  <matplotlib.patches.Wedge at 0x7fcf4df5b9d0>,\n",
       "  <matplotlib.patches.Wedge at 0x7fcf4df68390>,\n",
       "  <matplotlib.patches.Wedge at 0x7fcf4df68d10>,\n",
       "  <matplotlib.patches.Wedge at 0x7fcf4df746d0>,\n",
       "  <matplotlib.patches.Wedge at 0x7fcf4df82090>,\n",
       "  <matplotlib.patches.Wedge at 0x7fcf4df82a10>,\n",
       "  <matplotlib.patches.Wedge at 0x7fcf4df0e3d0>,\n",
       "  <matplotlib.patches.Wedge at 0x7fcf4df0ed50>,\n",
       "  <matplotlib.patches.Wedge at 0x7fcf4df1b710>,\n",
       "  <matplotlib.patches.Wedge at 0x7fcf4df2a0d0>,\n",
       "  <matplotlib.patches.Wedge at 0x7fcf4df2aa50>,\n",
       "  <matplotlib.patches.Wedge at 0x7fcf4df34410>,\n",
       "  <matplotlib.patches.Wedge at 0x7fcf4dfcf1d0>,\n",
       "  <matplotlib.patches.Wedge at 0x7fcf4df42750>,\n",
       "  <matplotlib.patches.Wedge at 0x7fcf4dfd9b10>,\n",
       "  <matplotlib.patches.Wedge at 0x7fcf4dfcf4d0>,\n",
       "  <matplotlib.patches.Wedge at 0x7fcf4e059610>,\n",
       "  <matplotlib.patches.Wedge at 0x7fcf4ded2750>,\n",
       "  <matplotlib.patches.Wedge at 0x7fcf4dedf110>,\n",
       "  <matplotlib.patches.Wedge at 0x7fcf4dedfa90>,\n",
       "  <matplotlib.patches.Wedge at 0x7fcf4deeb450>,\n",
       "  <matplotlib.patches.Wedge at 0x7fcf4deebdd0>,\n",
       "  <matplotlib.patches.Wedge at 0x7fcf4df34d90>,\n",
       "  <matplotlib.patches.Wedge at 0x7fcf4df07150>,\n",
       "  <matplotlib.patches.Wedge at 0x7fcf4df07ad0>,\n",
       "  <matplotlib.patches.Wedge at 0x7fcf4de93490>,\n",
       "  <matplotlib.patches.Wedge at 0x7fcf4de93e10>,\n",
       "  <matplotlib.patches.Wedge at 0x7fcf4dea07d0>,\n",
       "  <matplotlib.patches.Wedge at 0x7fcf4deae190>,\n",
       "  <matplotlib.patches.Wedge at 0x7fcf4deaeb10>,\n",
       "  <matplotlib.patches.Wedge at 0x7fcf4deb94d0>,\n",
       "  <matplotlib.patches.Wedge at 0x7fcf4deb9e50>,\n",
       "  <matplotlib.patches.Wedge at 0x7fcf4def7790>,\n",
       "  <matplotlib.patches.Wedge at 0x7fcf4de541d0>,\n",
       "  <matplotlib.patches.Wedge at 0x7fcf4de54b50>,\n",
       "  <matplotlib.patches.Wedge at 0x7fcf4de61510>,\n",
       "  <matplotlib.patches.Wedge at 0x7fcf4de61e90>,\n",
       "  <matplotlib.patches.Wedge at 0x7fcf4de6d850>,\n",
       "  <matplotlib.patches.Wedge at 0x7fcf4de7b210>,\n",
       "  <matplotlib.patches.Wedge at 0x7fcf4de7bb90>,\n",
       "  <matplotlib.patches.Wedge at 0x7fcf4de08550>,\n",
       "  <matplotlib.patches.Wedge at 0x7fcf4de08ed0>,\n",
       "  <matplotlib.patches.Wedge at 0x7fcf4de48810>,\n",
       "  <matplotlib.patches.Wedge at 0x7fcf4de22250>,\n",
       "  <matplotlib.patches.Wedge at 0x7fcf4de22bd0>,\n",
       "  <matplotlib.patches.Wedge at 0x7fcf4de2d590>,\n",
       "  <matplotlib.patches.Wedge at 0x7fcf4de2df10>,\n",
       "  <matplotlib.patches.Wedge at 0x7fcf4de3b8d0>,\n",
       "  <matplotlib.patches.Wedge at 0x7fcf4ddc9290>,\n",
       "  <matplotlib.patches.Wedge at 0x7fcf4ddc9c10>,\n",
       "  <matplotlib.patches.Wedge at 0x7fcf4ddd45d0>,\n",
       "  <matplotlib.patches.Wedge at 0x7fcf4ddd4f50>,\n",
       "  <matplotlib.patches.Wedge at 0x7fcf4de13890>,\n",
       "  <matplotlib.patches.Wedge at 0x7fcf4dded2d0>,\n",
       "  <matplotlib.patches.Wedge at 0x7fcf4ddedc50>,\n",
       "  <matplotlib.patches.Wedge at 0x7fcf4ddfb610>,\n",
       "  <matplotlib.patches.Wedge at 0x7fcf4ddfbf90>,\n",
       "  <matplotlib.patches.Wedge at 0x7fcf4de07950>,\n",
       "  <matplotlib.patches.Wedge at 0x7fcf4dd95310>,\n",
       "  <matplotlib.patches.Wedge at 0x7fcf4dd95c90>,\n",
       "  <matplotlib.patches.Wedge at 0x7fcf4dda1650>,\n",
       "  <matplotlib.patches.Wedge at 0x7fcf4dda1fd0>,\n",
       "  <matplotlib.patches.Wedge at 0x7fcf4dde2910>,\n",
       "  <matplotlib.patches.Wedge at 0x7fcf4ddbd350>,\n",
       "  <matplotlib.patches.Wedge at 0x7fcf4ddbdcd0>,\n",
       "  <matplotlib.patches.Wedge at 0x7fcf4dd48690>,\n",
       "  <matplotlib.patches.Wedge at 0x7fcf4dd57050>,\n",
       "  <matplotlib.patches.Wedge at 0x7fcf4dd579d0>,\n",
       "  <matplotlib.patches.Wedge at 0x7fcf4dd63390>,\n",
       "  <matplotlib.patches.Wedge at 0x7fcf4dd63d10>,\n",
       "  <matplotlib.patches.Wedge at 0x7fcf4dd6f6d0>,\n",
       "  <matplotlib.patches.Wedge at 0x7fcf4dd7c090>,\n",
       "  <matplotlib.patches.Wedge at 0x7fcf4ddaf990>,\n",
       "  <matplotlib.patches.Wedge at 0x7fcf4dd093d0>,\n",
       "  <matplotlib.patches.Wedge at 0x7fcf4dd09d50>,\n",
       "  <matplotlib.patches.Wedge at 0x7fcf4dd14710>,\n",
       "  <matplotlib.patches.Wedge at 0x7fcf4dd230d0>,\n",
       "  <matplotlib.patches.Wedge at 0x7fcf4dd23a50>,\n",
       "  <matplotlib.patches.Wedge at 0x7fcf4dd31410>,\n",
       "  <matplotlib.patches.Wedge at 0x7fcf4dd31d90>,\n",
       "  <matplotlib.patches.Wedge at 0x7fcf4dd3b750>,\n",
       "  <matplotlib.patches.Wedge at 0x7fcf4dcca110>,\n",
       "  <matplotlib.patches.Wedge at 0x7fcf4dd7ca10>,\n",
       "  <matplotlib.patches.Wedge at 0x7fcf4dcd6450>,\n",
       "  <matplotlib.patches.Wedge at 0x7fcf4dcd6dd0>,\n",
       "  <matplotlib.patches.Wedge at 0x7fcf4dce2790>,\n",
       "  <matplotlib.patches.Wedge at 0x7fcf4dcef150>,\n",
       "  <matplotlib.patches.Wedge at 0x7fcf4dcefad0>,\n",
       "  <matplotlib.patches.Wedge at 0x7fcf4dcfc490>,\n",
       "  <matplotlib.patches.Wedge at 0x7fcf4dcfce10>,\n",
       "  <matplotlib.patches.Wedge at 0x7fcf4dc887d0>,\n",
       "  <matplotlib.patches.Wedge at 0x7fcf4dc96190>],\n",
       " [<matplotlib.text.Text at 0x7fcf4dfaa410>,\n",
       "  <matplotlib.text.Text at 0x7fcf4dfaac50>,\n",
       "  <matplotlib.text.Text at 0x7fcf4dfb5610>,\n",
       "  <matplotlib.text.Text at 0x7fcf4dfb5f90>,\n",
       "  <matplotlib.text.Text at 0x7fcf4dfc1950>,\n",
       "  <matplotlib.text.Text at 0x7fcf4df4f310>,\n",
       "  <matplotlib.text.Text at 0x7fcf4df4fc90>,\n",
       "  <matplotlib.text.Text at 0x7fcf4df5b650>,\n",
       "  <matplotlib.text.Text at 0x7fcf4df5bfd0>,\n",
       "  <matplotlib.text.Text at 0x7fcf4df68990>,\n",
       "  <matplotlib.text.Text at 0x7fcf4df74350>,\n",
       "  <matplotlib.text.Text at 0x7fcf4df74cd0>,\n",
       "  <matplotlib.text.Text at 0x7fcf4df82690>,\n",
       "  <matplotlib.text.Text at 0x7fcf4df82f50>,\n",
       "  <matplotlib.text.Text at 0x7fcf4df0e9d0>,\n",
       "  <matplotlib.text.Text at 0x7fcf4df1b390>,\n",
       "  <matplotlib.text.Text at 0x7fcf4df1bd10>,\n",
       "  <matplotlib.text.Text at 0x7fcf4df2a6d0>,\n",
       "  <matplotlib.text.Text at 0x7fcf4df2af90>,\n",
       "  <matplotlib.text.Text at 0x7fcf4df34a10>,\n",
       "  <matplotlib.text.Text at 0x7fcf4df423d0>,\n",
       "  <matplotlib.text.Text at 0x7fcf4df42d50>,\n",
       "  <matplotlib.text.Text at 0x7fcf4e168fd0>,\n",
       "  <matplotlib.text.Text at 0x7fcf4e065d90>,\n",
       "  <matplotlib.text.Text at 0x7fcf4ded23d0>,\n",
       "  <matplotlib.text.Text at 0x7fcf4ded2d50>,\n",
       "  <matplotlib.text.Text at 0x7fcf4dedf710>,\n",
       "  <matplotlib.text.Text at 0x7fcf4dedffd0>,\n",
       "  <matplotlib.text.Text at 0x7fcf4deeba50>,\n",
       "  <matplotlib.text.Text at 0x7fcf4def7410>,\n",
       "  <matplotlib.text.Text at 0x7fcf4def7d90>,\n",
       "  <matplotlib.text.Text at 0x7fcf4df07750>,\n",
       "  <matplotlib.text.Text at 0x7fcf4de93110>,\n",
       "  <matplotlib.text.Text at 0x7fcf4de93a90>,\n",
       "  <matplotlib.text.Text at 0x7fcf4dea0450>,\n",
       "  <matplotlib.text.Text at 0x7fcf4dea0dd0>,\n",
       "  <matplotlib.text.Text at 0x7fcf4deae790>,\n",
       "  <matplotlib.text.Text at 0x7fcf4deb9150>,\n",
       "  <matplotlib.text.Text at 0x7fcf4deb9ad0>,\n",
       "  <matplotlib.text.Text at 0x7fcf4de48490>,\n",
       "  <matplotlib.text.Text at 0x7fcf4de48e10>,\n",
       "  <matplotlib.text.Text at 0x7fcf4de547d0>,\n",
       "  <matplotlib.text.Text at 0x7fcf4de61190>,\n",
       "  <matplotlib.text.Text at 0x7fcf4de61b10>,\n",
       "  <matplotlib.text.Text at 0x7fcf4de6d4d0>,\n",
       "  <matplotlib.text.Text at 0x7fcf4de6de50>,\n",
       "  <matplotlib.text.Text at 0x7fcf4de7b810>,\n",
       "  <matplotlib.text.Text at 0x7fcf4de081d0>,\n",
       "  <matplotlib.text.Text at 0x7fcf4de08b50>,\n",
       "  <matplotlib.text.Text at 0x7fcf4de13510>,\n",
       "  <matplotlib.text.Text at 0x7fcf4de13e90>,\n",
       "  <matplotlib.text.Text at 0x7fcf4de22850>,\n",
       "  <matplotlib.text.Text at 0x7fcf4de2d210>,\n",
       "  <matplotlib.text.Text at 0x7fcf4de2db90>,\n",
       "  <matplotlib.text.Text at 0x7fcf4de3b550>,\n",
       "  <matplotlib.text.Text at 0x7fcf4de3bed0>,\n",
       "  <matplotlib.text.Text at 0x7fcf4ddc9890>,\n",
       "  <matplotlib.text.Text at 0x7fcf4ddd4250>,\n",
       "  <matplotlib.text.Text at 0x7fcf4ddd4bd0>,\n",
       "  <matplotlib.text.Text at 0x7fcf4dde2590>,\n",
       "  <matplotlib.text.Text at 0x7fcf4dde2f10>,\n",
       "  <matplotlib.text.Text at 0x7fcf4dded8d0>,\n",
       "  <matplotlib.text.Text at 0x7fcf4ddfb290>,\n",
       "  <matplotlib.text.Text at 0x7fcf4ddfbc10>,\n",
       "  <matplotlib.text.Text at 0x7fcf4de075d0>,\n",
       "  <matplotlib.text.Text at 0x7fcf4de07f50>,\n",
       "  <matplotlib.text.Text at 0x7fcf4dd95910>,\n",
       "  <matplotlib.text.Text at 0x7fcf4dda12d0>,\n",
       "  <matplotlib.text.Text at 0x7fcf4dda1c50>,\n",
       "  <matplotlib.text.Text at 0x7fcf4ddaf610>,\n",
       "  <matplotlib.text.Text at 0x7fcf4ddaff90>,\n",
       "  <matplotlib.text.Text at 0x7fcf4ddbd950>,\n",
       "  <matplotlib.text.Text at 0x7fcf4dd48310>,\n",
       "  <matplotlib.text.Text at 0x7fcf4dd48c90>,\n",
       "  <matplotlib.text.Text at 0x7fcf4dd57650>,\n",
       "  <matplotlib.text.Text at 0x7fcf4dd57fd0>,\n",
       "  <matplotlib.text.Text at 0x7fcf4dd63990>,\n",
       "  <matplotlib.text.Text at 0x7fcf4dd6f350>,\n",
       "  <matplotlib.text.Text at 0x7fcf4dd6fcd0>,\n",
       "  <matplotlib.text.Text at 0x7fcf4dd7c690>,\n",
       "  <matplotlib.text.Text at 0x7fcf4dd7cf50>,\n",
       "  <matplotlib.text.Text at 0x7fcf4dd099d0>,\n",
       "  <matplotlib.text.Text at 0x7fcf4dd14390>,\n",
       "  <matplotlib.text.Text at 0x7fcf4dd14d10>,\n",
       "  <matplotlib.text.Text at 0x7fcf4dd236d0>,\n",
       "  <matplotlib.text.Text at 0x7fcf4dd23f90>,\n",
       "  <matplotlib.text.Text at 0x7fcf4dd31a10>,\n",
       "  <matplotlib.text.Text at 0x7fcf4dd3b3d0>,\n",
       "  <matplotlib.text.Text at 0x7fcf4dd3bd50>,\n",
       "  <matplotlib.text.Text at 0x7fcf4dcca710>,\n",
       "  <matplotlib.text.Text at 0x7fcf4dccafd0>,\n",
       "  <matplotlib.text.Text at 0x7fcf4dcd6a50>,\n",
       "  <matplotlib.text.Text at 0x7fcf4dce2410>,\n",
       "  <matplotlib.text.Text at 0x7fcf4dce2d90>,\n",
       "  <matplotlib.text.Text at 0x7fcf4dcef750>,\n",
       "  <matplotlib.text.Text at 0x7fcf4dcfc110>,\n",
       "  <matplotlib.text.Text at 0x7fcf4dcfca90>,\n",
       "  <matplotlib.text.Text at 0x7fcf4dc88450>,\n",
       "  <matplotlib.text.Text at 0x7fcf4dc88dd0>,\n",
       "  <matplotlib.text.Text at 0x7fcf4dc96790>])"
      ]
     },
     "execution_count": 224,
     "metadata": {},
     "output_type": "execute_result"
    }
   ],
   "source": [
    "#plt.hist(n)\n",
    "plt.pie(n)"
   ]
  },
  {
   "cell_type": "code",
   "execution_count": 225,
   "metadata": {},
   "outputs": [
    {
     "data": {
      "image/png": "[encoded data removed]",
      "text/plain": [
       "<matplotlib.figure.Figure at 0x7fcf4e016790>"
      ]
     },
     "metadata": {},
     "output_type": "display_data"
    }
   ],
   "source": [
    "plt.show()"
   ]
  },
  {
   "cell_type": "code",
   "execution_count": null,
   "metadata": {
    "collapsed": true
   },
   "outputs": [],
   "source": []
  },
  {
   "cell_type": "code",
   "execution_count": 255,
   "metadata": {},
   "outputs": [],
   "source": [
    "import matplotlib.pyplot as plt"
   ]
  },
  {
   "cell_type": "code",
   "execution_count": 249,
   "metadata": {
    "collapsed": true
   },
   "outputs": [],
   "source": [
    "import numpy as np"
   ]
  },
  {
   "cell_type": "code",
   "execution_count": 237,
   "metadata": {
    "collapsed": true
   },
   "outputs": [],
   "source": [
    "n=np.random.uniform(-1,1,100)"
   ]
  },
  {
   "cell_type": "code",
   "execution_count": 256,
   "metadata": {
    "collapsed": true
   },
   "outputs": [],
   "source": [
    "labels='Frogs','Hogs','Dogs','Logs'"
   ]
  },
  {
   "cell_type": "code",
   "execution_count": 257,
   "metadata": {
    "collapsed": true
   },
   "outputs": [],
   "source": [
    "sizes=[15,30,45,10]"
   ]
  },
  {
   "cell_type": "code",
   "execution_count": 258,
   "metadata": {
    "collapsed": true
   },
   "outputs": [],
   "source": [
    "colors=['yellowgreen','gold','lightskyblue','lightcoral']"
   ]
  },
  {
   "cell_type": "code",
   "execution_count": 259,
   "metadata": {
    "collapsed": true
   },
   "outputs": [],
   "source": [
    "explode=(0,0.1,0,0.1)  #only explode the second silce (ie hogs)"
   ]
  },
  {
   "cell_type": "code",
   "execution_count": 260,
   "metadata": {},
   "outputs": [
    {
     "data": {
      "text/plain": [
       "([<matplotlib.patches.Wedge at 0x7fcf4db20a10>,\n",
       "  <matplotlib.patches.Wedge at 0x7fcf4db33c10>,\n",
       "  <matplotlib.patches.Wedge at 0x7fcf4db40e10>,\n",
       "  <matplotlib.patches.Wedge at 0x7fcf4dada150>],\n",
       " [<matplotlib.text.Text at 0x7fcf4db33410>,\n",
       "  <matplotlib.text.Text at 0x7fcf4db40690>,\n",
       "  <matplotlib.text.Text at 0x7fcf4dace890>,\n",
       "  <matplotlib.text.Text at 0x7fcf4dadab90>],\n",
       " [<matplotlib.text.Text at 0x7fcf4db33810>,\n",
       "  <matplotlib.text.Text at 0x7fcf4db40a10>,\n",
       "  <matplotlib.text.Text at 0x7fcf4dacecd0>,\n",
       "  <matplotlib.text.Text at 0x7fcf4dadafd0>])"
      ]
     },
     "execution_count": 260,
     "metadata": {},
     "output_type": "execute_result"
    }
   ],
   "source": [
    "plt.pie(sizes,explode=explode,labels=labels,colors=colors,\n",
    "       autopct='%1.1f%%', shadow=True, startangle=90)"
   ]
  },
  {
   "cell_type": "code",
   "execution_count": 261,
   "metadata": {},
   "outputs": [
    {
     "data": {
      "image/png": "[encoded data removed]",
      "text/plain": [
       "<matplotlib.figure.Figure at 0x7fcf4dcc6150>"
      ]
     },
     "metadata": {},
     "output_type": "display_data"
    }
   ],
   "source": [
    "plt.show()"
   ]
  },
  {
   "cell_type": "code",
   "execution_count": null,
   "metadata": {
    "collapsed": true
   },
   "outputs": [],
   "source": []
  },
  {
   "cell_type": "code",
   "execution_count": null,
   "metadata": {
    "collapsed": true
   },
   "outputs": [],
   "source": []
  },
  {
   "cell_type": "code",
   "execution_count": 297,
   "metadata": {
    "collapsed": true
   },
   "outputs": [],
   "source": [
    "import matplotlib.pyplot as plt"
   ]
  },
  {
   "cell_type": "code",
   "execution_count": 298,
   "metadata": {
    "collapsed": true
   },
   "outputs": [],
   "source": [
    "import numpy as np"
   ]
  },
  {
   "cell_type": "code",
   "execution_count": 299,
   "metadata": {
    "collapsed": true
   },
   "outputs": [],
   "source": [
    "n=np.random.uniform(-1,1,100)"
   ]
  },
  {
   "cell_type": "code",
   "execution_count": 300,
   "metadata": {
    "collapsed": true
   },
   "outputs": [],
   "source": [
    "m=np.random.uniform(-1,1,100)"
   ]
  },
  {
   "cell_type": "code",
   "execution_count": 301,
   "metadata": {},
   "outputs": [
    {
     "data": {
      "text/plain": [
       "<matplotlib.axes._subplots.AxesSubplot at 0x7fcf4d5e0ed0>"
      ]
     },
     "execution_count": 301,
     "metadata": {},
     "output_type": "execute_result"
    }
   ],
   "source": [
    "plt.subplot(2,2,1)"
   ]
  },
  {
   "cell_type": "code",
   "execution_count": 302,
   "metadata": {},
   "outputs": [
    {
     "data": {
      "text/plain": [
       "[<matplotlib.lines.Line2D at 0x7fcf4d5740d0>]"
      ]
     },
     "execution_count": 302,
     "metadata": {},
     "output_type": "execute_result"
    }
   ],
   "source": [
    "plt.plot(n, marker='x', color='r',label='f(x)')"
   ]
  },
  {
   "cell_type": "code",
   "execution_count": 303,
   "metadata": {},
   "outputs": [
    {
     "data": {
      "text/plain": [
       "[<matplotlib.lines.Line2D at 0x7fcf4d574890>]"
      ]
     },
     "execution_count": 303,
     "metadata": {},
     "output_type": "execute_result"
    }
   ],
   "source": [
    "plt.plot(m, marker='o', color='g',label='f(y)')"
   ]
  },
  {
   "cell_type": "code",
   "execution_count": 304,
   "metadata": {},
   "outputs": [
    {
     "data": {
      "text/plain": [
       "<matplotlib.legend.Legend at 0x7fcf4d574050>"
      ]
     },
     "execution_count": 304,
     "metadata": {},
     "output_type": "execute_result"
    }
   ],
   "source": [
    "plt.legend()"
   ]
  },
  {
   "cell_type": "code",
   "execution_count": 305,
   "metadata": {},
   "outputs": [
    {
     "data": {
      "text/plain": [
       "<matplotlib.text.Text at 0x7fcf4d5f2d90>"
      ]
     },
     "execution_count": 305,
     "metadata": {},
     "output_type": "execute_result"
    }
   ],
   "source": [
    "plt.xlabel('tiempo')"
   ]
  },
  {
   "cell_type": "code",
   "execution_count": 306,
   "metadata": {},
   "outputs": [
    {
     "data": {
      "text/plain": [
       "<matplotlib.text.Text at 0x7fcf4d604c10>"
      ]
     },
     "execution_count": 306,
     "metadata": {},
     "output_type": "execute_result"
    }
   ],
   "source": [
    "plt.ylabel('Tipo de cambio')"
   ]
  },
  {
   "cell_type": "code",
   "execution_count": 307,
   "metadata": {},
   "outputs": [
    {
     "data": {
      "text/plain": [
       "<matplotlib.text.Text at 0x7fcf4d5b9390>"
      ]
     },
     "execution_count": 307,
     "metadata": {},
     "output_type": "execute_result"
    }
   ],
   "source": [
    "plt.title('Tipo de cambio historico del dolar')"
   ]
  },
  {
   "cell_type": "code",
   "execution_count": 308,
   "metadata": {},
   "outputs": [
    {
     "data": {
      "text/plain": [
       "<matplotlib.axes._subplots.AxesSubplot at 0x7fcf4d5801d0>"
      ]
     },
     "execution_count": 308,
     "metadata": {},
     "output_type": "execute_result"
    }
   ],
   "source": [
    "plt.subplot(2,2,2)"
   ]
  },
  {
   "cell_type": "code",
   "execution_count": 309,
   "metadata": {},
   "outputs": [
    {
     "data": {
      "text/plain": [
       "<matplotlib.collections.PathCollection at 0x7fcf4d566ed0>"
      ]
     },
     "execution_count": 309,
     "metadata": {},
     "output_type": "execute_result"
    }
   ],
   "source": [
    "plt.scatter(n,m)"
   ]
  },
  {
   "cell_type": "code",
   "execution_count": 310,
   "metadata": {},
   "outputs": [
    {
     "data": {
      "text/plain": [
       "<matplotlib.axes._subplots.AxesSubplot at 0x7fcf4d501a50>"
      ]
     },
     "execution_count": 310,
     "metadata": {},
     "output_type": "execute_result"
    }
   ],
   "source": [
    "plt.subplot(2,2,3)"
   ]
  },
  {
   "cell_type": "code",
   "execution_count": 311,
   "metadata": {},
   "outputs": [
    {
     "data": {
      "text/plain": [
       "(array([ 11.,  12.,   7.,   8.,  10.,  11.,   6.,  12.,  11.,  12.]),\n",
       " array([-0.99759459, -0.80151026, -0.60542594, -0.40934161, -0.21325728,\n",
       "        -0.01717296,  0.17891137,  0.3749957 ,  0.57108002,  0.76716435,\n",
       "         0.96324868]),\n",
       " <a list of 10 Patch objects>)"
      ]
     },
     "execution_count": 311,
     "metadata": {},
     "output_type": "execute_result"
    }
   ],
   "source": [
    "plt.hist(n)"
   ]
  },
  {
   "cell_type": "code",
   "execution_count": 312,
   "metadata": {},
   "outputs": [
    {
     "data": {
      "text/plain": [
       "<matplotlib.axes._subplots.AxesSubplot at 0x7fcf4d762290>"
      ]
     },
     "execution_count": 312,
     "metadata": {},
     "output_type": "execute_result"
    }
   ],
   "source": [
    "plt.subplot(2,2,4)"
   ]
  },
  {
   "cell_type": "code",
   "execution_count": 313,
   "metadata": {
    "collapsed": true
   },
   "outputs": [],
   "source": [
    "labels='Frogs','Hogs','Dogs','Logs'"
   ]
  },
  {
   "cell_type": "code",
   "execution_count": 314,
   "metadata": {
    "collapsed": true
   },
   "outputs": [],
   "source": [
    "sizes=[15,30,45,10]"
   ]
  },
  {
   "cell_type": "code",
   "execution_count": 315,
   "metadata": {
    "collapsed": true
   },
   "outputs": [],
   "source": [
    "colors=['yellowgreen','gold','lightskyblue','lightcoral']"
   ]
  },
  {
   "cell_type": "code",
   "execution_count": 316,
   "metadata": {
    "collapsed": true
   },
   "outputs": [],
   "source": [
    "explode=(0,0.1,0,0.1)  #only explode the second silce (ie hogs)"
   ]
  },
  {
   "cell_type": "code",
   "execution_count": 317,
   "metadata": {},
   "outputs": [
    {
     "data": {
      "text/plain": [
       "([<matplotlib.patches.Wedge at 0x7fcf4d41e790>,\n",
       "  <matplotlib.patches.Wedge at 0x7fcf4d43bd10>,\n",
       "  <matplotlib.patches.Wedge at 0x7fcf4d3d1050>,\n",
       "  <matplotlib.patches.Wedge at 0x7fcf4d3de350>],\n",
       " [<matplotlib.text.Text at 0x7fcf4d43b450>,\n",
       "  <matplotlib.text.Text at 0x7fcf4d444790>,\n",
       "  <matplotlib.text.Text at 0x7fcf4d3d1a90>,\n",
       "  <matplotlib.text.Text at 0x7fcf4d3ded90>],\n",
       " [<matplotlib.text.Text at 0x7fcf4d43b8d0>,\n",
       "  <matplotlib.text.Text at 0x7fcf4d444bd0>,\n",
       "  <matplotlib.text.Text at 0x7fcf4d3d1ed0>,\n",
       "  <matplotlib.text.Text at 0x7fcf4d3eb210>])"
      ]
     },
     "execution_count": 317,
     "metadata": {},
     "output_type": "execute_result"
    }
   ],
   "source": [
    "plt.pie(sizes,explode=explode,labels=labels,colors=colors,\n",
    "       autopct='%1.1f%%', shadow=True, startangle=90)"
   ]
  },
  {
   "cell_type": "code",
   "execution_count": 318,
   "metadata": {},
   "outputs": [
    {
     "data": {
      "image/png": "[encoded data removed]",
      "text/plain": [
       "<matplotlib.figure.Figure at 0x7fcf4d6e7610>"
      ]
     },
     "metadata": {},
     "output_type": "display_data"
    }
   ],
   "source": [
    "plt.show()"
   ]
  },
  {
   "cell_type": "code",
   "execution_count": null,
   "metadata": {
    "collapsed": true
   },
   "outputs": [],
   "source": []
  }
 ],
 "metadata": {
  "kernelspec": {
   "display_name": "Python 2",
   "language": "python",
   "name": "python2"
  },
  "language_info": {
   "codemirror_mode": {
    "name": "ipython",
    "version": 2
   },
   "file_extension": ".py",
   "mimetype": "text/x-python",
   "name": "python",
   "nbconvert_exporter": "python",
   "pygments_lexer": "ipython2",
   "version": "2.7.13"
  }
 },
 "nbformat": 4,
 "nbformat_minor": 2
}
