{
 "cells": [
  {
   "cell_type": "markdown",
   "metadata": {},
   "source": [
    "# Algoritmo Naive Bayes\n",
    "#\n",
    "# https://www.analyticsvidhya.com/blog/2015/09/naive-bayes-explained/\n",
    "# ham = correos OK\n",
    "# spam = basura\n"
   ]
  },
  {
   "cell_type": "code",
   "execution_count": 21,
   "metadata": {
    "collapsed": false
   },
   "outputs": [],
   "source": [
    "#\n"
   ]
  },
  {
   "cell_type": "code",
   "execution_count": 22,
   "metadata": {
    "collapsed": false
   },
   "outputs": [],
   "source": [
    "import os\n",
    "import io\n",
    "import numpy\n",
    "from pandas import DataFrame\n",
    "from sklearn.feature_extraction.text import CountVectorizer\n",
    "from sklearn.naive_bayes import MultinomialNB\n",
    "\n",
    "def readFiles(path):\n",
    "    for root, dirnames, filenames in os.walk(path):\n",
    "        for filename in filenames:\n",
    "            path = os.path.join(root, filename)\n",
    "\n",
    "            inBody = False\n",
    "            lines = []\n",
    "            f = io.open(path, 'r', encoding='latin1')\n",
    "            for line in f:\n",
    "                if inBody:\n",
    "                    lines.append(line)\n",
    "                elif line == '\\n':\n",
    "                    inBody = True\n",
    "            f.close()\n",
    "            message = '\\n'.join(lines)\n",
    "            yield path, message\n",
    "\n",
    "\n",
    "def dataFrameFromDirectory(path, classification):\n",
    "    rows = []\n",
    "    index = []\n",
    "    for filename, message in readFiles(path):\n",
    "        rows.append({'message': message, 'class': classification})\n",
    "        index.append(filename)\n",
    "\n",
    "    return DataFrame(rows, index=index)\n",
    "\n",
    "data = DataFrame({'message': [], 'class': []})\n",
    "\n",
    "data = DataFrame({'message': [], 'class': []})\n",
    "\n",
    "data = data.append(dataFrameFromDirectory('emails/spam','spam'))\n",
    "data = data.append(dataFrameFromDirectory('emails/ham','ham'))\n"
   ]
  },
  {
   "cell_type": "code",
   "execution_count": 24,
   "metadata": {
    "collapsed": false
   },
   "outputs": [
    {
     "data": {
      "text/plain": [
       "<bound method NDFrame.head of                                                    class  \\\n",
       "emails/spam/00001.7848dde101aa985090474a91ec93fcf0  spam   \n",
       "emails/spam/00002.d94f1b97e48ed3b553b3508d116e6a09  spam   \n",
       "emails/spam/00003.2ee33bc6eacdb11f38d052c44819ba6c  spam   \n",
       "emails/spam/00004.eac8de8d759b7e74154f142194282724  spam   \n",
       "emails/spam/00005.57696a39d7d84318ce497886896bf90d  spam   \n",
       "emails/spam/00006.5ab5620d3d7c6c0db76234556a16f6c1  spam   \n",
       "emails/spam/00007.d8521faf753ff9ee989122f6816f87d7  spam   \n",
       "emails/spam/00008.dfd941deb10f5eed78b1594b131c9266  spam   \n",
       "emails/spam/00009.027bf6e0b0c4ab34db3ce0ea4bf2edab  spam   \n",
       "emails/spam/00010.445affef4c70feec58f9198cfbc22997  spam   \n",
       "emails/spam/00011.61816b9ad167657773a427d890d0468e  spam   \n",
       "emails/spam/00012.381e4f512915109ba1e0853a7a8407b2  spam   \n",
       "emails/spam/00013.d3f0b591a65f116ea5d9d4ad919f83aa  spam   \n",
       "emails/spam/00014.7d38c46424f24fc8012ac15a95a2ac14  spam   \n",
       "emails/spam/00015.048434ab64c86cf890eda1326a5643f5  spam   \n",
       "emails/spam/00016.67fb281761ca1051a22ec3f21917e7c0  spam   \n",
       "emails/spam/00017.1a938ecddd047b93cbd7ed92c241e6d1  spam   \n",
       "emails/spam/00018.5b2765c42b7648d41c93b9b27140b23a  spam   \n",
       "emails/spam/00019.bbc97ad616ffd06e93ce0f821ca8c381  spam   \n",
       "emails/spam/00020.29725cf331fc21e18a1809e7d8b27332  spam   \n",
       "emails/spam/00021.effe1449462a9d7ad7af0f1c94b1a237  spam   \n",
       "emails/spam/00022.8203cdf03888f656dc0381701148f73d  spam   \n",
       "emails/spam/00023.b6d27c684f5fc803cfa1060adb2d0805  spam   \n",
       "emails/spam/00024.6b5437b14d403176c3f046c871b5b52f  spam   \n",
       "emails/spam/00025.619ab8051359048795e3cd09e82ad1a0  spam   \n",
       "emails/spam/00026.da18dbed27ae933172f7a70f860c6ad0  spam   \n",
       "emails/spam/00027.d1d0f97e096fe08fc80a4939355759e7  spam   \n",
       "emails/spam/00028.ace98eff213f4e6314b5571aece625e1  spam   \n",
       "emails/spam/00029.de865ad8d5ad0df985ae2f72388befba  spam   \n",
       "emails/spam/00030.0c9cdd9d4025bd55dac02719ec8d29dc  spam   \n",
       "...                                                  ...   \n",
       "emails/ham/02471.18281d43dc0775e915267c2ea5170f1f    ham   \n",
       "emails/ham/02472.5c879dd55c3d4171e1787e8529bbd7e1    ham   \n",
       "emails/ham/02473.207afa13ad7d745dfd1344f84531ac16    ham   \n",
       "emails/ham/02474.c76ffef81a2529389e6c3bbb172184d7    ham   \n",
       "emails/ham/02475.9277ee243e3f51fa53ed6be55798d360    ham   \n",
       "emails/ham/02476.de1d459426662492dd1235046b504c3d    ham   \n",
       "emails/ham/02477.07b2069e9827cfd6f97d07eea2913d57    ham   \n",
       "emails/ham/02478.40723f38488bddaf5a24ef2a91679c75    ham   \n",
       "emails/ham/02479.14365bcad3a60fcf24c5c1813f6291fb    ham   \n",
       "emails/ham/02480.72714df60c9be29d6f7985c777cbfc13    ham   \n",
       "emails/ham/02481.176b368fe4b90682f33647d65a8b97a3    ham   \n",
       "emails/ham/02482.35c166ec6a85e108ad693ea43329762f    ham   \n",
       "emails/ham/02483.ab1bee02c10ddecc0e86c39eaebc2996    ham   \n",
       "emails/ham/02484.32a0bca2600788be144b93cae341efbf    ham   \n",
       "emails/ham/02485.ba9aebbdbec0d9fecec595eeebe5db87    ham   \n",
       "emails/ham/02486.bdf90e871b673fd14f47f3fe36622742    ham   \n",
       "emails/ham/02487.c2e725d509201dc30debb7bd94d07f5e    ham   \n",
       "emails/ham/02488.68fed64ff8169f1505b74080bb7b6158    ham   \n",
       "emails/ham/02489.85c20a6f9d75714d9f44398baeddd416    ham   \n",
       "emails/ham/02490.7be0f683db6994ddd8445cdcc2eb5042    ham   \n",
       "emails/ham/02491.c26245be2a5096fa86647d594561c511    ham   \n",
       "emails/ham/02492.6aede44f654a1bbc60c95c7dd770e624    ham   \n",
       "emails/ham/02493.f9f2870094430b7db8b0c1052b302cf1    ham   \n",
       "emails/ham/02494.a14f2d3a9bef3f59aa419b03aee8f871    ham   \n",
       "emails/ham/02495.5064946e77b3046873da91fc47656465    ham   \n",
       "emails/ham/02496.aae0c81581895acfe65323f344340856    ham   \n",
       "emails/ham/02497.60497db0a06c2132ec2374b2898084d3    ham   \n",
       "emails/ham/02498.09835f512f156da210efb99fcc523e21    ham   \n",
       "emails/ham/02499.b4af165650f138b10f9941f6cc5bce3c    ham   \n",
       "emails/ham/02500.05b3496ce7bca306bed0805425ec8621    ham   \n",
       "\n",
       "                                                                                              message  \n",
       "emails/spam/00001.7848dde101aa985090474a91ec93fcf0  <!DOCTYPE HTML PUBLIC \"-//W3C//DTD HTML 4.0 Tr...  \n",
       "emails/spam/00002.d94f1b97e48ed3b553b3508d116e6a09  1) Fight The Risk of Cancer!\\n\\nhttp://www.adc...  \n",
       "emails/spam/00003.2ee33bc6eacdb11f38d052c44819ba6c  1) Fight The Risk of Cancer!\\n\\nhttp://www.adc...  \n",
       "emails/spam/00004.eac8de8d759b7e74154f142194282724  ##############################################...  \n",
       "emails/spam/00005.57696a39d7d84318ce497886896bf90d  I thought you might like these:\\n\\n1) Slim Dow...  \n",
       "emails/spam/00006.5ab5620d3d7c6c0db76234556a16f6c1  A POWERHOUSE GIFTING PROGRAM You Don't Want To...  \n",
       "emails/spam/00007.d8521faf753ff9ee989122f6816f87d7  Help wanted.  We are a 14 year old fortune 500...  \n",
       "emails/spam/00008.dfd941deb10f5eed78b1594b131c9266  <html>\\n\\n<head>\\n\\n<title>ReliaQuote - Save U...  \n",
       "emails/spam/00009.027bf6e0b0c4ab34db3ce0ea4bf2edab  TIRED OF THE BULL OUT THERE?\\n\\nWant To Stop L...  \n",
       "emails/spam/00010.445affef4c70feec58f9198cfbc22997  Dear ricardo1 ,\\n\\n\\n\\n<html>\\n\\n<body>\\n\\n<ce...  \n",
       "emails/spam/00011.61816b9ad167657773a427d890d0468e  Cellular Phone Accessories All At Below Wholes...  \n",
       "emails/spam/00012.381e4f512915109ba1e0853a7a8407b2  <table width=\"600\" border=\"20\" align=\"center\" ...  \n",
       "emails/spam/00013.d3f0b591a65f116ea5d9d4ad919f83aa  1) Fight The Risk of Cancer!\\n\\nhttp://www.adc...  \n",
       "emails/spam/00014.7d38c46424f24fc8012ac15a95a2ac14  <HTML><HEAD><TITLE>FREE Motorola Cell Phone wi...  \n",
       "emails/spam/00015.048434ab64c86cf890eda1326a5643f5  <HTML><HEAD><TITLE>Lowest Rate Services</TITLE...  \n",
       "emails/spam/00016.67fb281761ca1051a22ec3f21917e7c0  \\n\\n\\n\\nWant to watch Sporting Events?--Movies...  \n",
       "emails/spam/00017.1a938ecddd047b93cbd7ed92c241e6d1  Help wanted.  We are a 14 year old fortune 500...  \n",
       "emails/spam/00018.5b2765c42b7648d41c93b9b27140b23a  DEAR FRIEND,I AM MRS.  SESE-SEKO WIDOW OF LATE...  \n",
       "emails/spam/00019.bbc97ad616ffd06e93ce0f821ca8c381  Lowest rates available for term life insurance...  \n",
       "emails/spam/00020.29725cf331fc21e18a1809e7d8b27332  1) Fight The Risk of Cancer!\\n\\nhttp://www.adc...  \n",
       "emails/spam/00021.effe1449462a9d7ad7af0f1c94b1a237  CENTRAL BANK OF NIGERIA\\n\\nFOREIGN REMITTANCE ...  \n",
       "emails/spam/00022.8203cdf03888f656dc0381701148f73d  --===_SecAtt_000_1fheucnqggtggp\\n\\nContent-Typ...  \n",
       "emails/spam/00023.b6d27c684f5fc803cfa1060adb2d0805  ------=_NextPart_000_00B2_83B03D1E.C6530E24\\n\\...  \n",
       "emails/spam/00024.6b5437b14d403176c3f046c871b5b52f  This is a multi-part message in MIME format.\\n...  \n",
       "emails/spam/00025.619ab8051359048795e3cd09e82ad1a0  <HTML><HEAD>\\n\\n<META http-equiv=3DContent-Typ...  \n",
       "emails/spam/00026.da18dbed27ae933172f7a70f860c6ad0  DEAR FRIEND,I AM MRS.  SESE-SEKO WIDOW OF LATE...  \n",
       "emails/spam/00027.d1d0f97e096fe08fc80a4939355759e7  1) Fight The Risk of Cancer!\\n\\nhttp://www.adc...  \n",
       "emails/spam/00028.ace98eff213f4e6314b5571aece625e1  <HTML><HEAD><TITLE>MILFhunter</TITLE>\\n\\n<META...  \n",
       "emails/spam/00029.de865ad8d5ad0df985ae2f72388befba  <html>\\n\\n<head>\\n\\n</head>\\n\\n<body>\\n\\n\\n\\n<...  \n",
       "emails/spam/00030.0c9cdd9d4025bd55dac02719ec8d29dc  <html>\\n\\n\\n\\n<head>\\n\\n<meta http-equiv=3D\"Co...  \n",
       "...                                                                                               ...  \n",
       "emails/ham/02471.18281d43dc0775e915267c2ea5170f1f   This is possible, however using SA as a block ...  \n",
       "emails/ham/02472.5c879dd55c3d4171e1787e8529bbd7e1   \\n\\n--- Martin Adamson <martin@srv0.ems.ed.ac....  \n",
       "emails/ham/02473.207afa13ad7d745dfd1344f84531ac16   ----- Original Message -----\\n\\nFrom: \"Tim Cha...  \n",
       "emails/ham/02474.c76ffef81a2529389e6c3bbb172184d7   \\n\\n> Mr Tim Chapman, freelance gentleman of l...  \n",
       "emails/ham/02475.9277ee243e3f51fa53ed6be55798d360   Smith, Graham - Computing Technician wrote:\\n\\...  \n",
       "emails/ham/02476.de1d459426662492dd1235046b504c3d   Geege wrote a strange story:\\n\\n>I know a guy ...  \n",
       "emails/ham/02477.07b2069e9827cfd6f97d07eea2913d57   \\n\\n[Paul Moore]\\n\\n>    but let's walk before...  \n",
       "emails/ham/02478.40723f38488bddaf5a24ef2a91679c75   On Mon, Nov 25, 2002 at 06:54:49PM +0000, Phil...  \n",
       "emails/ham/02479.14365bcad3a60fcf24c5c1813f6291fb   \\n\\nI don't know how one can expect better and...  \n",
       "emails/ham/02480.72714df60c9be29d6f7985c777cbfc13   No, you need to learn how declarations work in...  \n",
       "emails/ham/02481.176b368fe4b90682f33647d65a8b97a3   \\n\\n    Richie> As I understand it, post-1.8x ...  \n",
       "emails/ham/02482.35c166ec6a85e108ad693ea43329762f   \\n\\n    Paul> I suspect the best answer is to ...  \n",
       "emails/ham/02483.ab1bee02c10ddecc0e86c39eaebc2996   The Times\\n\\n\\n\\n \\n\\n December 04, 2002 \\n\\n ...  \n",
       "emails/ham/02484.32a0bca2600788be144b93cae341efbf   I have to say I was surprised about Jacko dang...  \n",
       "emails/ham/02485.ba9aebbdbec0d9fecec595eeebe5db87   Now then I recently read a novel about exactly...  \n",
       "emails/ham/02486.bdf90e871b673fd14f47f3fe36622742   What the hell is it with these mini remote con...  \n",
       "emails/ham/02487.c2e725d509201dc30debb7bd94d07f5e   here, for your enjoyment, is a little somethin...  \n",
       "emails/ham/02488.68fed64ff8169f1505b74080bb7b6158   Sean O'Donnell wrote:\\n\\n> Doesnt answer your ...  \n",
       "emails/ham/02489.85c20a6f9d75714d9f44398baeddd416   Joe McNally writes:\\n\\n\\n\\n> What the hell is ...  \n",
       "emails/ham/02490.7be0f683db6994ddd8445cdcc2eb5042   http://news.bbc.co.uk/1/hi/world/europe/254182...  \n",
       "emails/ham/02491.c26245be2a5096fa86647d594561c511   Hi all.\\n\\nDoes anyone know how to set up dual...  \n",
       "emails/ham/02492.6aede44f654a1bbc60c95c7dd770e624   Carlos Luna wrote:\\n\\n\\n\\n>Hi all.\\n\\n>Does an...  \n",
       "emails/ham/02493.f9f2870094430b7db8b0c1052b302cf1   Hi all\\n\\n\\n\\n\\n\\nI have a prob when trying to...  \n",
       "emails/ham/02494.a14f2d3a9bef3f59aa419b03aee8f871   Tim Chapman writes:\\n\\n\\n\\n> http://news.bbc.c...  \n",
       "emails/ham/02495.5064946e77b3046873da91fc47656465   > I had the same problem when installing Win o...  \n",
       "emails/ham/02496.aae0c81581895acfe65323f344340856   Man killed 'trying to surf' on Tube train \\n\\n...  \n",
       "emails/ham/02497.60497db0a06c2132ec2374b2898084d3   Hi Gianni,\\n\\n\\n\\nA very good resource for thi...  \n",
       "emails/ham/02498.09835f512f156da210efb99fcc523e21   Gianni Ponzi wrote:\\n\\n> I have a prob when tr...  \n",
       "emails/ham/02499.b4af165650f138b10f9941f6cc5bce3c   Neale Pickett <neale@woozle.org> writes:\\n\\n\\n...  \n",
       "emails/ham/02500.05b3496ce7bca306bed0805425ec8621   \\n\\nHi,\\n\\n\\n\\nI think you need to give us a l...  \n",
       "\n",
       "[3000 rows x 2 columns]>"
      ]
     },
     "execution_count": 24,
     "metadata": {},
     "output_type": "execute_result"
    }
   ],
   "source": [
    "data.head"
   ]
  },
  {
   "cell_type": "code",
   "execution_count": 44,
   "metadata": {
    "collapsed": false
   },
   "outputs": [
    {
     "data": {
      "text/plain": [
       "MultinomialNB(alpha=1.0, class_prior=None, fit_prior=True)"
      ]
     },
     "execution_count": 44,
     "metadata": {},
     "output_type": "execute_result"
    }
   ],
   "source": [
    "# GENERAL\n",
    "vectorizer = CountVectorizer()\n",
    "counts = vectorizer.fit_transform(data['message'].values)\n",
    "\n",
    "classifier = MultinomialNB()\n",
    "targets = data['class'].values\n",
    "classifier.fit(counts, targets)\n",
    "\n",
    "# Cuando dice fit_prior=True esta ENNTRENADO"
   ]
  },
  {
   "cell_type": "code",
   "execution_count": 17,
   "metadata": {
    "collapsed": false
   },
   "outputs": [
    {
     "data": {
      "text/plain": [
       "'/Users/rene'"
      ]
     },
     "execution_count": 17,
     "metadata": {},
     "output_type": "execute_result"
    }
   ],
   "source": [
    "# train = 2500\n",
    "# target = 500 \n",
    "#\n",
    "# train = 2000\n",
    "# target = 1000\n",
    "#\n",
    "# train = 1500\n",
    "# target = 1500\n",
    "#\n",
    "# train = 1000\n",
    "# target = 2000\n",
    "#\n",
    "# Contar cuantos SPAM hay en cada una"
   ]
  },
  {
   "cell_type": "code",
   "execution_count": 36,
   "metadata": {
    "collapsed": false
   },
   "outputs": [
    {
     "data": {
      "text/plain": [
       "array(['spam', 'ham'], \n",
       "      dtype='<U4')"
      ]
     },
     "execution_count": 36,
     "metadata": {},
     "output_type": "execute_result"
    }
   ],
   "source": [
    "examples = ['Free Viagra now!!!', \"Hi Bob, how about a game of golf tomorrow?\"]\n",
    "example_counts = vectorizer.transform(examples)\n",
    "predictions = classifier.predict(example_counts)\n",
    "predictions"
   ]
  },
  {
   "cell_type": "code",
   "execution_count": 81,
   "metadata": {
    "collapsed": false
   },
   "outputs": [
    {
     "data": {
      "text/plain": [
       "ham    500\n",
       "dtype: int64"
      ]
     },
     "execution_count": 81,
     "metadata": {},
     "output_type": "execute_result"
    }
   ],
   "source": [
    "# train = 2500\n",
    "# test = 500\n",
    "# Aplicar un slidezing\n",
    "import pandas as pd\n",
    "\n",
    "# Funcion de corte junto con entrenamientos\n",
    "def checarFun(train, test):\n",
    "    #\n",
    "    vectorizer = CountVectorizer()\n",
    "    counts = vectorizer.fit_transform(data['message'][:train].values) # partir a 2500\n",
    "    # training\n",
    "    classifier = MultinomialNB()\n",
    "    targets = data['class'][:train].values # esta bien a 2500\n",
    "    classifier.fit(counts, targets)\n",
    "    \n",
    "    # prediction\n",
    "    examples = data['message'][test:]\n",
    "    example_counts = vectorizer.transform(examples)\n",
    "    predictions = classifier.predict(example_counts)\n",
    "    #\n",
    "    return pd.Series(predictions).value_counts()\n",
    "\n",
    "#\n",
    "\n",
    "checarFun(2500,-500)"
   ]
  },
  {
   "cell_type": "code",
   "execution_count": 47,
   "metadata": {
    "collapsed": false
   },
   "outputs": [],
   "source": [
    " # partir 500"
   ]
  },
  {
   "cell_type": "code",
   "execution_count": 82,
   "metadata": {
    "collapsed": false
   },
   "outputs": [
    {
     "data": {
      "text/plain": [
       "ham    2\n",
       "dtype: int64"
      ]
     },
     "execution_count": 82,
     "metadata": {},
     "output_type": "execute_result"
    }
   ],
   "source": [
    "checarFun(3000,-2)"
   ]
  },
  {
   "cell_type": "code",
   "execution_count": 77,
   "metadata": {
    "collapsed": false
   },
   "outputs": [
    {
     "data": {
      "text/plain": [
       "ham     966\n",
       "spam     34\n",
       "dtype: int64"
      ]
     },
     "execution_count": 77,
     "metadata": {},
     "output_type": "execute_result"
    }
   ],
   "source": [
    "checarFun(2000,-1000)"
   ]
  },
  {
   "cell_type": "code",
   "execution_count": 78,
   "metadata": {
    "collapsed": false
   },
   "outputs": [
    {
     "data": {
      "text/plain": [
       "ham     1456\n",
       "spam      44\n",
       "dtype: int64"
      ]
     },
     "execution_count": 78,
     "metadata": {},
     "output_type": "execute_result"
    }
   ],
   "source": [
    "checarFun(1500,-1500)"
   ]
  },
  {
   "cell_type": "code",
   "execution_count": 79,
   "metadata": {
    "collapsed": false
   },
   "outputs": [
    {
     "data": {
      "text/plain": [
       "ham     1962\n",
       "spam      38\n",
       "dtype: int64"
      ]
     },
     "execution_count": 79,
     "metadata": {},
     "output_type": "execute_result"
    }
   ],
   "source": [
    "checarFun(1000,-2000)"
   ]
  },
  {
   "cell_type": "code",
   "execution_count": 80,
   "metadata": {
    "collapsed": false
   },
   "outputs": [
    {
     "data": {
      "text/plain": [
       "ham     966\n",
       "spam     34\n",
       "dtype: int64"
      ]
     },
     "execution_count": 80,
     "metadata": {},
     "output_type": "execute_result"
    }
   ],
   "source": [
    "checarFun(2000,-1000)"
   ]
  },
  {
   "cell_type": "code",
   "execution_count": null,
   "metadata": {
    "collapsed": true
   },
   "outputs": [],
   "source": []
  }
 ],
 "metadata": {
  "kernelspec": {
   "display_name": "Python 3",
   "language": "python",
   "name": "python3"
  },
  "language_info": {
   "codemirror_mode": {
    "name": "ipython",
    "version": 3
   },
   "file_extension": ".py",
   "mimetype": "text/x-python",
   "name": "python",
   "nbconvert_exporter": "python",
   "pygments_lexer": "ipython3",
   "version": "3.6.0"
  }
 },
 "nbformat": 4,
 "nbformat_minor": 2
}
